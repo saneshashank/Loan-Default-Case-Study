{
 "cells": [
  {
   "cell_type": "markdown",
   "metadata": {},
   "source": [
    "# Gramener Case Study\n",
    "\n",
    "This is an Exploratory Data Analysis (EDA) case study to understand how consumer attributes and loan attributes influence the tendency of default.\n",
    "\n",
    "**Business Objectives**\n",
    "This company is the largest online loan marketplace, facilitating personal loans, business loans, and financing of medical procedures. Borrowers can easily access lower interest rate loans through a fast online interface. \n",
    "\n",
    "Like most other lending companies, lending loans to ‘risky’ applicants is the largest source of financial loss (called credit loss). The credit loss is the amount of money lost by the lender when the borrower refuses to pay or runs away with the money owed. In other words, borrowers who default cause the largest amount of loss to the lenders. In this case, the customers labelled as **'charged-off'** are the **'defaulters'**. \n",
    "\n",
    "**If one is able to identify these risky loan applicants, then such loans can be reduced thereby cutting down the amount of credit loss. Identification of such applicants using EDA is the aim of this case study.**\n",
    " \n",
    "In other words, the company wants to **understand the driving factors (or driver variables) behind loan default**, i.e. the variables which are strong indicators of default.  The company can utilise this knowledge for its portfolio and risk assessment. "
   ]
  },
  {
   "cell_type": "markdown",
   "metadata": {},
   "source": [
    "## Loan application decisions\n",
    "\n",
    "1. Loan accepted: If the company approves the loan, there are 3 possible scenarios described below:\n",
    "   * **Fully paid**: Applicant has fully paid the loan (the principal and the interest rate)\n",
    "   * **Current**: Applicant is in the process of paying the instalments, i.e. the tenure of the loan is not yet completed.These candidates are not labelled as 'defaulted'. \n",
    "   * **Charged-off**: Applicant has not paid the instalments in due time for a long period of time, i.e. he/she has defaulted on the loan \n",
    "\n",
    "2. Loan rejected: The company had rejected the loan (because the candidate does not meet their requirements etc.). Since the loan was rejected, there is no transactional history of those applicants with the company and so this data is not available with the company (and thus in this dataset)."
   ]
  },
  {
   "cell_type": "code",
   "execution_count": 1,
   "metadata": {
    "collapsed": true
   },
   "outputs": [],
   "source": [
    "# import the required libraries\n",
    "import numpy as np\n",
    "import pandas as pd\n",
    "import matplotlib.pyplot as plt\n",
    "import seaborn as sns\n",
    "import scipy as sc\n",
    "import math as m"
   ]
  },
  {
   "cell_type": "code",
   "execution_count": 2,
   "metadata": {
    "collapsed": false
   },
   "outputs": [],
   "source": [
    "# load the dataset\n",
    "# set column 47 (next_pymnt_d) as object (as we would otherwise get error)\n",
    "col_dtype = {'next_pymnt_d':'object'}\n",
    "\n",
    "loan_master = pd.read_csv('./loan.csv',dtype=col_dtype)"
   ]
  },
  {
   "cell_type": "markdown",
   "metadata": {},
   "source": [
    "## Data Cleaning"
   ]
  },
  {
   "cell_type": "code",
   "execution_count": 3,
   "metadata": {
    "collapsed": false
   },
   "outputs": [
    {
     "data": {
      "text/html": [
       "<div>\n",
       "<style>\n",
       "    .dataframe thead tr:only-child th {\n",
       "        text-align: right;\n",
       "    }\n",
       "\n",
       "    .dataframe thead th {\n",
       "        text-align: left;\n",
       "    }\n",
       "\n",
       "    .dataframe tbody tr th {\n",
       "        vertical-align: top;\n",
       "    }\n",
       "</style>\n",
       "<table border=\"1\" class=\"dataframe\">\n",
       "  <thead>\n",
       "    <tr style=\"text-align: right;\">\n",
       "      <th></th>\n",
       "      <th>id</th>\n",
       "      <th>member_id</th>\n",
       "      <th>loan_amnt</th>\n",
       "      <th>funded_amnt</th>\n",
       "      <th>funded_amnt_inv</th>\n",
       "      <th>term</th>\n",
       "      <th>int_rate</th>\n",
       "      <th>installment</th>\n",
       "      <th>grade</th>\n",
       "      <th>sub_grade</th>\n",
       "      <th>...</th>\n",
       "      <th>num_tl_90g_dpd_24m</th>\n",
       "      <th>num_tl_op_past_12m</th>\n",
       "      <th>pct_tl_nvr_dlq</th>\n",
       "      <th>percent_bc_gt_75</th>\n",
       "      <th>pub_rec_bankruptcies</th>\n",
       "      <th>tax_liens</th>\n",
       "      <th>tot_hi_cred_lim</th>\n",
       "      <th>total_bal_ex_mort</th>\n",
       "      <th>total_bc_limit</th>\n",
       "      <th>total_il_high_credit_limit</th>\n",
       "    </tr>\n",
       "  </thead>\n",
       "  <tbody>\n",
       "    <tr>\n",
       "      <th>0</th>\n",
       "      <td>1077501</td>\n",
       "      <td>1296599</td>\n",
       "      <td>5000</td>\n",
       "      <td>5000</td>\n",
       "      <td>4975.0</td>\n",
       "      <td>36 months</td>\n",
       "      <td>10.65%</td>\n",
       "      <td>162.87</td>\n",
       "      <td>B</td>\n",
       "      <td>B2</td>\n",
       "      <td>...</td>\n",
       "      <td>NaN</td>\n",
       "      <td>NaN</td>\n",
       "      <td>NaN</td>\n",
       "      <td>NaN</td>\n",
       "      <td>0.0</td>\n",
       "      <td>0.0</td>\n",
       "      <td>NaN</td>\n",
       "      <td>NaN</td>\n",
       "      <td>NaN</td>\n",
       "      <td>NaN</td>\n",
       "    </tr>\n",
       "    <tr>\n",
       "      <th>1</th>\n",
       "      <td>1077430</td>\n",
       "      <td>1314167</td>\n",
       "      <td>2500</td>\n",
       "      <td>2500</td>\n",
       "      <td>2500.0</td>\n",
       "      <td>60 months</td>\n",
       "      <td>15.27%</td>\n",
       "      <td>59.83</td>\n",
       "      <td>C</td>\n",
       "      <td>C4</td>\n",
       "      <td>...</td>\n",
       "      <td>NaN</td>\n",
       "      <td>NaN</td>\n",
       "      <td>NaN</td>\n",
       "      <td>NaN</td>\n",
       "      <td>0.0</td>\n",
       "      <td>0.0</td>\n",
       "      <td>NaN</td>\n",
       "      <td>NaN</td>\n",
       "      <td>NaN</td>\n",
       "      <td>NaN</td>\n",
       "    </tr>\n",
       "    <tr>\n",
       "      <th>2</th>\n",
       "      <td>1077175</td>\n",
       "      <td>1313524</td>\n",
       "      <td>2400</td>\n",
       "      <td>2400</td>\n",
       "      <td>2400.0</td>\n",
       "      <td>36 months</td>\n",
       "      <td>15.96%</td>\n",
       "      <td>84.33</td>\n",
       "      <td>C</td>\n",
       "      <td>C5</td>\n",
       "      <td>...</td>\n",
       "      <td>NaN</td>\n",
       "      <td>NaN</td>\n",
       "      <td>NaN</td>\n",
       "      <td>NaN</td>\n",
       "      <td>0.0</td>\n",
       "      <td>0.0</td>\n",
       "      <td>NaN</td>\n",
       "      <td>NaN</td>\n",
       "      <td>NaN</td>\n",
       "      <td>NaN</td>\n",
       "    </tr>\n",
       "    <tr>\n",
       "      <th>3</th>\n",
       "      <td>1076863</td>\n",
       "      <td>1277178</td>\n",
       "      <td>10000</td>\n",
       "      <td>10000</td>\n",
       "      <td>10000.0</td>\n",
       "      <td>36 months</td>\n",
       "      <td>13.49%</td>\n",
       "      <td>339.31</td>\n",
       "      <td>C</td>\n",
       "      <td>C1</td>\n",
       "      <td>...</td>\n",
       "      <td>NaN</td>\n",
       "      <td>NaN</td>\n",
       "      <td>NaN</td>\n",
       "      <td>NaN</td>\n",
       "      <td>0.0</td>\n",
       "      <td>0.0</td>\n",
       "      <td>NaN</td>\n",
       "      <td>NaN</td>\n",
       "      <td>NaN</td>\n",
       "      <td>NaN</td>\n",
       "    </tr>\n",
       "    <tr>\n",
       "      <th>4</th>\n",
       "      <td>1075358</td>\n",
       "      <td>1311748</td>\n",
       "      <td>3000</td>\n",
       "      <td>3000</td>\n",
       "      <td>3000.0</td>\n",
       "      <td>60 months</td>\n",
       "      <td>12.69%</td>\n",
       "      <td>67.79</td>\n",
       "      <td>B</td>\n",
       "      <td>B5</td>\n",
       "      <td>...</td>\n",
       "      <td>NaN</td>\n",
       "      <td>NaN</td>\n",
       "      <td>NaN</td>\n",
       "      <td>NaN</td>\n",
       "      <td>0.0</td>\n",
       "      <td>0.0</td>\n",
       "      <td>NaN</td>\n",
       "      <td>NaN</td>\n",
       "      <td>NaN</td>\n",
       "      <td>NaN</td>\n",
       "    </tr>\n",
       "  </tbody>\n",
       "</table>\n",
       "<p>5 rows × 111 columns</p>\n",
       "</div>"
      ],
      "text/plain": [
       "        id  member_id  loan_amnt  funded_amnt  funded_amnt_inv        term  \\\n",
       "0  1077501    1296599       5000         5000           4975.0   36 months   \n",
       "1  1077430    1314167       2500         2500           2500.0   60 months   \n",
       "2  1077175    1313524       2400         2400           2400.0   36 months   \n",
       "3  1076863    1277178      10000        10000          10000.0   36 months   \n",
       "4  1075358    1311748       3000         3000           3000.0   60 months   \n",
       "\n",
       "  int_rate  installment grade sub_grade            ...              \\\n",
       "0   10.65%       162.87     B        B2            ...               \n",
       "1   15.27%        59.83     C        C4            ...               \n",
       "2   15.96%        84.33     C        C5            ...               \n",
       "3   13.49%       339.31     C        C1            ...               \n",
       "4   12.69%        67.79     B        B5            ...               \n",
       "\n",
       "  num_tl_90g_dpd_24m num_tl_op_past_12m pct_tl_nvr_dlq  percent_bc_gt_75  \\\n",
       "0                NaN                NaN            NaN               NaN   \n",
       "1                NaN                NaN            NaN               NaN   \n",
       "2                NaN                NaN            NaN               NaN   \n",
       "3                NaN                NaN            NaN               NaN   \n",
       "4                NaN                NaN            NaN               NaN   \n",
       "\n",
       "  pub_rec_bankruptcies tax_liens tot_hi_cred_lim total_bal_ex_mort  \\\n",
       "0                  0.0       0.0             NaN               NaN   \n",
       "1                  0.0       0.0             NaN               NaN   \n",
       "2                  0.0       0.0             NaN               NaN   \n",
       "3                  0.0       0.0             NaN               NaN   \n",
       "4                  0.0       0.0             NaN               NaN   \n",
       "\n",
       "  total_bc_limit total_il_high_credit_limit  \n",
       "0            NaN                        NaN  \n",
       "1            NaN                        NaN  \n",
       "2            NaN                        NaN  \n",
       "3            NaN                        NaN  \n",
       "4            NaN                        NaN  \n",
       "\n",
       "[5 rows x 111 columns]"
      ]
     },
     "execution_count": 3,
     "metadata": {},
     "output_type": "execute_result"
    }
   ],
   "source": [
    "# let us inspect the data frame\n",
    "loan_master.head()"
   ]
  },
  {
   "cell_type": "code",
   "execution_count": 4,
   "metadata": {
    "collapsed": false
   },
   "outputs": [
    {
     "data": {
      "text/plain": [
       "id                                  0.000000\n",
       "member_id                           0.000000\n",
       "loan_amnt                           0.000000\n",
       "funded_amnt                         0.000000\n",
       "funded_amnt_inv                     0.000000\n",
       "term                                0.000000\n",
       "int_rate                            0.000000\n",
       "installment                         0.000000\n",
       "grade                               0.000000\n",
       "sub_grade                           0.000000\n",
       "emp_title                           6.188786\n",
       "emp_length                          0.000000\n",
       "home_ownership                      0.000000\n",
       "annual_inc                          0.000000\n",
       "verification_status                 0.000000\n",
       "issue_d                             0.000000\n",
       "loan_status                         0.000000\n",
       "pymnt_plan                          0.000000\n",
       "url                                 0.000000\n",
       "desc                               32.577989\n",
       "purpose                             0.000000\n",
       "title                               0.025178\n",
       "zip_code                            0.000000\n",
       "addr_state                          0.000000\n",
       "dti                                 0.000000\n",
       "delinq_2yrs                         0.000000\n",
       "earliest_cr_line                    0.000000\n",
       "inq_last_6mths                      0.000000\n",
       "mths_since_last_delinq             64.662487\n",
       "mths_since_last_record             92.985372\n",
       "                                     ...    \n",
       "mo_sin_old_rev_tl_op              100.000000\n",
       "mo_sin_rcnt_rev_tl_op             100.000000\n",
       "mo_sin_rcnt_tl                    100.000000\n",
       "mort_acc                          100.000000\n",
       "mths_since_recent_bc              100.000000\n",
       "mths_since_recent_bc_dlq          100.000000\n",
       "mths_since_recent_inq             100.000000\n",
       "mths_since_recent_revol_delinq    100.000000\n",
       "num_accts_ever_120_pd             100.000000\n",
       "num_actv_bc_tl                    100.000000\n",
       "num_actv_rev_tl                   100.000000\n",
       "num_bc_sats                       100.000000\n",
       "num_bc_tl                         100.000000\n",
       "num_il_tl                         100.000000\n",
       "num_op_rev_tl                     100.000000\n",
       "num_rev_accts                     100.000000\n",
       "num_rev_tl_bal_gt_0               100.000000\n",
       "num_sats                          100.000000\n",
       "num_tl_120dpd_2m                  100.000000\n",
       "num_tl_30dpd                      100.000000\n",
       "num_tl_90g_dpd_24m                100.000000\n",
       "num_tl_op_past_12m                100.000000\n",
       "pct_tl_nvr_dlq                    100.000000\n",
       "percent_bc_gt_75                  100.000000\n",
       "pub_rec_bankruptcies                1.754916\n",
       "tax_liens                           0.098195\n",
       "tot_hi_cred_lim                   100.000000\n",
       "total_bal_ex_mort                 100.000000\n",
       "total_bc_limit                    100.000000\n",
       "total_il_high_credit_limit        100.000000\n",
       "Length: 111, dtype: float64"
      ]
     },
     "execution_count": 4,
     "metadata": {},
     "output_type": "execute_result"
    }
   ],
   "source": [
    "# check the % of missing values for various columns\n",
    "100*loan_master.isnull().sum()/len(loan_master.index)"
   ]
  },
  {
   "cell_type": "markdown",
   "metadata": {},
   "source": [
    "From the above it is clear that there are multiple columns that have more than 90% (some even 100%) of data as missing.\n",
    "Let's remove such columns."
   ]
  },
  {
   "cell_type": "code",
   "execution_count": 5,
   "metadata": {
    "collapsed": true
   },
   "outputs": [],
   "source": [
    "# let us remove all such columns where more than 90% values are NaN\n",
    "# extract the column indexes for all such columns\n",
    "col_index  =100*loan_master.isnull().sum()/len(loan_master.index) > 90"
   ]
  },
  {
   "cell_type": "code",
   "execution_count": 6,
   "metadata": {
    "collapsed": false
   },
   "outputs": [
    {
     "data": {
      "text/plain": [
       "Index(['mths_since_last_record', 'next_pymnt_d', 'mths_since_last_major_derog',\n",
       "       'annual_inc_joint', 'dti_joint', 'verification_status_joint',\n",
       "       'tot_coll_amt', 'tot_cur_bal', 'open_acc_6m', 'open_il_6m',\n",
       "       'open_il_12m', 'open_il_24m', 'mths_since_rcnt_il', 'total_bal_il',\n",
       "       'il_util', 'open_rv_12m', 'open_rv_24m', 'max_bal_bc', 'all_util',\n",
       "       'total_rev_hi_lim', 'inq_fi', 'total_cu_tl', 'inq_last_12m',\n",
       "       'acc_open_past_24mths', 'avg_cur_bal', 'bc_open_to_buy', 'bc_util',\n",
       "       'mo_sin_old_il_acct', 'mo_sin_old_rev_tl_op', 'mo_sin_rcnt_rev_tl_op',\n",
       "       'mo_sin_rcnt_tl', 'mort_acc', 'mths_since_recent_bc',\n",
       "       'mths_since_recent_bc_dlq', 'mths_since_recent_inq',\n",
       "       'mths_since_recent_revol_delinq', 'num_accts_ever_120_pd',\n",
       "       'num_actv_bc_tl', 'num_actv_rev_tl', 'num_bc_sats', 'num_bc_tl',\n",
       "       'num_il_tl', 'num_op_rev_tl', 'num_rev_accts', 'num_rev_tl_bal_gt_0',\n",
       "       'num_sats', 'num_tl_120dpd_2m', 'num_tl_30dpd', 'num_tl_90g_dpd_24m',\n",
       "       'num_tl_op_past_12m', 'pct_tl_nvr_dlq', 'percent_bc_gt_75',\n",
       "       'tot_hi_cred_lim', 'total_bal_ex_mort', 'total_bc_limit',\n",
       "       'total_il_high_credit_limit'],\n",
       "      dtype='object')"
      ]
     },
     "execution_count": 6,
     "metadata": {},
     "output_type": "execute_result"
    }
   ],
   "source": [
    "# let us check the columns\n",
    "loan_master.columns[col_index]"
   ]
  },
  {
   "cell_type": "code",
   "execution_count": 7,
   "metadata": {
    "collapsed": false
   },
   "outputs": [],
   "source": [
    "# drop such columns\n",
    "loan_master.drop(loan_master.columns[col_index],axis=1,inplace=True)"
   ]
  },
  {
   "cell_type": "code",
   "execution_count": 8,
   "metadata": {
    "collapsed": false
   },
   "outputs": [
    {
     "data": {
      "text/plain": [
       "55"
      ]
     },
     "execution_count": 8,
     "metadata": {},
     "output_type": "execute_result"
    }
   ],
   "source": [
    "# let us check how many columns are remaining\n",
    "len(loan_master.columns)"
   ]
  },
  {
   "cell_type": "code",
   "execution_count": 9,
   "metadata": {
    "collapsed": false,
    "scrolled": true
   },
   "outputs": [
    {
     "data": {
      "text/plain": [
       "id                             0.000000\n",
       "member_id                      0.000000\n",
       "loan_amnt                      0.000000\n",
       "funded_amnt                    0.000000\n",
       "funded_amnt_inv                0.000000\n",
       "term                           0.000000\n",
       "int_rate                       0.000000\n",
       "installment                    0.000000\n",
       "grade                          0.000000\n",
       "sub_grade                      0.000000\n",
       "emp_title                      6.188786\n",
       "emp_length                     0.000000\n",
       "home_ownership                 0.000000\n",
       "annual_inc                     0.000000\n",
       "verification_status            0.000000\n",
       "issue_d                        0.000000\n",
       "loan_status                    0.000000\n",
       "pymnt_plan                     0.000000\n",
       "url                            0.000000\n",
       "desc                          32.577989\n",
       "purpose                        0.000000\n",
       "title                          0.025178\n",
       "zip_code                       0.000000\n",
       "addr_state                     0.000000\n",
       "dti                            0.000000\n",
       "delinq_2yrs                    0.000000\n",
       "earliest_cr_line               0.000000\n",
       "inq_last_6mths                 0.000000\n",
       "mths_since_last_delinq        64.662487\n",
       "open_acc                       0.000000\n",
       "pub_rec                        0.000000\n",
       "revol_bal                      0.000000\n",
       "revol_util                     0.125891\n",
       "total_acc                      0.000000\n",
       "initial_list_status            0.000000\n",
       "out_prncp                      0.000000\n",
       "out_prncp_inv                  0.000000\n",
       "total_pymnt                    0.000000\n",
       "total_pymnt_inv                0.000000\n",
       "total_rec_prncp                0.000000\n",
       "total_rec_int                  0.000000\n",
       "total_rec_late_fee             0.000000\n",
       "recoveries                     0.000000\n",
       "collection_recovery_fee        0.000000\n",
       "last_pymnt_d                   0.178765\n",
       "last_pymnt_amnt                0.000000\n",
       "last_credit_pull_d             0.005036\n",
       "collections_12_mths_ex_med     0.140998\n",
       "policy_code                    0.000000\n",
       "application_type               0.000000\n",
       "acc_now_delinq                 0.000000\n",
       "chargeoff_within_12_mths       0.140998\n",
       "delinq_amnt                    0.000000\n",
       "pub_rec_bankruptcies           1.754916\n",
       "tax_liens                      0.098195\n",
       "dtype: float64"
      ]
     },
     "execution_count": 9,
     "metadata": {},
     "output_type": "execute_result"
    }
   ],
   "source": [
    "# let's check the proportion of missing values again\n",
    "100*loan_master.isnull().sum()/len(loan_master.index)"
   ]
  },
  {
   "cell_type": "markdown",
   "metadata": {},
   "source": [
    "As part of data cleaning we can also remove columns which have static or zero variation values, as they are unlikely to influence our analysis with respect to loan default."
   ]
  },
  {
   "cell_type": "code",
   "execution_count": 10,
   "metadata": {
    "collapsed": false
   },
   "outputs": [],
   "source": [
    "# we observe from csv that there are some additional columns that could be removed as they\n",
    "# have almost no variation or fixed values, plus some additional values like title,emp_title and desc are\n",
    "# not very uniform and hence can be removed.\n",
    "ls_remove_cols = ['pymnt_plan','url','initial_list_status','policy_code','application_type','acc_now_delinq',\n",
    "                  'delinq_amnt','title','desc','pymnt_plan','policy_code',\n",
    "                  'application_type','acc_now_delinq','delinq_amnt','tax_liens',\n",
    "                  'collections_12_mths_ex_med','chargeoff_within_12_mths','emp_title'        \n",
    "                  ]"
   ]
  },
  {
   "cell_type": "code",
   "execution_count": 11,
   "metadata": {
    "collapsed": false
   },
   "outputs": [],
   "source": [
    "loan_master.drop(ls_remove_cols,axis=1,inplace=True)"
   ]
  },
  {
   "cell_type": "code",
   "execution_count": 12,
   "metadata": {
    "collapsed": false
   },
   "outputs": [
    {
     "name": "stdout",
     "output_type": "stream",
     "text": [
      "<class 'pandas.core.frame.DataFrame'>\n",
      "RangeIndex: 39717 entries, 0 to 39716\n",
      "Data columns (total 42 columns):\n",
      "id                         39717 non-null int64\n",
      "member_id                  39717 non-null int64\n",
      "loan_amnt                  39717 non-null int64\n",
      "funded_amnt                39717 non-null int64\n",
      "funded_amnt_inv            39717 non-null float64\n",
      "term                       39717 non-null object\n",
      "int_rate                   39717 non-null object\n",
      "installment                39717 non-null float64\n",
      "grade                      39717 non-null object\n",
      "sub_grade                  39717 non-null object\n",
      "emp_length                 39717 non-null object\n",
      "home_ownership             39717 non-null object\n",
      "annual_inc                 39717 non-null float64\n",
      "verification_status        39717 non-null object\n",
      "issue_d                    39717 non-null object\n",
      "loan_status                39717 non-null object\n",
      "purpose                    39717 non-null object\n",
      "zip_code                   39717 non-null object\n",
      "addr_state                 39717 non-null object\n",
      "dti                        39717 non-null float64\n",
      "delinq_2yrs                39717 non-null int64\n",
      "earliest_cr_line           39717 non-null object\n",
      "inq_last_6mths             39717 non-null int64\n",
      "mths_since_last_delinq     14035 non-null float64\n",
      "open_acc                   39717 non-null int64\n",
      "pub_rec                    39717 non-null int64\n",
      "revol_bal                  39717 non-null int64\n",
      "revol_util                 39667 non-null object\n",
      "total_acc                  39717 non-null int64\n",
      "out_prncp                  39717 non-null float64\n",
      "out_prncp_inv              39717 non-null float64\n",
      "total_pymnt                39717 non-null float64\n",
      "total_pymnt_inv            39717 non-null float64\n",
      "total_rec_prncp            39717 non-null float64\n",
      "total_rec_int              39717 non-null float64\n",
      "total_rec_late_fee         39717 non-null float64\n",
      "recoveries                 39717 non-null float64\n",
      "collection_recovery_fee    39717 non-null float64\n",
      "last_pymnt_d               39646 non-null object\n",
      "last_pymnt_amnt            39717 non-null float64\n",
      "last_credit_pull_d         39715 non-null object\n",
      "pub_rec_bankruptcies       39020 non-null float64\n",
      "dtypes: float64(16), int64(10), object(16)\n",
      "memory usage: 12.7+ MB\n"
     ]
    }
   ],
   "source": [
    "# let us check the columns remaining.\n",
    "loan_master.info()"
   ]
  },
  {
   "cell_type": "markdown",
   "metadata": {},
   "source": [
    "Let us check proportion of values where loan_status is 'Current'"
   ]
  },
  {
   "cell_type": "code",
   "execution_count": 13,
   "metadata": {
    "collapsed": false
   },
   "outputs": [
    {
     "data": {
      "text/plain": [
       "2.8703074250321023"
      ]
     },
     "execution_count": 13,
     "metadata": {},
     "output_type": "execute_result"
    }
   ],
   "source": [
    "# proportion of current values\n",
    "100*len(loan_master[(loan_master.loan_status=='Current')])/len(loan_master)"
   ]
  },
  {
   "cell_type": "markdown",
   "metadata": {},
   "source": [
    "as the % of records with 'Current' status is very low we will remove these rows from our data set."
   ]
  },
  {
   "cell_type": "code",
   "execution_count": 14,
   "metadata": {
    "collapsed": true
   },
   "outputs": [],
   "source": [
    "loan_master = loan_master[~(loan_master.loan_status=='Current')]"
   ]
  },
  {
   "cell_type": "code",
   "execution_count": 15,
   "metadata": {
    "collapsed": false
   },
   "outputs": [],
   "source": [
    "# we observe that term column contains leading spaces, let's remove those\n",
    "loan_master.term = loan_master.term.str.strip()"
   ]
  },
  {
   "cell_type": "code",
   "execution_count": 16,
   "metadata": {
    "collapsed": true
   },
   "outputs": [],
   "source": [
    "# extract the term value and convert to integer\n",
    "loan_master.term = loan_master.term.apply(lambda x: int(x[0:2]))"
   ]
  },
  {
   "cell_type": "code",
   "execution_count": 17,
   "metadata": {
    "collapsed": true
   },
   "outputs": [],
   "source": [
    "# convert int_rate (interest rate to number)\n",
    "loan_master.int_rate = loan_master.int_rate.apply(lambda x:x if pd.isnull(x) else x.split('%')[0])\n",
    "loan_master.int_rate = loan_master.int_rate.astype('float')"
   ]
  },
  {
   "cell_type": "code",
   "execution_count": 18,
   "metadata": {
    "collapsed": false
   },
   "outputs": [
    {
     "data": {
      "text/plain": [
       "Fully Paid     32950\n",
       "Charged Off     5627\n",
       "Name: loan_status, dtype: int64"
      ]
     },
     "execution_count": 18,
     "metadata": {},
     "output_type": "execute_result"
    }
   ],
   "source": [
    "# let's check the number of defaults and fully paid values\n",
    "loan_master.loan_status.value_counts()"
   ]
  },
  {
   "cell_type": "markdown",
   "metadata": {},
   "source": [
    "## Business Understanding\n",
    "\n",
    "We researched the business cycle for lending and came to the understanding that the variables involved in lending cycle can be divided into three distinct categories as listed below:\n",
    "\n",
    "* **Pre-Loan variables**: these are customer profile variables which are available during loan application phase. Some of these might indicate whether a customer is likely to default or not. These are the variables which we are going to identify and focus on during this EDA case study.\n",
    "\n",
    "* **Loan variables**: these are the variables which typically lender controls and can adjust based on the profile of loan applicant. These variables are loan amount (that is finally approved), interest rate, term and monthly repayment amount. It is clear from business understanding that these variables should not be considered as driver variables for default.\n",
    "\n",
    "* **Post-Loan variables**: these are variables which are generated after the loan has been granted to loan applicant and when loan cycle has started. These typically include payments, payments missed etc. It is clear from business understanding that these variables should not be considered as driver variables for default as these cannot indicate the likelihood of default at loan application stage.\n",
    "\n",
    "We will validate our findings from data analysis with above business understanding to verify that the drivers that we find are actual drivers of loan default."
   ]
  },
  {
   "cell_type": "markdown",
   "metadata": {},
   "source": [
    "## Data Understanding and Data Analysis\n",
    "\n",
    "In section below we would do analysis of all the variables present in the dataset one by one to find out which variables can have an impact of tendency to default for a loan applicant.\n",
    "\n",
    "The basic strategy for analysis would be the following:\n",
    "* establish baseline for average default proportion in data.\n",
    "* do a univariate analysis to check distribution of variable (look if number of values are too low for certain range, in which case we cannot have conclusive evidence of influence over default).\n",
    "* do a segmented univariate analysis to find if there is significant impact on proportion of default.\n",
    "* do a bivariate analysis to check for correlation between variables and other interesting patterns.\n",
    "* In above steps create derived metrics wherever required.\n",
    "* finally analyze the findings from above steps in light of our business understanding of lending cycle to decide if the variable is actually a driver variable for default or not.\n",
    "\n"
   ]
  },
  {
   "cell_type": "markdown",
   "metadata": {},
   "source": [
    "To simplify our analysis let us create a **derived metric 'loan_default'** with values as 1 and 0 to indicate if loan is default or not respectively."
   ]
  },
  {
   "cell_type": "code",
   "execution_count": 19,
   "metadata": {
    "collapsed": true
   },
   "outputs": [],
   "source": [
    "# let's define a function to return 1/0 based on whether account is Charged Off or not\n",
    "def isLoanDefault(x):\n",
    "    if x == \"Charged Off\":\n",
    "        return 1\n",
    "    else:\n",
    "        return 0"
   ]
  },
  {
   "cell_type": "code",
   "execution_count": 20,
   "metadata": {
    "collapsed": true
   },
   "outputs": [],
   "source": [
    "# lets create a derived metric to specify loan default\n",
    "loan_master[\"loan_default\"] = loan_master.loan_status.apply(isLoanDefault)"
   ]
  },
  {
   "cell_type": "code",
   "execution_count": 21,
   "metadata": {
    "collapsed": false
   },
   "outputs": [
    {
     "name": "stdout",
     "output_type": "stream",
     "text": [
      "0.146\n"
     ]
    }
   ],
   "source": [
    "# lets check mean for loan default, this will guide us to identify features which has more variation between \n",
    "# minimum and maximum means for different values.\n",
    "default_mean =round(loan_master.loan_default.mean(),3)\n",
    "print(default_mean)"
   ]
  },
  {
   "cell_type": "code",
   "execution_count": 22,
   "metadata": {
    "collapsed": false
   },
   "outputs": [
    {
     "name": "stdout",
     "output_type": "stream",
     "text": [
      "0.35\n"
     ]
    }
   ],
   "source": [
    "std = round(loan_master.loan_default.std(),2)\n",
    "print(std)"
   ]
  },
  {
   "cell_type": "code",
   "execution_count": 23,
   "metadata": {
    "collapsed": false
   },
   "outputs": [
    {
     "name": "stdout",
     "output_type": "stream",
     "text": [
      "0.00349273419844\n"
     ]
    }
   ],
   "source": [
    "# find the value to calculate UCV and LCV based on t statistic.\n",
    "delta = (sc.stats.t.ppf(1-0.025, len(loan_master.loan_default)-1))*std*(1/m.sqrt(len(loan_master.loan_default)))\n",
    "print(delta)"
   ]
  },
  {
   "cell_type": "code",
   "execution_count": 24,
   "metadata": {
    "collapsed": false
   },
   "outputs": [
    {
     "name": "stdout",
     "output_type": "stream",
     "text": [
      "UCV:  0.1495\n",
      "LCV:  0.1425\n"
     ]
    }
   ],
   "source": [
    "print('UCV: ',round(default_mean+delta,4))\n",
    "print('LCV: ',round(default_mean-delta,4))"
   ]
  },
  {
   "cell_type": "markdown",
   "metadata": {
    "collapsed": true
   },
   "source": [
    "The above will serve as a baseline for looking at variables that are drivers for default. This indicates that around 15% is the average default rate based on data provided."
   ]
  },
  {
   "cell_type": "markdown",
   "metadata": {},
   "source": [
    "Let us first check the correlation between variables so that it gives us an idea of which quantitative variables are strongly correlated to each other."
   ]
  },
  {
   "cell_type": "code",
   "execution_count": 25,
   "metadata": {
    "collapsed": true
   },
   "outputs": [],
   "source": [
    "ls_quant = ['revol_util','dti','loan_amnt','funded_amnt','funded_amnt_inv'\n",
    "            ,'int_rate','installment','annual_inc','total_pymnt','total_pymnt_inv','total_rec_prncp'\n",
    "            ,'total_rec_int','revol_bal','total_acc','term','total_rec_late_fee','recoveries',\n",
    "            'collection_recovery_fee']"
   ]
  },
  {
   "cell_type": "code",
   "execution_count": 26,
   "metadata": {
    "collapsed": false
   },
   "outputs": [
    {
     "data": {
      "image/png": "[encoded data removed]",
      "text/plain": [
       "<matplotlib.figure.Figure at 0xaf0cef0>"
      ]
     },
     "metadata": {},
     "output_type": "display_data"
    }
   ],
   "source": [
    "# let us create a correlation matrix heatmap among quantitative varibales\n",
    "plt.figure(figsize=(10, 8))\n",
    "sns.heatmap(loan_master[ls_quant].corr(), cmap=\"YlGnBu\")\n",
    "plt.show()"
   ]
  },
  {
   "cell_type": "markdown",
   "metadata": {},
   "source": [
    "We can clearly see from above that the following group of variables are highly correlated:\n",
    "1. loan_amnt,funded_amnt,funded_amnt_inv,installment\n",
    "2. total_pymnt,total_pymnt_inv,total_rec_prncp,total_rec_int\n",
    "3. groups 1 and 2 above are also highly correlated, which makes sense from business understanding point of view as higher loan amount would mean higher payments and vice versa.\n",
    "4. recoveries and collection_recovery_fee\n",
    "5. There is also correlation between int_rate, term and total_rec_int"
   ]
  },
  {
   "cell_type": "markdown",
   "metadata": {},
   "source": [
    "From business understanding we know that there are lot of **Post-Loan variables** which we would not be helpful in tendency for default, following are such variables:\n",
    "\n",
    "* out_prncp: Remaining outstanding principal for total amount funded.\n",
    "* out_prncp_inv: Remaining outstanding principal for portion of total amount funded by investors.\n",
    "* funded_amnt_inv: The total amount committed by investors for that loan at that point in time.\n",
    "* funded_amnt: The total amount committed by investors for that loan at that point in time.\n",
    "* total_rec_prncp: Principal received to date.\n",
    "* total_rec_int: Interest received to date.\n",
    "* total_pymnt: Payments received to date for total amount funded.\n",
    "* total_pymnt_inv: Payments received to date for portion of total amount funded by investors.\n",
    "* total_rec_late_fee: Late fees received to date\n",
    "* recoveries: post charge off gross recovery.\n",
    "* collection_recovery_fee: post charge off collection fee.\n",
    "* last_pymnt_d: Last month payment was received.\n",
    "* last_pymnt_amnt: Last total payment amount received.\n",
    "* last_credit_pull_d: The most recent month LC pulled credit for this loan.\n",
    "* issue_d: The month which the loan was funded.\n",
    "* installment: The monthly payment owed by the borrower if the loan originates.\n"
   ]
  },
  {
   "cell_type": "code",
   "execution_count": 27,
   "metadata": {
    "collapsed": true
   },
   "outputs": [],
   "source": [
    "# let us collect all such Post-Loan variables\n",
    "ls_remove_cols = ['out_prncp','out_prncp_inv', 'funded_amnt_inv','funded_amnt','total_rec_prncp',\n",
    "                  'total_rec_int','total_pymnt','total_pymnt_inv','total_rec_late_fee','recoveries',\n",
    "                  'collection_recovery_fee','last_pymnt_d','last_pymnt_amnt','last_credit_pull_d','issue_d'\n",
    "                  ,'installment']"
   ]
  },
  {
   "cell_type": "code",
   "execution_count": 28,
   "metadata": {
    "collapsed": true
   },
   "outputs": [],
   "source": [
    "# let us remove all Post-Loan variables from data set\n",
    "loan_master.drop(ls_remove_cols,axis=1,inplace=True)"
   ]
  },
  {
   "cell_type": "code",
   "execution_count": 29,
   "metadata": {
    "collapsed": false
   },
   "outputs": [
    {
     "name": "stdout",
     "output_type": "stream",
     "text": [
      "<class 'pandas.core.frame.DataFrame'>\n",
      "Int64Index: 38577 entries, 0 to 39716\n",
      "Data columns (total 27 columns):\n",
      "id                        38577 non-null int64\n",
      "member_id                 38577 non-null int64\n",
      "loan_amnt                 38577 non-null int64\n",
      "term                      38577 non-null int64\n",
      "int_rate                  38577 non-null float64\n",
      "grade                     38577 non-null object\n",
      "sub_grade                 38577 non-null object\n",
      "emp_length                38577 non-null object\n",
      "home_ownership            38577 non-null object\n",
      "annual_inc                38577 non-null float64\n",
      "verification_status       38577 non-null object\n",
      "loan_status               38577 non-null object\n",
      "purpose                   38577 non-null object\n",
      "zip_code                  38577 non-null object\n",
      "addr_state                38577 non-null object\n",
      "dti                       38577 non-null float64\n",
      "delinq_2yrs               38577 non-null int64\n",
      "earliest_cr_line          38577 non-null object\n",
      "inq_last_6mths            38577 non-null int64\n",
      "mths_since_last_delinq    13672 non-null float64\n",
      "open_acc                  38577 non-null int64\n",
      "pub_rec                   38577 non-null int64\n",
      "revol_bal                 38577 non-null int64\n",
      "revol_util                38527 non-null object\n",
      "total_acc                 38577 non-null int64\n",
      "pub_rec_bankruptcies      37880 non-null float64\n",
      "loan_default              38577 non-null int64\n",
      "dtypes: float64(5), int64(11), object(11)\n",
      "memory usage: 8.2+ MB\n"
     ]
    }
   ],
   "source": [
    "# let us check the variables which we would focus for analysis.\n",
    "loan_master.info()"
   ]
  },
  {
   "cell_type": "markdown",
   "metadata": {
    "collapsed": true
   },
   "source": [
    "We will define a function below to do a **Segmented Univariate Analysis** for each variable to find the proportion (percentage)\n",
    "of defaults for each variable compared to total number of records for that variable.\n"
   ]
  },
  {
   "cell_type": "code",
   "execution_count": 30,
   "metadata": {
    "collapsed": true
   },
   "outputs": [],
   "source": [
    "# let us define a new function to find the grouped proportions % of 'Charged Off' accounts\n",
    "def find_grouped_proportion(x):\n",
    "    gp =100*loan_master.groupby([x,'loan_status'])['id'].count()/loan_master.groupby([x])['id'].count()\n",
    "    gp = gp.reset_index()\n",
    "    gp.rename(columns={'id':'proportion(%)'},inplace=True)\n",
    "    return gp[gp.loan_status=='Charged Off'].sort_values(by='proportion(%)',ascending=False)"
   ]
  },
  {
   "cell_type": "markdown",
   "metadata": {},
   "source": [
    "Below we will do a step by step analysis of each of the variables present in data set."
   ]
  },
  {
   "cell_type": "markdown",
   "metadata": {},
   "source": [
    "### term: *variable to indicate the loan term.*"
   ]
  },
  {
   "cell_type": "code",
   "execution_count": 31,
   "metadata": {
    "collapsed": false
   },
   "outputs": [
    {
     "data": {
      "text/html": [
       "<div>\n",
       "<style>\n",
       "    .dataframe thead tr:only-child th {\n",
       "        text-align: right;\n",
       "    }\n",
       "\n",
       "    .dataframe thead th {\n",
       "        text-align: left;\n",
       "    }\n",
       "\n",
       "    .dataframe tbody tr th {\n",
       "        vertical-align: top;\n",
       "    }\n",
       "</style>\n",
       "<table border=\"1\" class=\"dataframe\">\n",
       "  <thead>\n",
       "    <tr style=\"text-align: right;\">\n",
       "      <th></th>\n",
       "      <th>term</th>\n",
       "      <th>loan_status</th>\n",
       "      <th>proportion(%)</th>\n",
       "    </tr>\n",
       "  </thead>\n",
       "  <tbody>\n",
       "    <tr>\n",
       "      <th>2</th>\n",
       "      <td>60</td>\n",
       "      <td>Charged Off</td>\n",
       "      <td>25.313785</td>\n",
       "    </tr>\n",
       "    <tr>\n",
       "      <th>0</th>\n",
       "      <td>36</td>\n",
       "      <td>Charged Off</td>\n",
       "      <td>11.090872</td>\n",
       "    </tr>\n",
       "  </tbody>\n",
       "</table>\n",
       "</div>"
      ],
      "text/plain": [
       "   term  loan_status  proportion(%)\n",
       "2    60  Charged Off      25.313785\n",
       "0    36  Charged Off      11.090872"
      ]
     },
     "execution_count": 31,
     "metadata": {},
     "output_type": "execute_result"
    }
   ],
   "source": [
    "# let us check the distribution of defualt accounts based on term.\n",
    "find_grouped_proportion('term')"
   ]
  },
  {
   "cell_type": "raw",
   "metadata": {},
   "source": [
    "We see from above that approx. 25% of term 60 accounts are default while the % is lower 11% for 36 months term."
   ]
  },
  {
   "cell_type": "code",
   "execution_count": 32,
   "metadata": {
    "collapsed": false
   },
   "outputs": [
    {
     "data": {
      "image/png": "[encoded data removed]",
      "text/plain": [
       "<matplotlib.figure.Figure at 0xb05b278>"
      ]
     },
     "metadata": {},
     "output_type": "display_data"
    }
   ],
   "source": [
    "# lets start analysis one categorcal variable at a time and check the mean deviation from 0.15 which is for overall data\n",
    "sns.barplot(x='term',y='loan_default',data=loan_master,estimator=np.mean)\n",
    "plt.show()"
   ]
  },
  {
   "cell_type": "markdown",
   "metadata": {},
   "source": [
    "We do see from analysis that tendency to default increase with increase in 'term' of loan, however we cannot consider 'term' as a driver variable as from our business understanding we know that term is a **Loan Variable** which the lender can adjust based on risk profile of borrower. So a higher default rate for greater term simply suggests that LC has adjusted their term for these loans."
   ]
  },
  {
   "cell_type": "markdown",
   "metadata": {},
   "source": [
    "### purpose: variable to indicate the purpose for which loan was applied for."
   ]
  },
  {
   "cell_type": "code",
   "execution_count": 33,
   "metadata": {
    "collapsed": false
   },
   "outputs": [
    {
     "data": {
      "image/png": "[encoded data removed]",
      "text/plain": [
       "<matplotlib.figure.Figure at 0xb08a2e8>"
      ]
     },
     "metadata": {},
     "output_type": "display_data"
    }
   ],
   "source": [
    "# let us first check the distribution of 'purpose' variable in provided data set.\n",
    "plt.figure(figsize=(10,12))\n",
    "sns.countplot(y=loan_master.purpose)\n",
    "plt.show()"
   ]
  },
  {
   "cell_type": "code",
   "execution_count": 34,
   "metadata": {
    "collapsed": false
   },
   "outputs": [
    {
     "data": {
      "text/html": [
       "<div>\n",
       "<style>\n",
       "    .dataframe thead tr:only-child th {\n",
       "        text-align: right;\n",
       "    }\n",
       "\n",
       "    .dataframe thead th {\n",
       "        text-align: left;\n",
       "    }\n",
       "\n",
       "    .dataframe tbody tr th {\n",
       "        vertical-align: top;\n",
       "    }\n",
       "</style>\n",
       "<table border=\"1\" class=\"dataframe\">\n",
       "  <thead>\n",
       "    <tr style=\"text-align: right;\">\n",
       "      <th></th>\n",
       "      <th>purpose</th>\n",
       "      <th>loan_status</th>\n",
       "      <th>proportion(%)</th>\n",
       "    </tr>\n",
       "  </thead>\n",
       "  <tbody>\n",
       "    <tr>\n",
       "      <th>22</th>\n",
       "      <td>small_business</td>\n",
       "      <td>Charged Off</td>\n",
       "      <td>27.080958</td>\n",
       "    </tr>\n",
       "    <tr>\n",
       "      <th>20</th>\n",
       "      <td>renewable_energy</td>\n",
       "      <td>Charged Off</td>\n",
       "      <td>18.627451</td>\n",
       "    </tr>\n",
       "    <tr>\n",
       "      <th>6</th>\n",
       "      <td>educational</td>\n",
       "      <td>Charged Off</td>\n",
       "      <td>17.230769</td>\n",
       "    </tr>\n",
       "    <tr>\n",
       "      <th>18</th>\n",
       "      <td>other</td>\n",
       "      <td>Charged Off</td>\n",
       "      <td>16.377749</td>\n",
       "    </tr>\n",
       "    <tr>\n",
       "      <th>10</th>\n",
       "      <td>house</td>\n",
       "      <td>Charged Off</td>\n",
       "      <td>16.076294</td>\n",
       "    </tr>\n",
       "    <tr>\n",
       "      <th>16</th>\n",
       "      <td>moving</td>\n",
       "      <td>Charged Off</td>\n",
       "      <td>15.972222</td>\n",
       "    </tr>\n",
       "    <tr>\n",
       "      <th>14</th>\n",
       "      <td>medical</td>\n",
       "      <td>Charged Off</td>\n",
       "      <td>15.565345</td>\n",
       "    </tr>\n",
       "    <tr>\n",
       "      <th>4</th>\n",
       "      <td>debt_consolidation</td>\n",
       "      <td>Charged Off</td>\n",
       "      <td>15.325395</td>\n",
       "    </tr>\n",
       "    <tr>\n",
       "      <th>24</th>\n",
       "      <td>vacation</td>\n",
       "      <td>Charged Off</td>\n",
       "      <td>14.133333</td>\n",
       "    </tr>\n",
       "    <tr>\n",
       "      <th>8</th>\n",
       "      <td>home_improvement</td>\n",
       "      <td>Charged Off</td>\n",
       "      <td>12.069565</td>\n",
       "    </tr>\n",
       "    <tr>\n",
       "      <th>2</th>\n",
       "      <td>credit_card</td>\n",
       "      <td>Charged Off</td>\n",
       "      <td>10.781778</td>\n",
       "    </tr>\n",
       "    <tr>\n",
       "      <th>0</th>\n",
       "      <td>car</td>\n",
       "      <td>Charged Off</td>\n",
       "      <td>10.673783</td>\n",
       "    </tr>\n",
       "    <tr>\n",
       "      <th>26</th>\n",
       "      <td>wedding</td>\n",
       "      <td>Charged Off</td>\n",
       "      <td>10.367171</td>\n",
       "    </tr>\n",
       "    <tr>\n",
       "      <th>12</th>\n",
       "      <td>major_purchase</td>\n",
       "      <td>Charged Off</td>\n",
       "      <td>10.325581</td>\n",
       "    </tr>\n",
       "  </tbody>\n",
       "</table>\n",
       "</div>"
      ],
      "text/plain": [
       "               purpose  loan_status  proportion(%)\n",
       "22      small_business  Charged Off      27.080958\n",
       "20    renewable_energy  Charged Off      18.627451\n",
       "6          educational  Charged Off      17.230769\n",
       "18               other  Charged Off      16.377749\n",
       "10               house  Charged Off      16.076294\n",
       "16              moving  Charged Off      15.972222\n",
       "14             medical  Charged Off      15.565345\n",
       "4   debt_consolidation  Charged Off      15.325395\n",
       "24            vacation  Charged Off      14.133333\n",
       "8     home_improvement  Charged Off      12.069565\n",
       "2          credit_card  Charged Off      10.781778\n",
       "0                  car  Charged Off      10.673783\n",
       "26             wedding  Charged Off      10.367171\n",
       "12      major_purchase  Charged Off      10.325581"
      ]
     },
     "execution_count": 34,
     "metadata": {},
     "output_type": "execute_result"
    }
   ],
   "source": [
    "# check the proportion of defaults for 'purpose'\n",
    "find_grouped_proportion('purpose')"
   ]
  },
  {
   "cell_type": "code",
   "execution_count": 35,
   "metadata": {
    "collapsed": false
   },
   "outputs": [
    {
     "data": {
      "image/png": "[encoded data removed]",
      "text/plain": [
       "<matplotlib.figure.Figure at 0xb67f9e8>"
      ]
     },
     "metadata": {},
     "output_type": "display_data"
    }
   ],
   "source": [
    "plt.figure(figsize=(12,10))\n",
    "g = find_grouped_proportion('purpose')\n",
    "sns.barplot(y='purpose',x='proportion(%)',data=g,estimator=np.mean)\n",
    "plt.axvline(x=15)\n",
    "plt.xlabel('proportion(%) of loan default')\n",
    "plt.ylabel('purpose of loan')\n",
    "plt.show()"
   ]
  },
  {
   "cell_type": "code",
   "execution_count": 36,
   "metadata": {
    "collapsed": false
   },
   "outputs": [
    {
     "data": {
      "image/png": "[encoded data removed]",
      "text/plain": [
       "<matplotlib.figure.Figure at 0xb692cc0>"
      ]
     },
     "metadata": {},
     "output_type": "display_data"
    }
   ],
   "source": [
    "# let us also check how interest rate at which loan is offered is related to loan purpose\n",
    "plt.figure(figsize=(15,15))\n",
    "sns.boxplot(x=\"purpose\", y=\"int_rate\", data=loan_master)\n",
    "plt.xticks(rotation=90)\n",
    "plt.show()"
   ]
  },
  {
   "cell_type": "markdown",
   "metadata": {},
   "source": [
    "We can see from above that median interest rates are almost similarly distributed for loan purpose even though \n",
    "The median interest rate for small business is slightly higher than others.\n"
   ]
  },
  {
   "cell_type": "markdown",
   "metadata": {},
   "source": [
    "We can clearly see from above that **purpose is a driver** for default with loan applications having 'small_business' as purpose of loan have as much as 27% default rate. The notable purposes which have a default tendency are - small business, renewable energy, educational and other."
   ]
  },
  {
   "cell_type": "code",
   "execution_count": 37,
   "metadata": {
    "collapsed": true
   },
   "outputs": [],
   "source": [
    "# Add purpose as a driver variable\n",
    "ls_driver_var = ['purpose']"
   ]
  },
  {
   "cell_type": "markdown",
   "metadata": {},
   "source": [
    "### *emp_length*: variable to indicate the number of years of employment of loan applicant."
   ]
  },
  {
   "cell_type": "code",
   "execution_count": 38,
   "metadata": {
    "collapsed": false
   },
   "outputs": [
    {
     "data": {
      "text/html": [
       "<div>\n",
       "<style>\n",
       "    .dataframe thead tr:only-child th {\n",
       "        text-align: right;\n",
       "    }\n",
       "\n",
       "    .dataframe thead th {\n",
       "        text-align: left;\n",
       "    }\n",
       "\n",
       "    .dataframe tbody tr th {\n",
       "        vertical-align: top;\n",
       "    }\n",
       "</style>\n",
       "<table border=\"1\" class=\"dataframe\">\n",
       "  <thead>\n",
       "    <tr style=\"text-align: right;\">\n",
       "      <th></th>\n",
       "      <th>emp_length</th>\n",
       "      <th>loan_status</th>\n",
       "      <th>proportion(%)</th>\n",
       "    </tr>\n",
       "  </thead>\n",
       "  <tbody>\n",
       "    <tr>\n",
       "      <th>22</th>\n",
       "      <td>n/a</td>\n",
       "      <td>Charged Off</td>\n",
       "      <td>22.071636</td>\n",
       "    </tr>\n",
       "    <tr>\n",
       "      <th>2</th>\n",
       "      <td>10+ years</td>\n",
       "      <td>Charged Off</td>\n",
       "      <td>15.680961</td>\n",
       "    </tr>\n",
       "    <tr>\n",
       "      <th>14</th>\n",
       "      <td>7 years</td>\n",
       "      <td>Charged Off</td>\n",
       "      <td>15.371128</td>\n",
       "    </tr>\n",
       "    <tr>\n",
       "      <th>0</th>\n",
       "      <td>1 year</td>\n",
       "      <td>Charged Off</td>\n",
       "      <td>14.389397</td>\n",
       "    </tr>\n",
       "    <tr>\n",
       "      <th>10</th>\n",
       "      <td>5 years</td>\n",
       "      <td>Charged Off</td>\n",
       "      <td>14.339386</td>\n",
       "    </tr>\n",
       "    <tr>\n",
       "      <th>20</th>\n",
       "      <td>&lt; 1 year</td>\n",
       "      <td>Charged Off</td>\n",
       "      <td>14.174800</td>\n",
       "    </tr>\n",
       "    <tr>\n",
       "      <th>12</th>\n",
       "      <td>6 years</td>\n",
       "      <td>Charged Off</td>\n",
       "      <td>14.160517</td>\n",
       "    </tr>\n",
       "    <tr>\n",
       "      <th>16</th>\n",
       "      <td>8 years</td>\n",
       "      <td>Charged Off</td>\n",
       "      <td>14.146341</td>\n",
       "    </tr>\n",
       "    <tr>\n",
       "      <th>6</th>\n",
       "      <td>3 years</td>\n",
       "      <td>Charged Off</td>\n",
       "      <td>13.833500</td>\n",
       "    </tr>\n",
       "    <tr>\n",
       "      <th>8</th>\n",
       "      <td>4 years</td>\n",
       "      <td>Charged Off</td>\n",
       "      <td>13.824057</td>\n",
       "    </tr>\n",
       "    <tr>\n",
       "      <th>4</th>\n",
       "      <td>2 years</td>\n",
       "      <td>Charged Off</td>\n",
       "      <td>13.213703</td>\n",
       "    </tr>\n",
       "    <tr>\n",
       "      <th>18</th>\n",
       "      <td>9 years</td>\n",
       "      <td>Charged Off</td>\n",
       "      <td>12.887439</td>\n",
       "    </tr>\n",
       "  </tbody>\n",
       "</table>\n",
       "</div>"
      ],
      "text/plain": [
       "   emp_length  loan_status  proportion(%)\n",
       "22        n/a  Charged Off      22.071636\n",
       "2   10+ years  Charged Off      15.680961\n",
       "14    7 years  Charged Off      15.371128\n",
       "0      1 year  Charged Off      14.389397\n",
       "10    5 years  Charged Off      14.339386\n",
       "20   < 1 year  Charged Off      14.174800\n",
       "12    6 years  Charged Off      14.160517\n",
       "16    8 years  Charged Off      14.146341\n",
       "6     3 years  Charged Off      13.833500\n",
       "8     4 years  Charged Off      13.824057\n",
       "4     2 years  Charged Off      13.213703\n",
       "18    9 years  Charged Off      12.887439"
      ]
     },
     "execution_count": 38,
     "metadata": {},
     "output_type": "execute_result"
    }
   ],
   "source": [
    "find_grouped_proportion('emp_length')"
   ]
  },
  {
   "cell_type": "code",
   "execution_count": 39,
   "metadata": {
    "collapsed": false
   },
   "outputs": [
    {
     "data": {
      "image/png": "[encoded data removed]",
      "text/plain": [
       "<matplotlib.figure.Figure at 0xc33fe48>"
      ]
     },
     "metadata": {},
     "output_type": "display_data"
    }
   ],
   "source": [
    "loan_master.emp_length[0:10]\n",
    "plt.figure(figsize=(10,15))\n",
    "sns.barplot(x='emp_length',y='loan_default',data=loan_master, estimator=np.mean)\n",
    "plt.show()"
   ]
  },
  {
   "cell_type": "markdown",
   "metadata": {},
   "source": [
    "We can see from above that there is no particular pattern between employee length and proportion of default."
   ]
  },
  {
   "cell_type": "markdown",
   "metadata": {},
   "source": [
    "### addr_state: * variable indicating the state of loan applicant.*"
   ]
  },
  {
   "cell_type": "code",
   "execution_count": 40,
   "metadata": {
    "collapsed": false
   },
   "outputs": [
    {
     "data": {
      "image/png": "[encoded data removed]",
      "text/plain": [
       "<matplotlib.figure.Figure at 0xc331f98>"
      ]
     },
     "metadata": {},
     "output_type": "display_data"
    }
   ],
   "source": [
    "# let us check now for add_state. distribution of default with respect to his state of residence\n",
    "plt.figure(figsize=(15,15))\n",
    "sns.barplot(x='addr_state',y='loan_default',data=loan_master, estimator=np.mean)\n",
    "plt.show()"
   ]
  },
  {
   "cell_type": "code",
   "execution_count": 41,
   "metadata": {
    "collapsed": false
   },
   "outputs": [
    {
     "data": {
      "image/png": "[encoded data removed]",
      "text/plain": [
       "<matplotlib.figure.Figure at 0xc8525f8>"
      ]
     },
     "metadata": {},
     "output_type": "display_data"
    }
   ],
   "source": [
    "plt.figure(figsize=(15,15))\n",
    "sns.countplot(x='addr_state',data=loan_master, hue=loan_master.loan_status)\n",
    "plt.show()"
   ]
  },
  {
   "cell_type": "code",
   "execution_count": 42,
   "metadata": {
    "collapsed": false
   },
   "outputs": [
    {
     "name": "stdout",
     "output_type": "stream",
     "text": [
      "Number of NE values 5\n",
      "% of values with state NE 0.01\n"
     ]
    }
   ],
   "source": [
    "print('Number of NE values',len(loan_master[loan_master.addr_state=='NE']))\n",
    "print('% of values with state NE',round(100*len(loan_master[loan_master.addr_state=='NE'])/len(loan_master),2))"
   ]
  },
  {
   "cell_type": "markdown",
   "metadata": {},
   "source": [
    "We can see from above that as state 'NE' has very few records (0.01%) as compared to other states we cannot meaningfully conclude that there is any bearing of state on default."
   ]
  },
  {
   "cell_type": "markdown",
   "metadata": {},
   "source": [
    "### inq_last_6mths: * variable indicating the number of inquiries in past 6 months (excluding auto and mortgage inquiries)*"
   ]
  },
  {
   "cell_type": "code",
   "execution_count": 43,
   "metadata": {
    "collapsed": false
   },
   "outputs": [
    {
     "data": {
      "image/png": "[encoded data removed]",
      "text/plain": [
       "<matplotlib.figure.Figure at 0xc2b06a0>"
      ]
     },
     "metadata": {},
     "output_type": "display_data"
    }
   ],
   "source": [
    "# let us check the distribution of variable - inq_last_6mths\n",
    "sns.countplot(loan_master.inq_last_6mths)\n",
    "plt.show()"
   ]
  },
  {
   "cell_type": "code",
   "execution_count": 44,
   "metadata": {
    "collapsed": false
   },
   "outputs": [
    {
     "data": {
      "image/png": "[encoded data removed]",
      "text/plain": [
       "<matplotlib.figure.Figure at 0xb3f09e8>"
      ]
     },
     "metadata": {},
     "output_type": "display_data"
    }
   ],
   "source": [
    "plt.figure(figsize=(12,10))\n",
    "sns.barplot(x='inq_last_6mths',y='loan_default',data=loan_master, estimator=np.mean,ci=None)\n",
    "plt.axhline(y=0.15)\n",
    "plt.xlabel('number of credit inquiries inquiries in past 6 months')\n",
    "plt.ylabel('proportion of loan default')\n",
    "plt.show()"
   ]
  },
  {
   "cell_type": "code",
   "execution_count": 45,
   "metadata": {
    "collapsed": false
   },
   "outputs": [
    {
     "data": {
      "text/html": [
       "<div>\n",
       "<style>\n",
       "    .dataframe thead tr:only-child th {\n",
       "        text-align: right;\n",
       "    }\n",
       "\n",
       "    .dataframe thead th {\n",
       "        text-align: left;\n",
       "    }\n",
       "\n",
       "    .dataframe tbody tr th {\n",
       "        vertical-align: top;\n",
       "    }\n",
       "</style>\n",
       "<table border=\"1\" class=\"dataframe\">\n",
       "  <thead>\n",
       "    <tr style=\"text-align: right;\">\n",
       "      <th></th>\n",
       "      <th>inq_last_6mths</th>\n",
       "      <th>loan_status</th>\n",
       "      <th>proportion(%)</th>\n",
       "    </tr>\n",
       "  </thead>\n",
       "  <tbody>\n",
       "    <tr>\n",
       "      <th>14</th>\n",
       "      <td>7</td>\n",
       "      <td>Charged Off</td>\n",
       "      <td>29.411765</td>\n",
       "    </tr>\n",
       "    <tr>\n",
       "      <th>12</th>\n",
       "      <td>6</td>\n",
       "      <td>Charged Off</td>\n",
       "      <td>25.396825</td>\n",
       "    </tr>\n",
       "    <tr>\n",
       "      <th>16</th>\n",
       "      <td>8</td>\n",
       "      <td>Charged Off</td>\n",
       "      <td>21.428571</td>\n",
       "    </tr>\n",
       "    <tr>\n",
       "      <th>6</th>\n",
       "      <td>3</td>\n",
       "      <td>Charged Off</td>\n",
       "      <td>20.750922</td>\n",
       "    </tr>\n",
       "    <tr>\n",
       "      <th>10</th>\n",
       "      <td>5</td>\n",
       "      <td>Charged Off</td>\n",
       "      <td>19.444444</td>\n",
       "    </tr>\n",
       "    <tr>\n",
       "      <th>4</th>\n",
       "      <td>2</td>\n",
       "      <td>Charged Off</td>\n",
       "      <td>16.678458</td>\n",
       "    </tr>\n",
       "    <tr>\n",
       "      <th>8</th>\n",
       "      <td>4</td>\n",
       "      <td>Charged Off</td>\n",
       "      <td>16.139241</td>\n",
       "    </tr>\n",
       "    <tr>\n",
       "      <th>2</th>\n",
       "      <td>1</td>\n",
       "      <td>Charged Off</td>\n",
       "      <td>15.731707</td>\n",
       "    </tr>\n",
       "    <tr>\n",
       "      <th>0</th>\n",
       "      <td>0</td>\n",
       "      <td>Charged Off</td>\n",
       "      <td>12.186648</td>\n",
       "    </tr>\n",
       "  </tbody>\n",
       "</table>\n",
       "</div>"
      ],
      "text/plain": [
       "    inq_last_6mths  loan_status  proportion(%)\n",
       "14               7  Charged Off      29.411765\n",
       "12               6  Charged Off      25.396825\n",
       "16               8  Charged Off      21.428571\n",
       "6                3  Charged Off      20.750922\n",
       "10               5  Charged Off      19.444444\n",
       "4                2  Charged Off      16.678458\n",
       "8                4  Charged Off      16.139241\n",
       "2                1  Charged Off      15.731707\n",
       "0                0  Charged Off      12.186648"
      ]
     },
     "execution_count": 45,
     "metadata": {},
     "output_type": "execute_result"
    }
   ],
   "source": [
    "find_grouped_proportion('inq_last_6mths')"
   ]
  },
  {
   "cell_type": "markdown",
   "metadata": {},
   "source": [
    "We can see from above that tendency to default increase as the number of inquires increase, this might be an indication of **'credit seeking behaviour'**. Thus inq_last_6mths is a driver variable for tendency for default.\n",
    "\n",
    "References: https://www.orchardplatform.com/blog/credit-variables-explained-inquiries-in-the-last-6-months/"
   ]
  },
  {
   "cell_type": "code",
   "execution_count": 46,
   "metadata": {
    "collapsed": true
   },
   "outputs": [],
   "source": [
    "# add to the list of categorical driver variable\n",
    "ls_driver_var.append('inq_last_6mths')"
   ]
  },
  {
   "cell_type": "markdown",
   "metadata": {},
   "source": [
    "### pub_rec_bankruptcies: * variable indicating Number of public record bankruptcies.*\n",
    "### pub_rec:* variable indicating number of derogatory public records.*"
   ]
  },
  {
   "cell_type": "code",
   "execution_count": 47,
   "metadata": {
    "collapsed": false
   },
   "outputs": [
    {
     "data": {
      "image/png": "[encoded data removed]",
      "text/plain": [
       "<matplotlib.figure.Figure at 0xb714da0>"
      ]
     },
     "metadata": {},
     "output_type": "display_data"
    }
   ],
   "source": [
    "# check the distribution of pub_rec_bankruptcies variable\n",
    "sns.countplot(loan_master.pub_rec_bankruptcies)\n",
    "plt.show()"
   ]
  },
  {
   "cell_type": "code",
   "execution_count": 48,
   "metadata": {
    "collapsed": false
   },
   "outputs": [
    {
     "data": {
      "text/plain": [
       "697"
      ]
     },
     "execution_count": 48,
     "metadata": {},
     "output_type": "execute_result"
    }
   ],
   "source": [
    "# let us check how many missing values are there\n",
    "loan_master.pub_rec_bankruptcies.isnull().sum()"
   ]
  },
  {
   "cell_type": "code",
   "execution_count": 49,
   "metadata": {
    "collapsed": false
   },
   "outputs": [],
   "source": [
    "# as the proportion of values is very small compared to total data set let's imput by 0, meaning no record\n",
    "loan_master.loc[loan_master.pub_rec_bankruptcies.isnull(),'pub_rec_bankruptcies'] = 0"
   ]
  },
  {
   "cell_type": "code",
   "execution_count": 50,
   "metadata": {
    "collapsed": false
   },
   "outputs": [],
   "source": [
    "# let us define a new categorical variable to indicate if there was a public record of bankruptcy or not\n",
    "loan_master['was_bankrupt']= loan_master.pub_rec_bankruptcies.apply(lambda x: 1 if x !=0 else 0)"
   ]
  },
  {
   "cell_type": "code",
   "execution_count": 51,
   "metadata": {
    "collapsed": false
   },
   "outputs": [
    {
     "data": {
      "image/png": "[encoded data removed]",
      "text/plain": [
       "<matplotlib.figure.Figure at 0xb5264a8>"
      ]
     },
     "metadata": {},
     "output_type": "display_data"
    }
   ],
   "source": [
    "# let us check the distribution of default\n",
    "sns.barplot(x='was_bankrupt',y='loan_default',data=loan_master, estimator=np.mean,ci=None)\n",
    "plt.axhline(y= 0.15)\n",
    "plt.xlabel('does loan applicant have a public record of bankruptcy?')\n",
    "plt.ylabel('proportion of loan default')\n",
    "plt.show()"
   ]
  },
  {
   "cell_type": "markdown",
   "metadata": {},
   "source": [
    "As the number of records having public record of bankruptcy is very less, let us do a two sampled t-test to check if the difference in mean default rate is statistically significant for two samples.\n",
    "\n",
    "H0: mean across two samples (samples having record of bankruptcy) and sample does not having record of bankruptcy is same.\n",
    "\n",
    "H1: alternative hypothesis - the sample means are different\n",
    "\n",
    "We will take our threshold as 5% having corresponding p value as 0.05\n"
   ]
  },
  {
   "cell_type": "code",
   "execution_count": 52,
   "metadata": {
    "collapsed": false
   },
   "outputs": [
    {
     "data": {
      "text/plain": [
       "Ttest_indResult(statistic=7.8187525951176786, pvalue=9.1579674851767771e-15)"
      ]
     },
     "execution_count": 52,
     "metadata": {},
     "output_type": "execute_result"
    }
   ],
   "source": [
    "# let us check if the difference in mean is statistically significant\n",
    "sample_1 = loan_master[loan_master.was_bankrupt==1].loan_default\n",
    "sample_2 = loan_master[loan_master.was_bankrupt==0].loan_default\n",
    "\n",
    "sc.stats.ttest_ind(sample_1,sample_2,equal_var=False,nan_policy='omit')"
   ]
  },
  {
   "cell_type": "markdown",
   "metadata": {},
   "source": [
    "As the p value is smaller than 0.05 we cannot accept the null hypothesis that means are same."
   ]
  },
  {
   "cell_type": "code",
   "execution_count": 53,
   "metadata": {
    "collapsed": false
   },
   "outputs": [
    {
     "data": {
      "text/plain": [
       "0"
      ]
     },
     "execution_count": 53,
     "metadata": {},
     "output_type": "execute_result"
    }
   ],
   "source": [
    "# let us check how many missing values are there\n",
    "loan_master.pub_rec.isnull().sum()"
   ]
  },
  {
   "cell_type": "code",
   "execution_count": 54,
   "metadata": {
    "collapsed": true
   },
   "outputs": [],
   "source": [
    "# let us define a new categorical variable to indicate if there was a public record of bankruptcy or not\n",
    "loan_master['has_derogatory_remarks']= loan_master.pub_rec.apply(lambda x: 1 if x !=0 else 0)"
   ]
  },
  {
   "cell_type": "code",
   "execution_count": 55,
   "metadata": {
    "collapsed": false
   },
   "outputs": [
    {
     "data": {
      "image/png": "[encoded data removed]",
      "text/plain": [
       "<matplotlib.figure.Figure at 0xb3f0e10>"
      ]
     },
     "metadata": {},
     "output_type": "display_data"
    }
   ],
   "source": [
    "# let us check the distribution of default\n",
    "sns.barplot(x='has_derogatory_remarks',y='loan_default',data=loan_master, estimator=np.mean,ci=None)\n",
    "plt.axhline(y= 0.15)\n",
    "plt.xlabel('has derogatory public remarks?')\n",
    "plt.ylabel('proportion of loan default')\n",
    "plt.show()"
   ]
  },
  {
   "cell_type": "code",
   "execution_count": 56,
   "metadata": {
    "collapsed": false
   },
   "outputs": [
    {
     "data": {
      "text/html": [
       "<div>\n",
       "<style>\n",
       "    .dataframe thead tr:only-child th {\n",
       "        text-align: right;\n",
       "    }\n",
       "\n",
       "    .dataframe thead th {\n",
       "        text-align: left;\n",
       "    }\n",
       "\n",
       "    .dataframe tbody tr th {\n",
       "        vertical-align: top;\n",
       "    }\n",
       "</style>\n",
       "<table border=\"1\" class=\"dataframe\">\n",
       "  <thead>\n",
       "    <tr style=\"text-align: right;\">\n",
       "      <th></th>\n",
       "      <th>pub_rec</th>\n",
       "      <th>loan_status</th>\n",
       "      <th>proportion(%)</th>\n",
       "    </tr>\n",
       "  </thead>\n",
       "  <tbody>\n",
       "    <tr>\n",
       "      <th>2</th>\n",
       "      <td>1</td>\n",
       "      <td>Charged Off</td>\n",
       "      <td>22.702434</td>\n",
       "    </tr>\n",
       "    <tr>\n",
       "      <th>4</th>\n",
       "      <td>2</td>\n",
       "      <td>Charged Off</td>\n",
       "      <td>20.833333</td>\n",
       "    </tr>\n",
       "    <tr>\n",
       "      <th>0</th>\n",
       "      <td>0</td>\n",
       "      <td>Charged Off</td>\n",
       "      <td>14.134276</td>\n",
       "    </tr>\n",
       "  </tbody>\n",
       "</table>\n",
       "</div>"
      ],
      "text/plain": [
       "   pub_rec  loan_status  proportion(%)\n",
       "2        1  Charged Off      22.702434\n",
       "4        2  Charged Off      20.833333\n",
       "0        0  Charged Off      14.134276"
      ]
     },
     "execution_count": 56,
     "metadata": {},
     "output_type": "execute_result"
    }
   ],
   "source": [
    "# let us find the proportion of default for pub_rec\n",
    "find_grouped_proportion('pub_rec')"
   ]
  },
  {
   "cell_type": "code",
   "execution_count": 57,
   "metadata": {
    "collapsed": false
   },
   "outputs": [
    {
     "data": {
      "text/html": [
       "<div>\n",
       "<style>\n",
       "    .dataframe thead tr:only-child th {\n",
       "        text-align: right;\n",
       "    }\n",
       "\n",
       "    .dataframe thead th {\n",
       "        text-align: left;\n",
       "    }\n",
       "\n",
       "    .dataframe tbody tr th {\n",
       "        vertical-align: top;\n",
       "    }\n",
       "</style>\n",
       "<table border=\"1\" class=\"dataframe\">\n",
       "  <thead>\n",
       "    <tr style=\"text-align: right;\">\n",
       "      <th></th>\n",
       "      <th>pub_rec</th>\n",
       "      <th>pub_rec_bankruptcies</th>\n",
       "    </tr>\n",
       "  </thead>\n",
       "  <tbody>\n",
       "    <tr>\n",
       "      <th>pub_rec</th>\n",
       "      <td>1.000000</td>\n",
       "      <td>0.841571</td>\n",
       "    </tr>\n",
       "    <tr>\n",
       "      <th>pub_rec_bankruptcies</th>\n",
       "      <td>0.841571</td>\n",
       "      <td>1.000000</td>\n",
       "    </tr>\n",
       "  </tbody>\n",
       "</table>\n",
       "</div>"
      ],
      "text/plain": [
       "                       pub_rec  pub_rec_bankruptcies\n",
       "pub_rec               1.000000              0.841571\n",
       "pub_rec_bankruptcies  0.841571              1.000000"
      ]
     },
     "execution_count": 57,
     "metadata": {},
     "output_type": "execute_result"
    }
   ],
   "source": [
    "loan_master[['pub_rec','pub_rec_bankruptcies']].corr()"
   ]
  },
  {
   "cell_type": "markdown",
   "metadata": {},
   "source": [
    "We can see that **there is high correlation between pub_rec and pub_rec_bankruptcies** this is not surprising as pub_rec (Number of derogatory public records) includes pub_rec_bankruptcies (public record of bankruptcies).\n",
    "So we **will include only one of the variables** as driver variable for default.\n",
    "\n",
    "We conclude that pub_rec_bankruptcies and pub_rec are both negative driver variable and indicates possibility of a future default wherever such data is available. We will include pub_rec as one of our driver variables.\n",
    "\n",
    "References:\n",
    "\n",
    "* https://www.experian.com/blogs/ask-experian/meaning-of-derogatory-public-record/\n",
    "* https://www.experian.com/blogs/ask-experian/how-long-do-paid-public-records-remain-on-your-report/"
   ]
  },
  {
   "cell_type": "code",
   "execution_count": 58,
   "metadata": {
    "collapsed": true
   },
   "outputs": [],
   "source": [
    "# add to the list of driver variables.\n",
    "ls_driver_var.append('pub_rec')"
   ]
  },
  {
   "cell_type": "markdown",
   "metadata": {},
   "source": [
    "### verification_status: * Indicates if income was verified by LC, not verified, or if the income source was verified.*"
   ]
  },
  {
   "cell_type": "code",
   "execution_count": 59,
   "metadata": {
    "collapsed": false
   },
   "outputs": [
    {
     "data": {
      "text/html": [
       "<div>\n",
       "<style>\n",
       "    .dataframe thead tr:only-child th {\n",
       "        text-align: right;\n",
       "    }\n",
       "\n",
       "    .dataframe thead th {\n",
       "        text-align: left;\n",
       "    }\n",
       "\n",
       "    .dataframe tbody tr th {\n",
       "        vertical-align: top;\n",
       "    }\n",
       "</style>\n",
       "<table border=\"1\" class=\"dataframe\">\n",
       "  <thead>\n",
       "    <tr style=\"text-align: right;\">\n",
       "      <th></th>\n",
       "      <th>verification_status</th>\n",
       "      <th>loan_status</th>\n",
       "      <th>proportion(%)</th>\n",
       "    </tr>\n",
       "  </thead>\n",
       "  <tbody>\n",
       "    <tr>\n",
       "      <th>4</th>\n",
       "      <td>Verified</td>\n",
       "      <td>Charged Off</td>\n",
       "      <td>16.803212</td>\n",
       "    </tr>\n",
       "    <tr>\n",
       "      <th>2</th>\n",
       "      <td>Source Verified</td>\n",
       "      <td>Charged Off</td>\n",
       "      <td>14.818642</td>\n",
       "    </tr>\n",
       "    <tr>\n",
       "      <th>0</th>\n",
       "      <td>Not Verified</td>\n",
       "      <td>Charged Off</td>\n",
       "      <td>12.830957</td>\n",
       "    </tr>\n",
       "  </tbody>\n",
       "</table>\n",
       "</div>"
      ],
      "text/plain": [
       "  verification_status  loan_status  proportion(%)\n",
       "4            Verified  Charged Off      16.803212\n",
       "2     Source Verified  Charged Off      14.818642\n",
       "0        Not Verified  Charged Off      12.830957"
      ]
     },
     "execution_count": 59,
     "metadata": {},
     "output_type": "execute_result"
    }
   ],
   "source": [
    "find_grouped_proportion('verification_status')"
   ]
  },
  {
   "cell_type": "code",
   "execution_count": 60,
   "metadata": {
    "collapsed": false
   },
   "outputs": [
    {
     "data": {
      "image/png": "[encoded data removed]",
      "text/plain": [
       "<matplotlib.figure.Figure at 0xc2aa860>"
      ]
     },
     "metadata": {},
     "output_type": "display_data"
    }
   ],
   "source": [
    "# check the distribution of verification status.\n",
    "sns.countplot(loan_master.verification_status)\n",
    "plt.show()"
   ]
  },
  {
   "cell_type": "markdown",
   "metadata": {},
   "source": [
    "we see from above the verifcation_status categories counts have roughly similar distribution."
   ]
  },
  {
   "cell_type": "code",
   "execution_count": 61,
   "metadata": {
    "collapsed": false
   },
   "outputs": [
    {
     "data": {
      "image/png": "[encoded data removed]",
      "text/plain": [
       "<matplotlib.figure.Figure at 0xb4d7be0>"
      ]
     },
     "metadata": {},
     "output_type": "display_data"
    }
   ],
   "source": [
    "# check the loan default based on verification status\n",
    "sns.barplot(x='verification_status',y='loan_default',data=loan_master, estimator=np.mean)\n",
    "plt.show()"
   ]
  },
  {
   "cell_type": "markdown",
   "metadata": {},
   "source": [
    "From above We donot find any significant impact of verification status on default tendancy."
   ]
  },
  {
   "cell_type": "markdown",
   "metadata": {},
   "source": [
    "### zip_code: * The first 3 numbers of the zip code provided by the borrower in the loan application.*"
   ]
  },
  {
   "cell_type": "code",
   "execution_count": 62,
   "metadata": {
    "collapsed": true
   },
   "outputs": [],
   "source": [
    "# define function to create bins.\n",
    "def createbin(x, binsize):\n",
    "    return round((x / binsize),0) * binsize"
   ]
  },
  {
   "cell_type": "code",
   "execution_count": 63,
   "metadata": {
    "collapsed": true
   },
   "outputs": [],
   "source": [
    "# extract the first 3 characters from zip code and create bins based on the same\n",
    "loan_master.zip_code = loan_master.zip_code.apply(lambda x:x.replace(\"xx\",\"\"))\n",
    "loan_master.zip_code = loan_master.zip_code.astype(int)\n",
    "loan_master.zip_code = loan_master.zip_code.apply(lambda x: createbin(x,100))"
   ]
  },
  {
   "cell_type": "code",
   "execution_count": 64,
   "metadata": {
    "collapsed": false
   },
   "outputs": [
    {
     "data": {
      "image/png": "[encoded data removed]",
      "text/plain": [
       "<matplotlib.figure.Figure at 0xb569860>"
      ]
     },
     "metadata": {},
     "output_type": "display_data"
    }
   ],
   "source": [
    "plt.figure(figsize=(10,8))\n",
    "sns.countplot(y=loan_master.zip_code)\n",
    "plt.show()"
   ]
  },
  {
   "cell_type": "code",
   "execution_count": 65,
   "metadata": {
    "collapsed": false
   },
   "outputs": [
    {
     "data": {
      "image/png": "[encoded data removed]",
      "text/plain": [
       "<matplotlib.figure.Figure at 0xb7146d8>"
      ]
     },
     "metadata": {},
     "output_type": "display_data"
    }
   ],
   "source": [
    "sns.barplot(x='zip_code',y='loan_default',data=loan_master, estimator=np.mean)\n",
    "plt.show()"
   ]
  },
  {
   "cell_type": "markdown",
   "metadata": {},
   "source": [
    "we observe that zip_code also does not show any particular pattern for default."
   ]
  },
  {
   "cell_type": "markdown",
   "metadata": {},
   "source": [
    "### *int_rate, grade,sub_grade* :\n",
    "\n",
    "Based on information provided in the Lending Club website, grades and sub-grades for a loan are decided based on \n",
    "interest rate (as shown below) so sub-grades serve as a natural bin for interest rates which we will analyze."
   ]
  },
  {
   "cell_type": "markdown",
   "metadata": {},
   "source": [
    "![title](./InterestRates_Grades.png)"
   ]
  },
  {
   "cell_type": "code",
   "execution_count": 66,
   "metadata": {
    "collapsed": false
   },
   "outputs": [
    {
     "data": {
      "image/png": "[encoded data removed]",
      "text/plain": [
       "<matplotlib.figure.Figure at 0xc1a75c0>"
      ]
     },
     "metadata": {},
     "output_type": "display_data"
    }
   ],
   "source": [
    "# let us check the distribution of grades\n",
    "plt.figure(figsize=(10,8))\n",
    "sns.countplot(y=loan_master.grade.sort_values())\n",
    "plt.show()"
   ]
  },
  {
   "cell_type": "code",
   "execution_count": 67,
   "metadata": {
    "collapsed": false
   },
   "outputs": [
    {
     "data": {
      "image/png": "[encoded data removed]",
      "text/plain": [
       "<matplotlib.figure.Figure at 0xb7cdac8>"
      ]
     },
     "metadata": {},
     "output_type": "display_data"
    }
   ],
   "source": [
    "# let us first check the distribution of sub-grades\n",
    "plt.figure(figsize=(10,8))\n",
    "sns.countplot(y=loan_master.sub_grade.sort_values())\n",
    "plt.show()"
   ]
  },
  {
   "cell_type": "code",
   "execution_count": 68,
   "metadata": {
    "collapsed": false
   },
   "outputs": [
    {
     "data": {
      "text/html": [
       "<div>\n",
       "<style>\n",
       "    .dataframe thead tr:only-child th {\n",
       "        text-align: right;\n",
       "    }\n",
       "\n",
       "    .dataframe thead th {\n",
       "        text-align: left;\n",
       "    }\n",
       "\n",
       "    .dataframe tbody tr th {\n",
       "        vertical-align: top;\n",
       "    }\n",
       "</style>\n",
       "<table border=\"1\" class=\"dataframe\">\n",
       "  <thead>\n",
       "    <tr style=\"text-align: right;\">\n",
       "      <th></th>\n",
       "      <th>sub_grade</th>\n",
       "      <th>loan_status</th>\n",
       "      <th>proportion(%)</th>\n",
       "    </tr>\n",
       "  </thead>\n",
       "  <tbody>\n",
       "    <tr>\n",
       "      <th>58</th>\n",
       "      <td>F5</td>\n",
       "      <td>Charged Off</td>\n",
       "      <td>47.787611</td>\n",
       "    </tr>\n",
       "    <tr>\n",
       "      <th>64</th>\n",
       "      <td>G3</td>\n",
       "      <td>Charged Off</td>\n",
       "      <td>42.222222</td>\n",
       "    </tr>\n",
       "    <tr>\n",
       "      <th>62</th>\n",
       "      <td>G2</td>\n",
       "      <td>Charged Off</td>\n",
       "      <td>36.363636</td>\n",
       "    </tr>\n",
       "    <tr>\n",
       "      <th>56</th>\n",
       "      <td>F4</td>\n",
       "      <td>Charged Off</td>\n",
       "      <td>35.099338</td>\n",
       "    </tr>\n",
       "    <tr>\n",
       "      <th>68</th>\n",
       "      <td>G5</td>\n",
       "      <td>Charged Off</td>\n",
       "      <td>34.482759</td>\n",
       "    </tr>\n",
       "    <tr>\n",
       "      <th>60</th>\n",
       "      <td>G1</td>\n",
       "      <td>Charged Off</td>\n",
       "      <td>32.978723</td>\n",
       "    </tr>\n",
       "    <tr>\n",
       "      <th>52</th>\n",
       "      <td>F2</td>\n",
       "      <td>Charged Off</td>\n",
       "      <td>30.042918</td>\n",
       "    </tr>\n",
       "    <tr>\n",
       "      <th>50</th>\n",
       "      <td>F1</td>\n",
       "      <td>Charged Off</td>\n",
       "      <td>29.836066</td>\n",
       "    </tr>\n",
       "    <tr>\n",
       "      <th>46</th>\n",
       "      <td>E4</td>\n",
       "      <td>Charged Off</td>\n",
       "      <td>29.716981</td>\n",
       "    </tr>\n",
       "    <tr>\n",
       "      <th>54</th>\n",
       "      <td>F3</td>\n",
       "      <td>Charged Off</td>\n",
       "      <td>29.310345</td>\n",
       "    </tr>\n",
       "    <tr>\n",
       "      <th>48</th>\n",
       "      <td>E5</td>\n",
       "      <td>Charged Off</td>\n",
       "      <td>28.165375</td>\n",
       "    </tr>\n",
       "    <tr>\n",
       "      <th>40</th>\n",
       "      <td>E1</td>\n",
       "      <td>Charged Off</td>\n",
       "      <td>27.423823</td>\n",
       "    </tr>\n",
       "    <tr>\n",
       "      <th>42</th>\n",
       "      <td>E2</td>\n",
       "      <td>Charged Off</td>\n",
       "      <td>26.547231</td>\n",
       "    </tr>\n",
       "    <tr>\n",
       "      <th>38</th>\n",
       "      <td>D5</td>\n",
       "      <td>Charged Off</td>\n",
       "      <td>25.059952</td>\n",
       "    </tr>\n",
       "    <tr>\n",
       "      <th>66</th>\n",
       "      <td>G4</td>\n",
       "      <td>Charged Off</td>\n",
       "      <td>24.074074</td>\n",
       "    </tr>\n",
       "    <tr>\n",
       "      <th>36</th>\n",
       "      <td>D4</td>\n",
       "      <td>Charged Off</td>\n",
       "      <td>23.420479</td>\n",
       "    </tr>\n",
       "    <tr>\n",
       "      <th>44</th>\n",
       "      <td>E3</td>\n",
       "      <td>Charged Off</td>\n",
       "      <td>23.062016</td>\n",
       "    </tr>\n",
       "    <tr>\n",
       "      <th>34</th>\n",
       "      <td>D3</td>\n",
       "      <td>Charged Off</td>\n",
       "      <td>22.939068</td>\n",
       "    </tr>\n",
       "    <tr>\n",
       "      <th>32</th>\n",
       "      <td>D2</td>\n",
       "      <td>Charged Off</td>\n",
       "      <td>21.073095</td>\n",
       "    </tr>\n",
       "    <tr>\n",
       "      <th>24</th>\n",
       "      <td>C3</td>\n",
       "      <td>Charged Off</td>\n",
       "      <td>18.145161</td>\n",
       "    </tr>\n",
       "    <tr>\n",
       "      <th>28</th>\n",
       "      <td>C5</td>\n",
       "      <td>Charged Off</td>\n",
       "      <td>18.024263</td>\n",
       "    </tr>\n",
       "    <tr>\n",
       "      <th>30</th>\n",
       "      <td>D1</td>\n",
       "      <td>Charged Off</td>\n",
       "      <td>17.937701</td>\n",
       "    </tr>\n",
       "    <tr>\n",
       "      <th>26</th>\n",
       "      <td>C4</td>\n",
       "      <td>Charged Off</td>\n",
       "      <td>17.578773</td>\n",
       "    </tr>\n",
       "    <tr>\n",
       "      <th>22</th>\n",
       "      <td>C2</td>\n",
       "      <td>Charged Off</td>\n",
       "      <td>16.623511</td>\n",
       "    </tr>\n",
       "    <tr>\n",
       "      <th>20</th>\n",
       "      <td>C1</td>\n",
       "      <td>Charged Off</td>\n",
       "      <td>16.350365</td>\n",
       "    </tr>\n",
       "    <tr>\n",
       "      <th>18</th>\n",
       "      <td>B5</td>\n",
       "      <td>Charged Off</td>\n",
       "      <td>13.613767</td>\n",
       "    </tr>\n",
       "    <tr>\n",
       "      <th>16</th>\n",
       "      <td>B4</td>\n",
       "      <td>Charged Off</td>\n",
       "      <td>13.500205</td>\n",
       "    </tr>\n",
       "    <tr>\n",
       "      <th>14</th>\n",
       "      <td>B3</td>\n",
       "      <td>Charged Off</td>\n",
       "      <td>12.070796</td>\n",
       "    </tr>\n",
       "    <tr>\n",
       "      <th>12</th>\n",
       "      <td>B2</td>\n",
       "      <td>Charged Off</td>\n",
       "      <td>11.394303</td>\n",
       "    </tr>\n",
       "    <tr>\n",
       "      <th>10</th>\n",
       "      <td>B1</td>\n",
       "      <td>Charged Off</td>\n",
       "      <td>9.515860</td>\n",
       "    </tr>\n",
       "    <tr>\n",
       "      <th>8</th>\n",
       "      <td>A5</td>\n",
       "      <td>Charged Off</td>\n",
       "      <td>7.992634</td>\n",
       "    </tr>\n",
       "    <tr>\n",
       "      <th>6</th>\n",
       "      <td>A4</td>\n",
       "      <td>Charged Off</td>\n",
       "      <td>6.195614</td>\n",
       "    </tr>\n",
       "    <tr>\n",
       "      <th>4</th>\n",
       "      <td>A3</td>\n",
       "      <td>Charged Off</td>\n",
       "      <td>5.690608</td>\n",
       "    </tr>\n",
       "    <tr>\n",
       "      <th>2</th>\n",
       "      <td>A2</td>\n",
       "      <td>Charged Off</td>\n",
       "      <td>4.907162</td>\n",
       "    </tr>\n",
       "    <tr>\n",
       "      <th>0</th>\n",
       "      <td>A1</td>\n",
       "      <td>Charged Off</td>\n",
       "      <td>2.633889</td>\n",
       "    </tr>\n",
       "  </tbody>\n",
       "</table>\n",
       "</div>"
      ],
      "text/plain": [
       "   sub_grade  loan_status  proportion(%)\n",
       "58        F5  Charged Off      47.787611\n",
       "64        G3  Charged Off      42.222222\n",
       "62        G2  Charged Off      36.363636\n",
       "56        F4  Charged Off      35.099338\n",
       "68        G5  Charged Off      34.482759\n",
       "60        G1  Charged Off      32.978723\n",
       "52        F2  Charged Off      30.042918\n",
       "50        F1  Charged Off      29.836066\n",
       "46        E4  Charged Off      29.716981\n",
       "54        F3  Charged Off      29.310345\n",
       "48        E5  Charged Off      28.165375\n",
       "40        E1  Charged Off      27.423823\n",
       "42        E2  Charged Off      26.547231\n",
       "38        D5  Charged Off      25.059952\n",
       "66        G4  Charged Off      24.074074\n",
       "36        D4  Charged Off      23.420479\n",
       "44        E3  Charged Off      23.062016\n",
       "34        D3  Charged Off      22.939068\n",
       "32        D2  Charged Off      21.073095\n",
       "24        C3  Charged Off      18.145161\n",
       "28        C5  Charged Off      18.024263\n",
       "30        D1  Charged Off      17.937701\n",
       "26        C4  Charged Off      17.578773\n",
       "22        C2  Charged Off      16.623511\n",
       "20        C1  Charged Off      16.350365\n",
       "18        B5  Charged Off      13.613767\n",
       "16        B4  Charged Off      13.500205\n",
       "14        B3  Charged Off      12.070796\n",
       "12        B2  Charged Off      11.394303\n",
       "10        B1  Charged Off       9.515860\n",
       "8         A5  Charged Off       7.992634\n",
       "6         A4  Charged Off       6.195614\n",
       "4         A3  Charged Off       5.690608\n",
       "2         A2  Charged Off       4.907162\n",
       "0         A1  Charged Off       2.633889"
      ]
     },
     "execution_count": 68,
     "metadata": {},
     "output_type": "execute_result"
    }
   ],
   "source": [
    "find_grouped_proportion('sub_grade')"
   ]
  },
  {
   "cell_type": "markdown",
   "metadata": {},
   "source": [
    "we see from that default % increase with increase in sub-grade which corresponds to an increase in interest rate, **sub-grade(interest rate)** , however in light of our business understanding we know that this is misleading as a high interest rate indicates that LC itself has adjusted the interest rate based on risk profile, therefore **we will not consider** grade/sub-grade/interest rate as a driver variable for tendency to default."
   ]
  },
  {
   "cell_type": "markdown",
   "metadata": {},
   "source": [
    "### delinq_2yrs:* variable to indicate the number of 30+ days past-due incidences of delinquency in the borrower's credit file for the past 2 years*"
   ]
  },
  {
   "cell_type": "code",
   "execution_count": 69,
   "metadata": {
    "collapsed": false
   },
   "outputs": [
    {
     "data": {
      "image/png": "[encoded data removed]",
      "text/plain": [
       "<matplotlib.figure.Figure at 0x626d518>"
      ]
     },
     "metadata": {},
     "output_type": "display_data"
    }
   ],
   "source": [
    "#let's first check the distribution of this varaible\n",
    "sns.countplot(loan_master.delinq_2yrs)\n",
    "plt.show()"
   ]
  },
  {
   "cell_type": "code",
   "execution_count": 70,
   "metadata": {
    "collapsed": false
   },
   "outputs": [
    {
     "data": {
      "image/png": "[encoded data removed]",
      "text/plain": [
       "<matplotlib.figure.Figure at 0x6280358>"
      ]
     },
     "metadata": {},
     "output_type": "display_data"
    }
   ],
   "source": [
    "plt.figure(figsize=(10,8))\n",
    "sns.barplot(x='delinq_2yrs',y='loan_default',data=loan_master, estimator=np.mean,ci=None)\n",
    "plt.xlabel('30+ days delinquency in past 2 years')\n",
    "plt.ylabel('proportion of loan default')\n",
    "plt.axhline(y=0.15)\n",
    "plt.show()"
   ]
  },
  {
   "cell_type": "code",
   "execution_count": 71,
   "metadata": {
    "collapsed": false
   },
   "outputs": [
    {
     "data": {
      "image/png": "[encoded data removed]",
      "text/plain": [
       "<matplotlib.figure.Figure at 0xb652748>"
      ]
     },
     "metadata": {},
     "output_type": "display_data"
    }
   ],
   "source": [
    "# let's do a bivariate analysis with int_rate and delinq_2yrs\n",
    "sns.boxplot(x='delinq_2yrs',y='int_rate',data=loan_master)\n",
    "plt.show()"
   ]
  },
  {
   "cell_type": "markdown",
   "metadata": {},
   "source": [
    "we do see that there is a correlation between increase in past due deliquencies and increase in incidences of\n",
    "default."
   ]
  },
  {
   "cell_type": "code",
   "execution_count": 72,
   "metadata": {
    "collapsed": false
   },
   "outputs": [
    {
     "data": {
      "text/html": [
       "<div>\n",
       "<style>\n",
       "    .dataframe thead tr:only-child th {\n",
       "        text-align: right;\n",
       "    }\n",
       "\n",
       "    .dataframe thead th {\n",
       "        text-align: left;\n",
       "    }\n",
       "\n",
       "    .dataframe tbody tr th {\n",
       "        vertical-align: top;\n",
       "    }\n",
       "</style>\n",
       "<table border=\"1\" class=\"dataframe\">\n",
       "  <thead>\n",
       "    <tr style=\"text-align: right;\">\n",
       "      <th></th>\n",
       "      <th>delinq_2yrs</th>\n",
       "      <th>loan_status</th>\n",
       "      <th>proportion(%)</th>\n",
       "    </tr>\n",
       "  </thead>\n",
       "  <tbody>\n",
       "    <tr>\n",
       "      <th>16</th>\n",
       "      <td>8</td>\n",
       "      <td>Charged Off</td>\n",
       "      <td>50.000000</td>\n",
       "    </tr>\n",
       "    <tr>\n",
       "      <th>14</th>\n",
       "      <td>7</td>\n",
       "      <td>Charged Off</td>\n",
       "      <td>25.000000</td>\n",
       "    </tr>\n",
       "    <tr>\n",
       "      <th>8</th>\n",
       "      <td>4</td>\n",
       "      <td>Charged Off</td>\n",
       "      <td>21.666667</td>\n",
       "    </tr>\n",
       "    <tr>\n",
       "      <th>4</th>\n",
       "      <td>2</td>\n",
       "      <td>Charged Off</td>\n",
       "      <td>19.316493</td>\n",
       "    </tr>\n",
       "    <tr>\n",
       "      <th>6</th>\n",
       "      <td>3</td>\n",
       "      <td>Charged Off</td>\n",
       "      <td>16.509434</td>\n",
       "    </tr>\n",
       "    <tr>\n",
       "      <th>2</th>\n",
       "      <td>1</td>\n",
       "      <td>Charged Off</td>\n",
       "      <td>15.809167</td>\n",
       "    </tr>\n",
       "    <tr>\n",
       "      <th>0</th>\n",
       "      <td>0</td>\n",
       "      <td>Charged Off</td>\n",
       "      <td>14.354679</td>\n",
       "    </tr>\n",
       "    <tr>\n",
       "      <th>10</th>\n",
       "      <td>5</td>\n",
       "      <td>Charged Off</td>\n",
       "      <td>14.285714</td>\n",
       "    </tr>\n",
       "    <tr>\n",
       "      <th>12</th>\n",
       "      <td>6</td>\n",
       "      <td>Charged Off</td>\n",
       "      <td>10.000000</td>\n",
       "    </tr>\n",
       "  </tbody>\n",
       "</table>\n",
       "</div>"
      ],
      "text/plain": [
       "    delinq_2yrs  loan_status  proportion(%)\n",
       "16            8  Charged Off      50.000000\n",
       "14            7  Charged Off      25.000000\n",
       "8             4  Charged Off      21.666667\n",
       "4             2  Charged Off      19.316493\n",
       "6             3  Charged Off      16.509434\n",
       "2             1  Charged Off      15.809167\n",
       "0             0  Charged Off      14.354679\n",
       "10            5  Charged Off      14.285714\n",
       "12            6  Charged Off      10.000000"
      ]
     },
     "execution_count": 72,
     "metadata": {},
     "output_type": "execute_result"
    }
   ],
   "source": [
    "# let's check the proportion of default for delinq_2yrs\n",
    "find_grouped_proportion('delinq_2yrs')"
   ]
  },
  {
   "cell_type": "markdown",
   "metadata": {},
   "source": [
    "We do observe from above that int_rate increases as delinq_2yrs increase and that there is an increase in tendency to default with increase in delinq_2yrs, so delinq_2yrs seems to be a driver variable."
   ]
  },
  {
   "cell_type": "code",
   "execution_count": 73,
   "metadata": {
    "collapsed": true
   },
   "outputs": [],
   "source": [
    "ls_driver_var.append('delinq_2yrs')"
   ]
  },
  {
   "cell_type": "markdown",
   "metadata": {},
   "source": [
    "### home_ownership: * variable to indicate home ownership status. *"
   ]
  },
  {
   "cell_type": "code",
   "execution_count": 74,
   "metadata": {
    "collapsed": false
   },
   "outputs": [
    {
     "data": {
      "image/png": "[encoded data removed]",
      "text/plain": [
       "<matplotlib.figure.Figure at 0xb7f5b00>"
      ]
     },
     "metadata": {},
     "output_type": "display_data"
    }
   ],
   "source": [
    "# let's check the distribution of home ownership.\n",
    "sns.countplot(loan_master.home_ownership)\n",
    "plt.show()"
   ]
  },
  {
   "cell_type": "markdown",
   "metadata": {},
   "source": [
    "We note from above that the distribution conatains very few samples of ownership 'OTHER', let's check the count proportion below"
   ]
  },
  {
   "cell_type": "code",
   "execution_count": 75,
   "metadata": {
    "collapsed": false
   },
   "outputs": [
    {
     "name": "stdout",
     "output_type": "stream",
     "text": [
      "percentage:  0.25403737978588276\n",
      "number:  98\n"
     ]
    }
   ],
   "source": [
    "print('percentage: ',100*len(loan_master[loan_master.home_ownership=='OTHER'])/len(loan_master))\n",
    "print('number: ',len(loan_master[loan_master.home_ownership=='OTHER']))\n",
    "      "
   ]
  },
  {
   "cell_type": "code",
   "execution_count": 76,
   "metadata": {
    "collapsed": false
   },
   "outputs": [
    {
     "data": {
      "image/png": "[encoded data removed]",
      "text/plain": [
       "<matplotlib.figure.Figure at 0xb09d470>"
      ]
     },
     "metadata": {},
     "output_type": "display_data"
    }
   ],
   "source": [
    "# let's check the distribution of default across home ownership.\n",
    "sns.barplot(x='home_ownership',y='loan_default',data=loan_master, estimator=np.mean)\n",
    "plt.show()"
   ]
  },
  {
   "cell_type": "code",
   "execution_count": 77,
   "metadata": {
    "collapsed": false
   },
   "outputs": [
    {
     "data": {
      "text/html": [
       "<div>\n",
       "<style>\n",
       "    .dataframe thead tr:only-child th {\n",
       "        text-align: right;\n",
       "    }\n",
       "\n",
       "    .dataframe thead th {\n",
       "        text-align: left;\n",
       "    }\n",
       "\n",
       "    .dataframe tbody tr th {\n",
       "        vertical-align: top;\n",
       "    }\n",
       "</style>\n",
       "<table border=\"1\" class=\"dataframe\">\n",
       "  <thead>\n",
       "    <tr style=\"text-align: right;\">\n",
       "      <th></th>\n",
       "      <th>home_ownership</th>\n",
       "      <th>loan_status</th>\n",
       "      <th>proportion(%)</th>\n",
       "    </tr>\n",
       "  </thead>\n",
       "  <tbody>\n",
       "    <tr>\n",
       "      <th>3</th>\n",
       "      <td>OTHER</td>\n",
       "      <td>Charged Off</td>\n",
       "      <td>18.367347</td>\n",
       "    </tr>\n",
       "    <tr>\n",
       "      <th>7</th>\n",
       "      <td>RENT</td>\n",
       "      <td>Charged Off</td>\n",
       "      <td>15.362554</td>\n",
       "    </tr>\n",
       "    <tr>\n",
       "      <th>5</th>\n",
       "      <td>OWN</td>\n",
       "      <td>Charged Off</td>\n",
       "      <td>14.890756</td>\n",
       "    </tr>\n",
       "    <tr>\n",
       "      <th>0</th>\n",
       "      <td>MORTGAGE</td>\n",
       "      <td>Charged Off</td>\n",
       "      <td>13.671347</td>\n",
       "    </tr>\n",
       "  </tbody>\n",
       "</table>\n",
       "</div>"
      ],
      "text/plain": [
       "  home_ownership  loan_status  proportion(%)\n",
       "3          OTHER  Charged Off      18.367347\n",
       "7           RENT  Charged Off      15.362554\n",
       "5            OWN  Charged Off      14.890756\n",
       "0       MORTGAGE  Charged Off      13.671347"
      ]
     },
     "execution_count": 77,
     "metadata": {},
     "output_type": "execute_result"
    }
   ],
   "source": [
    "# find the proportion of default.\n",
    "find_grouped_proportion('home_ownership')"
   ]
  },
  {
   "cell_type": "code",
   "execution_count": 78,
   "metadata": {
    "collapsed": false
   },
   "outputs": [
    {
     "data": {
      "text/plain": [
       "0.1836734693877551"
      ]
     },
     "execution_count": 78,
     "metadata": {},
     "output_type": "execute_result"
    }
   ],
   "source": [
    "loan_master[loan_master.home_ownership=='OTHER'].loan_default.mean()"
   ]
  },
  {
   "cell_type": "code",
   "execution_count": 79,
   "metadata": {
    "collapsed": false
   },
   "outputs": [
    {
     "data": {
      "text/plain": [
       "0.38920852215985663"
      ]
     },
     "execution_count": 79,
     "metadata": {},
     "output_type": "execute_result"
    }
   ],
   "source": [
    "loan_master[loan_master.home_ownership=='OTHER'].loan_default.std()"
   ]
  },
  {
   "cell_type": "markdown",
   "metadata": {},
   "source": [
    "As the count of home ownership for 'Other' is very small and has a large standard deviation we cannot conclude that it has any signifcant impact on tendency to default. Based on given data we cannot conclude that home ownership status has any impact on default."
   ]
  },
  {
   "cell_type": "markdown",
   "metadata": {},
   "source": [
    "### annual_inc: * variable indicating the annual income of loan applicant.*"
   ]
  },
  {
   "cell_type": "code",
   "execution_count": 80,
   "metadata": {
    "collapsed": false
   },
   "outputs": [
    {
     "data": {
      "image/png": "[encoded data removed]",
      "text/plain": [
       "<matplotlib.figure.Figure at 0xb4decc0>"
      ]
     },
     "metadata": {},
     "output_type": "display_data"
    }
   ],
   "source": [
    "# let us first check how annual income is distributed.\n",
    "plt.figure(figsize=(10,8))\n",
    "sns.boxplot(loan_master.annual_inc)\n",
    "plt.xscale('log')\n",
    "plt.show()"
   ]
  },
  {
   "cell_type": "markdown",
   "metadata": {},
   "source": [
    "from above boxplot we see that while most of the annual income distribution is within 200k range, there are large number of very large outlier annual income values."
   ]
  },
  {
   "cell_type": "code",
   "execution_count": 81,
   "metadata": {
    "collapsed": false
   },
   "outputs": [
    {
     "data": {
      "image/png": "[encoded data removed]",
      "text/plain": [
       "<matplotlib.figure.Figure at 0xc7c3278>"
      ]
     },
     "metadata": {},
     "output_type": "display_data"
    }
   ],
   "source": [
    "sns.distplot(loan_master[loan_master.annual_inc <200000].annual_inc)\n",
    "plt.show()"
   ]
  },
  {
   "cell_type": "code",
   "execution_count": 82,
   "metadata": {
    "collapsed": true
   },
   "outputs": [],
   "source": [
    "# create a function to divide annual income into buckets\n",
    "def Find_SalaryRange(x):\n",
    "    if x >=0 and x <2000:\n",
    "        return '0-2k'\n",
    "    if x>=2000 and x < 5000:\n",
    "        return '2-5k'\n",
    "    elif x>=5000 and x < 8000:\n",
    "        return '5-8k'\n",
    "    elif x>=8000 and x < 10000:\n",
    "        return '8-10k'\n",
    "    elif x>=10000 and x < 13000:\n",
    "        return '10-13k'\n",
    "    elif x>=13000 and x < 16000:\n",
    "        return '13-16k'\n",
    "    elif x>=16000 and x < 20000:\n",
    "        return '16-20k'\n",
    "    elif x>=20000 and x < 30000:\n",
    "        return '20-30k'\n",
    "    elif x>=30000 and x < 50000:\n",
    "        return '30-50k'\n",
    "    elif x>=50000 and x < 100000:\n",
    "        return '50-100k'\n",
    "    else:\n",
    "        return 'above 100K'"
   ]
  },
  {
   "cell_type": "code",
   "execution_count": 83,
   "metadata": {
    "collapsed": false
   },
   "outputs": [],
   "source": [
    "loan_master['annual_inc_range'] = loan_master.annual_inc.apply(Find_SalaryRange)"
   ]
  },
  {
   "cell_type": "code",
   "execution_count": 84,
   "metadata": {
    "collapsed": false
   },
   "outputs": [
    {
     "data": {
      "image/png": "[encoded data removed]",
      "text/plain": [
       "<matplotlib.figure.Figure at 0xafb19b0>"
      ]
     },
     "metadata": {},
     "output_type": "display_data"
    }
   ],
   "source": [
    "plt.figure(figsize=(10, 8))\n",
    "sns.countplot(y=loan_master.annual_inc_range)\n",
    "plt.show()"
   ]
  },
  {
   "cell_type": "code",
   "execution_count": 85,
   "metadata": {
    "collapsed": false
   },
   "outputs": [
    {
     "data": {
      "text/html": [
       "<div>\n",
       "<style>\n",
       "    .dataframe thead tr:only-child th {\n",
       "        text-align: right;\n",
       "    }\n",
       "\n",
       "    .dataframe thead th {\n",
       "        text-align: left;\n",
       "    }\n",
       "\n",
       "    .dataframe tbody tr th {\n",
       "        vertical-align: top;\n",
       "    }\n",
       "</style>\n",
       "<table border=\"1\" class=\"dataframe\">\n",
       "  <thead>\n",
       "    <tr style=\"text-align: right;\">\n",
       "      <th></th>\n",
       "      <th>annual_inc_range</th>\n",
       "      <th>loan_status</th>\n",
       "      <th>proportion(%)</th>\n",
       "    </tr>\n",
       "  </thead>\n",
       "  <tbody>\n",
       "    <tr>\n",
       "      <th>0</th>\n",
       "      <td>10-13k</td>\n",
       "      <td>Charged Off</td>\n",
       "      <td>28.804348</td>\n",
       "    </tr>\n",
       "    <tr>\n",
       "      <th>6</th>\n",
       "      <td>2-5k</td>\n",
       "      <td>Charged Off</td>\n",
       "      <td>22.222222</td>\n",
       "    </tr>\n",
       "    <tr>\n",
       "      <th>2</th>\n",
       "      <td>13-16k</td>\n",
       "      <td>Charged Off</td>\n",
       "      <td>20.875421</td>\n",
       "    </tr>\n",
       "    <tr>\n",
       "      <th>4</th>\n",
       "      <td>16-20k</td>\n",
       "      <td>Charged Off</td>\n",
       "      <td>19.678715</td>\n",
       "    </tr>\n",
       "    <tr>\n",
       "      <th>16</th>\n",
       "      <td>8-10k</td>\n",
       "      <td>Charged Off</td>\n",
       "      <td>18.181818</td>\n",
       "    </tr>\n",
       "    <tr>\n",
       "      <th>8</th>\n",
       "      <td>20-30k</td>\n",
       "      <td>Charged Off</td>\n",
       "      <td>17.616387</td>\n",
       "    </tr>\n",
       "    <tr>\n",
       "      <th>10</th>\n",
       "      <td>30-50k</td>\n",
       "      <td>Charged Off</td>\n",
       "      <td>16.473580</td>\n",
       "    </tr>\n",
       "    <tr>\n",
       "      <th>14</th>\n",
       "      <td>50-100k</td>\n",
       "      <td>Charged Off</td>\n",
       "      <td>13.894067</td>\n",
       "    </tr>\n",
       "    <tr>\n",
       "      <th>12</th>\n",
       "      <td>5-8k</td>\n",
       "      <td>Charged Off</td>\n",
       "      <td>13.333333</td>\n",
       "    </tr>\n",
       "    <tr>\n",
       "      <th>18</th>\n",
       "      <td>above 100K</td>\n",
       "      <td>Charged Off</td>\n",
       "      <td>10.771032</td>\n",
       "    </tr>\n",
       "  </tbody>\n",
       "</table>\n",
       "</div>"
      ],
      "text/plain": [
       "   annual_inc_range  loan_status  proportion(%)\n",
       "0            10-13k  Charged Off      28.804348\n",
       "6              2-5k  Charged Off      22.222222\n",
       "2            13-16k  Charged Off      20.875421\n",
       "4            16-20k  Charged Off      19.678715\n",
       "16            8-10k  Charged Off      18.181818\n",
       "8            20-30k  Charged Off      17.616387\n",
       "10           30-50k  Charged Off      16.473580\n",
       "14          50-100k  Charged Off      13.894067\n",
       "12             5-8k  Charged Off      13.333333\n",
       "18       above 100K  Charged Off      10.771032"
      ]
     },
     "execution_count": 85,
     "metadata": {},
     "output_type": "execute_result"
    }
   ],
   "source": [
    "find_grouped_proportion('annual_inc_range')"
   ]
  },
  {
   "cell_type": "markdown",
   "metadata": {},
   "source": [
    "from above it can be observed that generally default is more at lower annual income levels."
   ]
  },
  {
   "cell_type": "code",
   "execution_count": 86,
   "metadata": {
    "collapsed": false
   },
   "outputs": [
    {
     "data": {
      "text/html": [
       "<div>\n",
       "<style>\n",
       "    .dataframe thead tr:only-child th {\n",
       "        text-align: right;\n",
       "    }\n",
       "\n",
       "    .dataframe thead th {\n",
       "        text-align: left;\n",
       "    }\n",
       "\n",
       "    .dataframe tbody tr th {\n",
       "        vertical-align: top;\n",
       "    }\n",
       "</style>\n",
       "<table border=\"1\" class=\"dataframe\">\n",
       "  <thead>\n",
       "    <tr style=\"text-align: right;\">\n",
       "      <th></th>\n",
       "      <th>loan_amnt</th>\n",
       "      <th>annual_inc</th>\n",
       "    </tr>\n",
       "  </thead>\n",
       "  <tbody>\n",
       "    <tr>\n",
       "      <th>loan_amnt</th>\n",
       "      <td>1.000000</td>\n",
       "      <td>0.268999</td>\n",
       "    </tr>\n",
       "    <tr>\n",
       "      <th>annual_inc</th>\n",
       "      <td>0.268999</td>\n",
       "      <td>1.000000</td>\n",
       "    </tr>\n",
       "  </tbody>\n",
       "</table>\n",
       "</div>"
      ],
      "text/plain": [
       "            loan_amnt  annual_inc\n",
       "loan_amnt    1.000000    0.268999\n",
       "annual_inc   0.268999    1.000000"
      ]
     },
     "execution_count": 86,
     "metadata": {},
     "output_type": "execute_result"
    }
   ],
   "source": [
    "# let us check if there is any correlation between loan amount and annual income\n",
    "loan_master[['loan_amnt','annual_inc']].corr()"
   ]
  },
  {
   "cell_type": "markdown",
   "metadata": {},
   "source": [
    "There does not seem to be much correlation between loan amount and annual income which means that typically loan amounts are in the same range for person with a low income as well as person with a higher income."
   ]
  },
  {
   "cell_type": "markdown",
   "metadata": {},
   "source": [
    "From our business understanding of lending case we know that the repayment capability of a person decreases as the proportion of loan amount compared to his/her income increases. \n",
    "\n",
    "Let us define a new **Business Type** derived metric - **Loan Income Ratio**: loan_inc_ratio = loan_amnt/annual_inc\n"
   ]
  },
  {
   "cell_type": "code",
   "execution_count": 87,
   "metadata": {
    "collapsed": false
   },
   "outputs": [],
   "source": [
    "# let us create a new variable loan income ratio which is the ratio of loan amount with respect to income\n",
    "loan_master['loan_inc_ratio'] = loan_master.loan_amnt/loan_master.annual_inc"
   ]
  },
  {
   "cell_type": "code",
   "execution_count": 88,
   "metadata": {
    "collapsed": false
   },
   "outputs": [
    {
     "data": {
      "image/png": "[encoded data removed]",
      "text/plain": [
       "<matplotlib.figure.Figure at 0xb804dd8>"
      ]
     },
     "metadata": {},
     "output_type": "display_data"
    }
   ],
   "source": [
    "# let us check the distribution of loan income ratio\n",
    "sns.distplot(loan_master.loan_inc_ratio)\n",
    "plt.show()"
   ]
  },
  {
   "cell_type": "code",
   "execution_count": 89,
   "metadata": {
    "collapsed": true
   },
   "outputs": [],
   "source": [
    "# create a function to divide loan_income_ratio into buckets\n",
    "def Find_loan_income_ratio_range(x):\n",
    "    if x >=0 and x <0.1:\n",
    "        return '0-0.1'\n",
    "    if x>=0.1 and x < 0.2:\n",
    "        return '0.1-0.2'\n",
    "    elif x>=0.2 and x < 0.3:\n",
    "        return '0.2-0.3'\n",
    "    elif x>=0.3 and x < 0.4:\n",
    "        return '0.3-0.4'\n",
    "    elif x>=0.4 and x < 0.5:\n",
    "        return '0.4-0.5'\n",
    "    elif x>=0.5 and x < 0.6:\n",
    "        return '0.5-0.6'\n",
    "    elif x>=0.6 and x < 0.7:\n",
    "        return '0.6-0.7'\n",
    "    elif x>=0.7 and x < 0.8:\n",
    "        return '0.7-0.8'\n",
    "    else:\n",
    "        return 'above 0.8'"
   ]
  },
  {
   "cell_type": "code",
   "execution_count": 90,
   "metadata": {
    "collapsed": true
   },
   "outputs": [],
   "source": [
    "loan_master['total_loan_inc_ratio_range'] = loan_master.loan_inc_ratio.apply(Find_loan_income_ratio_range)"
   ]
  },
  {
   "cell_type": "code",
   "execution_count": 91,
   "metadata": {
    "collapsed": false
   },
   "outputs": [
    {
     "data": {
      "text/html": [
       "<div>\n",
       "<style>\n",
       "    .dataframe thead tr:only-child th {\n",
       "        text-align: right;\n",
       "    }\n",
       "\n",
       "    .dataframe thead th {\n",
       "        text-align: left;\n",
       "    }\n",
       "\n",
       "    .dataframe tbody tr th {\n",
       "        vertical-align: top;\n",
       "    }\n",
       "</style>\n",
       "<table border=\"1\" class=\"dataframe\">\n",
       "  <thead>\n",
       "    <tr style=\"text-align: right;\">\n",
       "      <th></th>\n",
       "      <th>total_loan_inc_ratio_range</th>\n",
       "      <th>loan_status</th>\n",
       "      <th>proportion(%)</th>\n",
       "    </tr>\n",
       "  </thead>\n",
       "  <tbody>\n",
       "    <tr>\n",
       "      <th>16</th>\n",
       "      <td>above 0.8</td>\n",
       "      <td>Charged Off</td>\n",
       "      <td>50.000000</td>\n",
       "    </tr>\n",
       "    <tr>\n",
       "      <th>10</th>\n",
       "      <td>0.5-0.6</td>\n",
       "      <td>Charged Off</td>\n",
       "      <td>32.624113</td>\n",
       "    </tr>\n",
       "    <tr>\n",
       "      <th>12</th>\n",
       "      <td>0.6-0.7</td>\n",
       "      <td>Charged Off</td>\n",
       "      <td>27.710843</td>\n",
       "    </tr>\n",
       "    <tr>\n",
       "      <th>8</th>\n",
       "      <td>0.4-0.5</td>\n",
       "      <td>Charged Off</td>\n",
       "      <td>24.921924</td>\n",
       "    </tr>\n",
       "    <tr>\n",
       "      <th>14</th>\n",
       "      <td>0.7-0.8</td>\n",
       "      <td>Charged Off</td>\n",
       "      <td>23.529412</td>\n",
       "    </tr>\n",
       "    <tr>\n",
       "      <th>6</th>\n",
       "      <td>0.3-0.4</td>\n",
       "      <td>Charged Off</td>\n",
       "      <td>20.220588</td>\n",
       "    </tr>\n",
       "    <tr>\n",
       "      <th>4</th>\n",
       "      <td>0.2-0.3</td>\n",
       "      <td>Charged Off</td>\n",
       "      <td>15.903027</td>\n",
       "    </tr>\n",
       "    <tr>\n",
       "      <th>2</th>\n",
       "      <td>0.1-0.2</td>\n",
       "      <td>Charged Off</td>\n",
       "      <td>12.406804</td>\n",
       "    </tr>\n",
       "    <tr>\n",
       "      <th>0</th>\n",
       "      <td>0-0.1</td>\n",
       "      <td>Charged Off</td>\n",
       "      <td>11.292628</td>\n",
       "    </tr>\n",
       "  </tbody>\n",
       "</table>\n",
       "</div>"
      ],
      "text/plain": [
       "   total_loan_inc_ratio_range  loan_status  proportion(%)\n",
       "16                  above 0.8  Charged Off      50.000000\n",
       "10                    0.5-0.6  Charged Off      32.624113\n",
       "12                    0.6-0.7  Charged Off      27.710843\n",
       "8                     0.4-0.5  Charged Off      24.921924\n",
       "14                    0.7-0.8  Charged Off      23.529412\n",
       "6                     0.3-0.4  Charged Off      20.220588\n",
       "4                     0.2-0.3  Charged Off      15.903027\n",
       "2                     0.1-0.2  Charged Off      12.406804\n",
       "0                       0-0.1  Charged Off      11.292628"
      ]
     },
     "execution_count": 91,
     "metadata": {},
     "output_type": "execute_result"
    }
   ],
   "source": [
    "find_grouped_proportion('total_loan_inc_ratio_range')"
   ]
  },
  {
   "cell_type": "code",
   "execution_count": 92,
   "metadata": {
    "collapsed": false
   },
   "outputs": [
    {
     "data": {
      "image/png": "[encoded data removed]",
      "text/plain": [
       "<matplotlib.figure.Figure at 0xb7109e8>"
      ]
     },
     "metadata": {},
     "output_type": "display_data"
    }
   ],
   "source": [
    "plt.figure(figsize=(10,8))\n",
    "sns.barplot(y='total_loan_inc_ratio_range',x='loan_default',data=loan_master, estimator=np.mean,ci=None)\n",
    "plt.axvline(x=0.15)\n",
    "plt.ylabel('loan income ratio range')\n",
    "plt.xlabel('proportion of loan default')\n",
    "plt.show()"
   ]
  },
  {
   "cell_type": "markdown",
   "metadata": {},
   "source": [
    "We can clearly see from above figures that there is substantial increase in tendency to default as the loan to income ratio increases more than 40%.\n",
    "\n",
    "Loan to Income Ratio is thus a driver variable for tendency to default.\n"
   ]
  },
  {
   "cell_type": "code",
   "execution_count": 93,
   "metadata": {
    "collapsed": true
   },
   "outputs": [],
   "source": [
    "ls_driver_var.append('loan_inc_ratio')"
   ]
  },
  {
   "cell_type": "markdown",
   "metadata": {},
   "source": [
    "### dti : * variable indicating debt to income ratio of loan applicant*\n",
    "\n",
    "References: https://www.lendingclub.com/loans/resource-center/calculating-debt-to-income"
   ]
  },
  {
   "cell_type": "code",
   "execution_count": 94,
   "metadata": {
    "collapsed": false
   },
   "outputs": [
    {
     "data": {
      "image/png": "[encoded data removed]",
      "text/plain": [
       "<matplotlib.figure.Figure at 0xb079f98>"
      ]
     },
     "metadata": {},
     "output_type": "display_data"
    }
   ],
   "source": [
    "# let us check how dti values are distributed\n",
    "sns.distplot(loan_master.dti)\n",
    "plt.show()"
   ]
  },
  {
   "cell_type": "code",
   "execution_count": 95,
   "metadata": {
    "collapsed": true
   },
   "outputs": [],
   "source": [
    "# create a function to divide dti into buckets\n",
    "def Find_DTI_Range(x):\n",
    "    if x >=0 and x <2.5:\n",
    "        return '0-2.5'\n",
    "    if x>=2.5 and x < 5:\n",
    "        return '2.5-5'\n",
    "    elif x>=5 and x < 7.5:\n",
    "        return '5-7.5'\n",
    "    elif x>=7.5 and x < 10:\n",
    "        return '7.5-10'\n",
    "    elif x>=10 and x < 12.5:\n",
    "        return '10-12.5'\n",
    "    elif x>=12.5 and x < 15:\n",
    "        return '12.5-15'\n",
    "    elif x>=15 and x < 17.5:\n",
    "        return '15-17.5'\n",
    "    elif x>=17.5 and x < 20:\n",
    "        return '17.5-20'\n",
    "    elif x>=20 and x < 22.5:\n",
    "        return '20-22.5'\n",
    "    elif x>=22.5 and x < 25:\n",
    "        return '22.5-25'\n",
    "    else:\n",
    "        return 'above 25'"
   ]
  },
  {
   "cell_type": "code",
   "execution_count": 96,
   "metadata": {
    "collapsed": true
   },
   "outputs": [],
   "source": [
    "loan_master['dti_range'] = loan_master.dti.apply(Find_DTI_Range)"
   ]
  },
  {
   "cell_type": "code",
   "execution_count": 97,
   "metadata": {
    "collapsed": false
   },
   "outputs": [
    {
     "data": {
      "image/png": "[encoded data removed]",
      "text/plain": [
       "<matplotlib.figure.Figure at 0x65c4b00>"
      ]
     },
     "metadata": {},
     "output_type": "display_data"
    }
   ],
   "source": [
    "plt.figure(figsize=(10, 8))\n",
    "sns.barplot(y=loan_master.dti_range.sort_values(),x=loan_master.loan_default,data=loan_master,estimator=np.mean,ci=None)\n",
    "plt.axvline(x=0.15)\n",
    "plt.xlabel('proportion of loan default')\n",
    "plt.ylabel('dti range')\n",
    "plt.show()"
   ]
  },
  {
   "cell_type": "code",
   "execution_count": 98,
   "metadata": {
    "collapsed": false
   },
   "outputs": [
    {
     "data": {
      "text/html": [
       "<div>\n",
       "<style>\n",
       "    .dataframe thead tr:only-child th {\n",
       "        text-align: right;\n",
       "    }\n",
       "\n",
       "    .dataframe thead th {\n",
       "        text-align: left;\n",
       "    }\n",
       "\n",
       "    .dataframe tbody tr th {\n",
       "        vertical-align: top;\n",
       "    }\n",
       "</style>\n",
       "<table border=\"1\" class=\"dataframe\">\n",
       "  <thead>\n",
       "    <tr style=\"text-align: right;\">\n",
       "      <th></th>\n",
       "      <th>dti_range</th>\n",
       "      <th>loan_status</th>\n",
       "      <th>proportion(%)</th>\n",
       "    </tr>\n",
       "  </thead>\n",
       "  <tbody>\n",
       "    <tr>\n",
       "      <th>14</th>\n",
       "      <td>22.5-25</td>\n",
       "      <td>Charged Off</td>\n",
       "      <td>17.006803</td>\n",
       "    </tr>\n",
       "    <tr>\n",
       "      <th>12</th>\n",
       "      <td>20-22.5</td>\n",
       "      <td>Charged Off</td>\n",
       "      <td>16.971850</td>\n",
       "    </tr>\n",
       "    <tr>\n",
       "      <th>8</th>\n",
       "      <td>17.5-20</td>\n",
       "      <td>Charged Off</td>\n",
       "      <td>16.544725</td>\n",
       "    </tr>\n",
       "    <tr>\n",
       "      <th>6</th>\n",
       "      <td>15-17.5</td>\n",
       "      <td>Charged Off</td>\n",
       "      <td>15.107914</td>\n",
       "    </tr>\n",
       "    <tr>\n",
       "      <th>4</th>\n",
       "      <td>12.5-15</td>\n",
       "      <td>Charged Off</td>\n",
       "      <td>15.094340</td>\n",
       "    </tr>\n",
       "    <tr>\n",
       "      <th>2</th>\n",
       "      <td>10-12.5</td>\n",
       "      <td>Charged Off</td>\n",
       "      <td>13.937958</td>\n",
       "    </tr>\n",
       "    <tr>\n",
       "      <th>20</th>\n",
       "      <td>above 25</td>\n",
       "      <td>Charged Off</td>\n",
       "      <td>13.920000</td>\n",
       "    </tr>\n",
       "    <tr>\n",
       "      <th>18</th>\n",
       "      <td>7.5-10</td>\n",
       "      <td>Charged Off</td>\n",
       "      <td>13.307105</td>\n",
       "    </tr>\n",
       "    <tr>\n",
       "      <th>0</th>\n",
       "      <td>0-2.5</td>\n",
       "      <td>Charged Off</td>\n",
       "      <td>12.641674</td>\n",
       "    </tr>\n",
       "    <tr>\n",
       "      <th>10</th>\n",
       "      <td>2.5-5</td>\n",
       "      <td>Charged Off</td>\n",
       "      <td>12.181818</td>\n",
       "    </tr>\n",
       "    <tr>\n",
       "      <th>16</th>\n",
       "      <td>5-7.5</td>\n",
       "      <td>Charged Off</td>\n",
       "      <td>12.033898</td>\n",
       "    </tr>\n",
       "  </tbody>\n",
       "</table>\n",
       "</div>"
      ],
      "text/plain": [
       "   dti_range  loan_status  proportion(%)\n",
       "14   22.5-25  Charged Off      17.006803\n",
       "12   20-22.5  Charged Off      16.971850\n",
       "8    17.5-20  Charged Off      16.544725\n",
       "6    15-17.5  Charged Off      15.107914\n",
       "4    12.5-15  Charged Off      15.094340\n",
       "2    10-12.5  Charged Off      13.937958\n",
       "20  above 25  Charged Off      13.920000\n",
       "18    7.5-10  Charged Off      13.307105\n",
       "0      0-2.5  Charged Off      12.641674\n",
       "10     2.5-5  Charged Off      12.181818\n",
       "16     5-7.5  Charged Off      12.033898"
      ]
     },
     "execution_count": 98,
     "metadata": {},
     "output_type": "execute_result"
    }
   ],
   "source": [
    "find_grouped_proportion('dti_range')"
   ]
  },
  {
   "cell_type": "markdown",
   "metadata": {},
   "source": [
    "From above it can be seen that likelihood of default increase as Debt to Income ratio increases beyond 17.5. Above 25 a decrease is there but it is likely because there are very few instances where dti is more than 25."
   ]
  },
  {
   "cell_type": "code",
   "execution_count": 99,
   "metadata": {
    "collapsed": true
   },
   "outputs": [],
   "source": [
    "ls_driver_var.append('dti')"
   ]
  },
  {
   "cell_type": "markdown",
   "metadata": {},
   "source": [
    "### revol_util: * variable indicating revolving line utilization rate, or the amount of credit the borrower is using relative to all available revolving credit.*"
   ]
  },
  {
   "cell_type": "code",
   "execution_count": 100,
   "metadata": {
    "collapsed": false
   },
   "outputs": [
    {
     "data": {
      "text/plain": [
       "0    83.70%\n",
       "1     9.40%\n",
       "2    98.50%\n",
       "3       21%\n",
       "5    28.30%\n",
       "Name: revol_util, dtype: object"
      ]
     },
     "execution_count": 100,
     "metadata": {},
     "output_type": "execute_result"
    }
   ],
   "source": [
    "loan_master.revol_util.head()"
   ]
  },
  {
   "cell_type": "code",
   "execution_count": 101,
   "metadata": {
    "collapsed": false
   },
   "outputs": [],
   "source": [
    "# let us first convert to value removing % sign\n",
    "loan_master.revol_util = loan_master.revol_util.apply(lambda x: x if pd.isnull(x) else float(x.split('%')[0]))"
   ]
  },
  {
   "cell_type": "code",
   "execution_count": 102,
   "metadata": {
    "collapsed": false
   },
   "outputs": [
    {
     "data": {
      "text/plain": [
       "99.900000000000006"
      ]
     },
     "execution_count": 102,
     "metadata": {},
     "output_type": "execute_result"
    }
   ],
   "source": [
    "loan_master.revol_util.max()"
   ]
  },
  {
   "cell_type": "code",
   "execution_count": 103,
   "metadata": {
    "collapsed": true
   },
   "outputs": [],
   "source": [
    "# create a function to divide revolving utilization into buckets\n",
    "def Find_revo_util_range(x):\n",
    "    if x >=0 and x <10:\n",
    "        return '0-10'\n",
    "    if x>=10 and x < 20:\n",
    "        return '10-20'\n",
    "    elif x>=20 and x < 30:\n",
    "        return '20-30'\n",
    "    elif x>=30 and x < 40:\n",
    "        return '30-40'\n",
    "    elif x>=40 and x < 50:\n",
    "        return '40-50'\n",
    "    elif x>=50 and x < 60:\n",
    "        return '50-60'\n",
    "    elif x>=60 and x < 70:\n",
    "        return '60-70'\n",
    "    elif x>=70 and x < 80:\n",
    "        return '70-80'\n",
    "    elif x>=80 and x < 90:\n",
    "        return '80-90'\n",
    "    elif x>=90 and x < 100:\n",
    "        return '90-100'\n",
    "    else:\n",
    "        return 'above 100'"
   ]
  },
  {
   "cell_type": "code",
   "execution_count": 104,
   "metadata": {
    "collapsed": false
   },
   "outputs": [],
   "source": [
    "loan_master['revol_util_range'] = loan_master.revol_util.apply(Find_revo_util_range)"
   ]
  },
  {
   "cell_type": "code",
   "execution_count": 105,
   "metadata": {
    "collapsed": false
   },
   "outputs": [
    {
     "data": {
      "text/html": [
       "<div>\n",
       "<style>\n",
       "    .dataframe thead tr:only-child th {\n",
       "        text-align: right;\n",
       "    }\n",
       "\n",
       "    .dataframe thead th {\n",
       "        text-align: left;\n",
       "    }\n",
       "\n",
       "    .dataframe tbody tr th {\n",
       "        vertical-align: top;\n",
       "    }\n",
       "</style>\n",
       "<table border=\"1\" class=\"dataframe\">\n",
       "  <thead>\n",
       "    <tr style=\"text-align: right;\">\n",
       "      <th></th>\n",
       "      <th>revol_util_range</th>\n",
       "      <th>loan_status</th>\n",
       "      <th>proportion(%)</th>\n",
       "    </tr>\n",
       "  </thead>\n",
       "  <tbody>\n",
       "    <tr>\n",
       "      <th>20</th>\n",
       "      <td>above 100</td>\n",
       "      <td>Charged Off</td>\n",
       "      <td>32.000000</td>\n",
       "    </tr>\n",
       "    <tr>\n",
       "      <th>18</th>\n",
       "      <td>90-100</td>\n",
       "      <td>Charged Off</td>\n",
       "      <td>21.407907</td>\n",
       "    </tr>\n",
       "    <tr>\n",
       "      <th>16</th>\n",
       "      <td>80-90</td>\n",
       "      <td>Charged Off</td>\n",
       "      <td>18.868981</td>\n",
       "    </tr>\n",
       "    <tr>\n",
       "      <th>14</th>\n",
       "      <td>70-80</td>\n",
       "      <td>Charged Off</td>\n",
       "      <td>17.815945</td>\n",
       "    </tr>\n",
       "    <tr>\n",
       "      <th>12</th>\n",
       "      <td>60-70</td>\n",
       "      <td>Charged Off</td>\n",
       "      <td>16.151788</td>\n",
       "    </tr>\n",
       "    <tr>\n",
       "      <th>10</th>\n",
       "      <td>50-60</td>\n",
       "      <td>Charged Off</td>\n",
       "      <td>15.070456</td>\n",
       "    </tr>\n",
       "    <tr>\n",
       "      <th>8</th>\n",
       "      <td>40-50</td>\n",
       "      <td>Charged Off</td>\n",
       "      <td>14.258600</td>\n",
       "    </tr>\n",
       "    <tr>\n",
       "      <th>6</th>\n",
       "      <td>30-40</td>\n",
       "      <td>Charged Off</td>\n",
       "      <td>12.425000</td>\n",
       "    </tr>\n",
       "    <tr>\n",
       "      <th>4</th>\n",
       "      <td>20-30</td>\n",
       "      <td>Charged Off</td>\n",
       "      <td>11.197847</td>\n",
       "    </tr>\n",
       "    <tr>\n",
       "      <th>2</th>\n",
       "      <td>10-20</td>\n",
       "      <td>Charged Off</td>\n",
       "      <td>10.078455</td>\n",
       "    </tr>\n",
       "    <tr>\n",
       "      <th>0</th>\n",
       "      <td>0-10</td>\n",
       "      <td>Charged Off</td>\n",
       "      <td>9.838673</td>\n",
       "    </tr>\n",
       "  </tbody>\n",
       "</table>\n",
       "</div>"
      ],
      "text/plain": [
       "   revol_util_range  loan_status  proportion(%)\n",
       "20        above 100  Charged Off      32.000000\n",
       "18           90-100  Charged Off      21.407907\n",
       "16            80-90  Charged Off      18.868981\n",
       "14            70-80  Charged Off      17.815945\n",
       "12            60-70  Charged Off      16.151788\n",
       "10            50-60  Charged Off      15.070456\n",
       "8             40-50  Charged Off      14.258600\n",
       "6             30-40  Charged Off      12.425000\n",
       "4             20-30  Charged Off      11.197847\n",
       "2             10-20  Charged Off      10.078455\n",
       "0              0-10  Charged Off       9.838673"
      ]
     },
     "execution_count": 105,
     "metadata": {},
     "output_type": "execute_result"
    }
   ],
   "source": [
    "find_grouped_proportion('revol_util_range')"
   ]
  },
  {
   "cell_type": "code",
   "execution_count": 106,
   "metadata": {
    "collapsed": false
   },
   "outputs": [
    {
     "data": {
      "image/png": "[encoded data removed]",
      "text/plain": [
       "<matplotlib.figure.Figure at 0xb499358>"
      ]
     },
     "metadata": {},
     "output_type": "display_data"
    }
   ],
   "source": [
    "plt.figure(figsize=(10, 8))\n",
    "sns.barplot(y=loan_master.revol_util_range,x=loan_master.loan_default,data=loan_master,estimator=np.mean,ci=None)\n",
    "plt.axvline(x= 0.15)\n",
    "plt.ylabel('revolving utilization range')\n",
    "plt.xlabel('proportion of loan default')\n",
    "plt.show()"
   ]
  },
  {
   "cell_type": "markdown",
   "metadata": {},
   "source": [
    "From above it is clear that tendency to default increases as revolving line utilization rate increase beyond 60%\n",
    "revol_util_range is a driver variable for tendency to default."
   ]
  },
  {
   "cell_type": "code",
   "execution_count": 107,
   "metadata": {
    "collapsed": true
   },
   "outputs": [],
   "source": [
    "# add as a driver variable\n",
    "ls_driver_var.append('revol_util')"
   ]
  },
  {
   "cell_type": "markdown",
   "metadata": {},
   "source": [
    "### total_acc: * variable indicating the total number of credit lines currently in the borrower's credit file.*"
   ]
  },
  {
   "cell_type": "code",
   "execution_count": 108,
   "metadata": {
    "collapsed": false
   },
   "outputs": [
    {
     "data": {
      "text/plain": [
       "90"
      ]
     },
     "execution_count": 108,
     "metadata": {},
     "output_type": "execute_result"
    }
   ],
   "source": [
    "loan_master.total_acc.max()"
   ]
  },
  {
   "cell_type": "code",
   "execution_count": 109,
   "metadata": {
    "collapsed": false
   },
   "outputs": [
    {
     "data": {
      "image/png": "[encoded data removed]",
      "text/plain": [
       "<matplotlib.figure.Figure at 0xb7cfcc0>"
      ]
     },
     "metadata": {},
     "output_type": "display_data"
    }
   ],
   "source": [
    "# let us check how total_acc varibale is distributed\n",
    "sns.distplot(loan_master.total_acc)\n",
    "plt.show()"
   ]
  },
  {
   "cell_type": "code",
   "execution_count": 110,
   "metadata": {
    "collapsed": true
   },
   "outputs": [],
   "source": [
    "loan_master['total_acc_range'] = loan_master.total_acc.apply(Find_revo_util_range)"
   ]
  },
  {
   "cell_type": "code",
   "execution_count": 111,
   "metadata": {
    "collapsed": false
   },
   "outputs": [
    {
     "data": {
      "text/html": [
       "<div>\n",
       "<style>\n",
       "    .dataframe thead tr:only-child th {\n",
       "        text-align: right;\n",
       "    }\n",
       "\n",
       "    .dataframe thead th {\n",
       "        text-align: left;\n",
       "    }\n",
       "\n",
       "    .dataframe tbody tr th {\n",
       "        vertical-align: top;\n",
       "    }\n",
       "</style>\n",
       "<table border=\"1\" class=\"dataframe\">\n",
       "  <thead>\n",
       "    <tr style=\"text-align: right;\">\n",
       "      <th></th>\n",
       "      <th>total_acc_range</th>\n",
       "      <th>loan_status</th>\n",
       "      <th>proportion(%)</th>\n",
       "    </tr>\n",
       "  </thead>\n",
       "  <tbody>\n",
       "    <tr>\n",
       "      <th>0</th>\n",
       "      <td>0-10</td>\n",
       "      <td>Charged Off</td>\n",
       "      <td>16.905628</td>\n",
       "    </tr>\n",
       "    <tr>\n",
       "      <th>14</th>\n",
       "      <td>70-80</td>\n",
       "      <td>Charged Off</td>\n",
       "      <td>15.384615</td>\n",
       "    </tr>\n",
       "    <tr>\n",
       "      <th>8</th>\n",
       "      <td>40-50</td>\n",
       "      <td>Charged Off</td>\n",
       "      <td>15.072329</td>\n",
       "    </tr>\n",
       "    <tr>\n",
       "      <th>2</th>\n",
       "      <td>10-20</td>\n",
       "      <td>Charged Off</td>\n",
       "      <td>15.043258</td>\n",
       "    </tr>\n",
       "    <tr>\n",
       "      <th>12</th>\n",
       "      <td>60-70</td>\n",
       "      <td>Charged Off</td>\n",
       "      <td>14.814815</td>\n",
       "    </tr>\n",
       "    <tr>\n",
       "      <th>6</th>\n",
       "      <td>30-40</td>\n",
       "      <td>Charged Off</td>\n",
       "      <td>14.302384</td>\n",
       "    </tr>\n",
       "    <tr>\n",
       "      <th>4</th>\n",
       "      <td>20-30</td>\n",
       "      <td>Charged Off</td>\n",
       "      <td>13.422292</td>\n",
       "    </tr>\n",
       "    <tr>\n",
       "      <th>10</th>\n",
       "      <td>50-60</td>\n",
       "      <td>Charged Off</td>\n",
       "      <td>10.076336</td>\n",
       "    </tr>\n",
       "  </tbody>\n",
       "</table>\n",
       "</div>"
      ],
      "text/plain": [
       "   total_acc_range  loan_status  proportion(%)\n",
       "0             0-10  Charged Off      16.905628\n",
       "14           70-80  Charged Off      15.384615\n",
       "8            40-50  Charged Off      15.072329\n",
       "2            10-20  Charged Off      15.043258\n",
       "12           60-70  Charged Off      14.814815\n",
       "6            30-40  Charged Off      14.302384\n",
       "4            20-30  Charged Off      13.422292\n",
       "10           50-60  Charged Off      10.076336"
      ]
     },
     "execution_count": 111,
     "metadata": {},
     "output_type": "execute_result"
    }
   ],
   "source": [
    "find_grouped_proportion('total_acc_range')"
   ]
  },
  {
   "cell_type": "code",
   "execution_count": 112,
   "metadata": {
    "collapsed": false
   },
   "outputs": [
    {
     "data": {
      "image/png": "[encoded data removed]",
      "text/plain": [
       "<matplotlib.figure.Figure at 0xb5ee160>"
      ]
     },
     "metadata": {},
     "output_type": "display_data"
    }
   ],
   "source": [
    "plt.figure(figsize=(10, 8))\n",
    "sns.barplot(y=loan_master.total_acc_range,x=loan_master.loan_default,data=loan_master,estimator=np.mean)\n",
    "plt.axvline(x= 0.15)\n",
    "plt.show()"
   ]
  },
  {
   "cell_type": "markdown",
   "metadata": {},
   "source": [
    "From above we donot see any substantial increase in tendency to default based on total number of credit lines"
   ]
  },
  {
   "cell_type": "code",
   "execution_count": 113,
   "metadata": {
    "collapsed": false
   },
   "outputs": [
    {
     "data": {
      "text/html": [
       "<div>\n",
       "<style>\n",
       "    .dataframe thead tr:only-child th {\n",
       "        text-align: right;\n",
       "    }\n",
       "\n",
       "    .dataframe thead th {\n",
       "        text-align: left;\n",
       "    }\n",
       "\n",
       "    .dataframe tbody tr th {\n",
       "        vertical-align: top;\n",
       "    }\n",
       "</style>\n",
       "<table border=\"1\" class=\"dataframe\">\n",
       "  <thead>\n",
       "    <tr style=\"text-align: right;\">\n",
       "      <th></th>\n",
       "      <th>revol_bal</th>\n",
       "      <th>revol_util</th>\n",
       "    </tr>\n",
       "  </thead>\n",
       "  <tbody>\n",
       "    <tr>\n",
       "      <th>revol_bal</th>\n",
       "      <td>1.000000</td>\n",
       "      <td>0.301248</td>\n",
       "    </tr>\n",
       "    <tr>\n",
       "      <th>revol_util</th>\n",
       "      <td>0.301248</td>\n",
       "      <td>1.000000</td>\n",
       "    </tr>\n",
       "  </tbody>\n",
       "</table>\n",
       "</div>"
      ],
      "text/plain": [
       "            revol_bal  revol_util\n",
       "revol_bal    1.000000    0.301248\n",
       "revol_util   0.301248    1.000000"
      ]
     },
     "execution_count": 113,
     "metadata": {},
     "output_type": "execute_result"
    }
   ],
   "source": [
    "# let us check another variable revol_bal, let us check if there is a correlation between revol_bal \n",
    "# and revol_util\n",
    "loan_master[['revol_bal','revol_util']].corr()"
   ]
  },
  {
   "cell_type": "markdown",
   "metadata": {},
   "source": [
    "There does not seem to be a high correlation between revolving balance and revolving balance utilization"
   ]
  },
  {
   "cell_type": "code",
   "execution_count": 114,
   "metadata": {
    "collapsed": false
   },
   "outputs": [
    {
     "data": {
      "text/html": [
       "<div>\n",
       "<style>\n",
       "    .dataframe thead tr:only-child th {\n",
       "        text-align: right;\n",
       "    }\n",
       "\n",
       "    .dataframe thead th {\n",
       "        text-align: left;\n",
       "    }\n",
       "\n",
       "    .dataframe tbody tr th {\n",
       "        vertical-align: top;\n",
       "    }\n",
       "</style>\n",
       "<table border=\"1\" class=\"dataframe\">\n",
       "  <thead>\n",
       "    <tr style=\"text-align: right;\">\n",
       "      <th></th>\n",
       "      <th>revol_bal</th>\n",
       "      <th>total_acc</th>\n",
       "    </tr>\n",
       "  </thead>\n",
       "  <tbody>\n",
       "    <tr>\n",
       "      <th>revol_bal</th>\n",
       "      <td>1.000000</td>\n",
       "      <td>0.312634</td>\n",
       "    </tr>\n",
       "    <tr>\n",
       "      <th>total_acc</th>\n",
       "      <td>0.312634</td>\n",
       "      <td>1.000000</td>\n",
       "    </tr>\n",
       "  </tbody>\n",
       "</table>\n",
       "</div>"
      ],
      "text/plain": [
       "           revol_bal  total_acc\n",
       "revol_bal   1.000000   0.312634\n",
       "total_acc   0.312634   1.000000"
      ]
     },
     "execution_count": 114,
     "metadata": {},
     "output_type": "execute_result"
    }
   ],
   "source": [
    "# let us check if there is a correlation between revol_bal and total_acc\n",
    "loan_master[['revol_bal','total_acc']].corr()"
   ]
  },
  {
   "cell_type": "code",
   "execution_count": 115,
   "metadata": {
    "collapsed": false
   },
   "outputs": [
    {
     "data": {
      "image/png": "[encoded data removed]",
      "text/plain": [
       "<matplotlib.figure.Figure at 0xb5ee400>"
      ]
     },
     "metadata": {},
     "output_type": "display_data"
    }
   ],
   "source": [
    "# let us check the distribution of revolving balance\n",
    "sns.distplot(loan_master.revol_bal)\n",
    "plt.show()"
   ]
  },
  {
   "cell_type": "code",
   "execution_count": 116,
   "metadata": {
    "collapsed": true
   },
   "outputs": [],
   "source": [
    "# let us define a new variable revolving balance per available credit line\n",
    "loan_master['revol_bal_per_acc']=loan_master.revol_bal/loan_master.total_acc"
   ]
  },
  {
   "cell_type": "code",
   "execution_count": 117,
   "metadata": {
    "collapsed": false
   },
   "outputs": [
    {
     "data": {
      "text/html": [
       "<div>\n",
       "<style>\n",
       "    .dataframe thead tr:only-child th {\n",
       "        text-align: right;\n",
       "    }\n",
       "\n",
       "    .dataframe thead th {\n",
       "        text-align: left;\n",
       "    }\n",
       "\n",
       "    .dataframe tbody tr th {\n",
       "        vertical-align: top;\n",
       "    }\n",
       "</style>\n",
       "<table border=\"1\" class=\"dataframe\">\n",
       "  <thead>\n",
       "    <tr style=\"text-align: right;\">\n",
       "      <th></th>\n",
       "      <th>revol_bal_per_acc</th>\n",
       "      <th>loan_status</th>\n",
       "      <th>proportion(%)</th>\n",
       "    </tr>\n",
       "  </thead>\n",
       "  <tbody>\n",
       "    <tr>\n",
       "      <th>18083</th>\n",
       "      <td>507.250000</td>\n",
       "      <td>Charged Off</td>\n",
       "      <td>100.000000</td>\n",
       "    </tr>\n",
       "    <tr>\n",
       "      <th>23242</th>\n",
       "      <td>715.818182</td>\n",
       "      <td>Charged Off</td>\n",
       "      <td>100.000000</td>\n",
       "    </tr>\n",
       "    <tr>\n",
       "      <th>23271</th>\n",
       "      <td>717.090909</td>\n",
       "      <td>Charged Off</td>\n",
       "      <td>100.000000</td>\n",
       "    </tr>\n",
       "    <tr>\n",
       "      <th>23269</th>\n",
       "      <td>716.954545</td>\n",
       "      <td>Charged Off</td>\n",
       "      <td>100.000000</td>\n",
       "    </tr>\n",
       "    <tr>\n",
       "      <th>23267</th>\n",
       "      <td>716.866667</td>\n",
       "      <td>Charged Off</td>\n",
       "      <td>100.000000</td>\n",
       "    </tr>\n",
       "    <tr>\n",
       "      <th>23262</th>\n",
       "      <td>716.666667</td>\n",
       "      <td>Charged Off</td>\n",
       "      <td>100.000000</td>\n",
       "    </tr>\n",
       "    <tr>\n",
       "      <th>23254</th>\n",
       "      <td>716.441176</td>\n",
       "      <td>Charged Off</td>\n",
       "      <td>100.000000</td>\n",
       "    </tr>\n",
       "    <tr>\n",
       "      <th>23253</th>\n",
       "      <td>716.440000</td>\n",
       "      <td>Charged Off</td>\n",
       "      <td>100.000000</td>\n",
       "    </tr>\n",
       "    <tr>\n",
       "      <th>23249</th>\n",
       "      <td>716.125000</td>\n",
       "      <td>Charged Off</td>\n",
       "      <td>100.000000</td>\n",
       "    </tr>\n",
       "    <tr>\n",
       "      <th>23236</th>\n",
       "      <td>715.484848</td>\n",
       "      <td>Charged Off</td>\n",
       "      <td>100.000000</td>\n",
       "    </tr>\n",
       "    <tr>\n",
       "      <th>23279</th>\n",
       "      <td>717.320000</td>\n",
       "      <td>Charged Off</td>\n",
       "      <td>100.000000</td>\n",
       "    </tr>\n",
       "    <tr>\n",
       "      <th>23207</th>\n",
       "      <td>714.200000</td>\n",
       "      <td>Charged Off</td>\n",
       "      <td>100.000000</td>\n",
       "    </tr>\n",
       "    <tr>\n",
       "      <th>23193</th>\n",
       "      <td>713.666667</td>\n",
       "      <td>Charged Off</td>\n",
       "      <td>100.000000</td>\n",
       "    </tr>\n",
       "    <tr>\n",
       "      <th>23185</th>\n",
       "      <td>713.307692</td>\n",
       "      <td>Charged Off</td>\n",
       "      <td>100.000000</td>\n",
       "    </tr>\n",
       "    <tr>\n",
       "      <th>23184</th>\n",
       "      <td>713.272727</td>\n",
       "      <td>Charged Off</td>\n",
       "      <td>100.000000</td>\n",
       "    </tr>\n",
       "    <tr>\n",
       "      <th>23181</th>\n",
       "      <td>713.181818</td>\n",
       "      <td>Charged Off</td>\n",
       "      <td>100.000000</td>\n",
       "    </tr>\n",
       "    <tr>\n",
       "      <th>23179</th>\n",
       "      <td>713.148148</td>\n",
       "      <td>Charged Off</td>\n",
       "      <td>100.000000</td>\n",
       "    </tr>\n",
       "    <tr>\n",
       "      <th>23178</th>\n",
       "      <td>713.133333</td>\n",
       "      <td>Charged Off</td>\n",
       "      <td>100.000000</td>\n",
       "    </tr>\n",
       "    <tr>\n",
       "      <th>23272</th>\n",
       "      <td>717.103448</td>\n",
       "      <td>Charged Off</td>\n",
       "      <td>100.000000</td>\n",
       "    </tr>\n",
       "    <tr>\n",
       "      <th>23288</th>\n",
       "      <td>717.913043</td>\n",
       "      <td>Charged Off</td>\n",
       "      <td>100.000000</td>\n",
       "    </tr>\n",
       "    <tr>\n",
       "      <th>23175</th>\n",
       "      <td>713.050000</td>\n",
       "      <td>Charged Off</td>\n",
       "      <td>100.000000</td>\n",
       "    </tr>\n",
       "    <tr>\n",
       "      <th>23383</th>\n",
       "      <td>722.125000</td>\n",
       "      <td>Charged Off</td>\n",
       "      <td>100.000000</td>\n",
       "    </tr>\n",
       "    <tr>\n",
       "      <th>23420</th>\n",
       "      <td>723.846154</td>\n",
       "      <td>Charged Off</td>\n",
       "      <td>100.000000</td>\n",
       "    </tr>\n",
       "    <tr>\n",
       "      <th>23419</th>\n",
       "      <td>723.840909</td>\n",
       "      <td>Charged Off</td>\n",
       "      <td>100.000000</td>\n",
       "    </tr>\n",
       "    <tr>\n",
       "      <th>23417</th>\n",
       "      <td>723.810811</td>\n",
       "      <td>Charged Off</td>\n",
       "      <td>100.000000</td>\n",
       "    </tr>\n",
       "    <tr>\n",
       "      <th>23404</th>\n",
       "      <td>723.133333</td>\n",
       "      <td>Charged Off</td>\n",
       "      <td>100.000000</td>\n",
       "    </tr>\n",
       "    <tr>\n",
       "      <th>23395</th>\n",
       "      <td>722.565217</td>\n",
       "      <td>Charged Off</td>\n",
       "      <td>100.000000</td>\n",
       "    </tr>\n",
       "    <tr>\n",
       "      <th>23393</th>\n",
       "      <td>722.478261</td>\n",
       "      <td>Charged Off</td>\n",
       "      <td>100.000000</td>\n",
       "    </tr>\n",
       "    <tr>\n",
       "      <th>23391</th>\n",
       "      <td>722.407407</td>\n",
       "      <td>Charged Off</td>\n",
       "      <td>100.000000</td>\n",
       "    </tr>\n",
       "    <tr>\n",
       "      <th>23366</th>\n",
       "      <td>721.562500</td>\n",
       "      <td>Charged Off</td>\n",
       "      <td>100.000000</td>\n",
       "    </tr>\n",
       "    <tr>\n",
       "      <th>...</th>\n",
       "      <td>...</td>\n",
       "      <td>...</td>\n",
       "      <td>...</td>\n",
       "    </tr>\n",
       "    <tr>\n",
       "      <th>7536</th>\n",
       "      <td>199.500000</td>\n",
       "      <td>Charged Off</td>\n",
       "      <td>25.000000</td>\n",
       "    </tr>\n",
       "    <tr>\n",
       "      <th>13181</th>\n",
       "      <td>352.000000</td>\n",
       "      <td>Charged Off</td>\n",
       "      <td>25.000000</td>\n",
       "    </tr>\n",
       "    <tr>\n",
       "      <th>17908</th>\n",
       "      <td>501.000000</td>\n",
       "      <td>Charged Off</td>\n",
       "      <td>20.000000</td>\n",
       "    </tr>\n",
       "    <tr>\n",
       "      <th>23377</th>\n",
       "      <td>722.000000</td>\n",
       "      <td>Charged Off</td>\n",
       "      <td>20.000000</td>\n",
       "    </tr>\n",
       "    <tr>\n",
       "      <th>19690</th>\n",
       "      <td>565.000000</td>\n",
       "      <td>Charged Off</td>\n",
       "      <td>20.000000</td>\n",
       "    </tr>\n",
       "    <tr>\n",
       "      <th>8083</th>\n",
       "      <td>214.000000</td>\n",
       "      <td>Charged Off</td>\n",
       "      <td>20.000000</td>\n",
       "    </tr>\n",
       "    <tr>\n",
       "      <th>6406</th>\n",
       "      <td>169.000000</td>\n",
       "      <td>Charged Off</td>\n",
       "      <td>20.000000</td>\n",
       "    </tr>\n",
       "    <tr>\n",
       "      <th>11405</th>\n",
       "      <td>303.000000</td>\n",
       "      <td>Charged Off</td>\n",
       "      <td>20.000000</td>\n",
       "    </tr>\n",
       "    <tr>\n",
       "      <th>7303</th>\n",
       "      <td>193.000000</td>\n",
       "      <td>Charged Off</td>\n",
       "      <td>20.000000</td>\n",
       "    </tr>\n",
       "    <tr>\n",
       "      <th>17265</th>\n",
       "      <td>480.000000</td>\n",
       "      <td>Charged Off</td>\n",
       "      <td>20.000000</td>\n",
       "    </tr>\n",
       "    <tr>\n",
       "      <th>1972</th>\n",
       "      <td>51.500000</td>\n",
       "      <td>Charged Off</td>\n",
       "      <td>20.000000</td>\n",
       "    </tr>\n",
       "    <tr>\n",
       "      <th>18769</th>\n",
       "      <td>532.000000</td>\n",
       "      <td>Charged Off</td>\n",
       "      <td>20.000000</td>\n",
       "    </tr>\n",
       "    <tr>\n",
       "      <th>500</th>\n",
       "      <td>11.000000</td>\n",
       "      <td>Charged Off</td>\n",
       "      <td>20.000000</td>\n",
       "    </tr>\n",
       "    <tr>\n",
       "      <th>458</th>\n",
       "      <td>10.000000</td>\n",
       "      <td>Charged Off</td>\n",
       "      <td>20.000000</td>\n",
       "    </tr>\n",
       "    <tr>\n",
       "      <th>8736</th>\n",
       "      <td>231.000000</td>\n",
       "      <td>Charged Off</td>\n",
       "      <td>20.000000</td>\n",
       "    </tr>\n",
       "    <tr>\n",
       "      <th>4312</th>\n",
       "      <td>115.000000</td>\n",
       "      <td>Charged Off</td>\n",
       "      <td>20.000000</td>\n",
       "    </tr>\n",
       "    <tr>\n",
       "      <th>14002</th>\n",
       "      <td>377.000000</td>\n",
       "      <td>Charged Off</td>\n",
       "      <td>20.000000</td>\n",
       "    </tr>\n",
       "    <tr>\n",
       "      <th>1712</th>\n",
       "      <td>44.000000</td>\n",
       "      <td>Charged Off</td>\n",
       "      <td>20.000000</td>\n",
       "    </tr>\n",
       "    <tr>\n",
       "      <th>1687</th>\n",
       "      <td>43.000000</td>\n",
       "      <td>Charged Off</td>\n",
       "      <td>20.000000</td>\n",
       "    </tr>\n",
       "    <tr>\n",
       "      <th>4615</th>\n",
       "      <td>123.000000</td>\n",
       "      <td>Charged Off</td>\n",
       "      <td>20.000000</td>\n",
       "    </tr>\n",
       "    <tr>\n",
       "      <th>16329</th>\n",
       "      <td>447.500000</td>\n",
       "      <td>Charged Off</td>\n",
       "      <td>20.000000</td>\n",
       "    </tr>\n",
       "    <tr>\n",
       "      <th>4737</th>\n",
       "      <td>126.000000</td>\n",
       "      <td>Charged Off</td>\n",
       "      <td>16.666667</td>\n",
       "    </tr>\n",
       "    <tr>\n",
       "      <th>18896</th>\n",
       "      <td>536.000000</td>\n",
       "      <td>Charged Off</td>\n",
       "      <td>16.666667</td>\n",
       "    </tr>\n",
       "    <tr>\n",
       "      <th>9499</th>\n",
       "      <td>251.000000</td>\n",
       "      <td>Charged Off</td>\n",
       "      <td>16.666667</td>\n",
       "    </tr>\n",
       "    <tr>\n",
       "      <th>19888</th>\n",
       "      <td>572.000000</td>\n",
       "      <td>Charged Off</td>\n",
       "      <td>16.666667</td>\n",
       "    </tr>\n",
       "    <tr>\n",
       "      <th>11439</th>\n",
       "      <td>304.000000</td>\n",
       "      <td>Charged Off</td>\n",
       "      <td>16.666667</td>\n",
       "    </tr>\n",
       "    <tr>\n",
       "      <th>0</th>\n",
       "      <td>0.000000</td>\n",
       "      <td>Charged Off</td>\n",
       "      <td>16.255144</td>\n",
       "    </tr>\n",
       "    <tr>\n",
       "      <th>2915</th>\n",
       "      <td>77.000000</td>\n",
       "      <td>Charged Off</td>\n",
       "      <td>14.285714</td>\n",
       "    </tr>\n",
       "    <tr>\n",
       "      <th>5596</th>\n",
       "      <td>148.000000</td>\n",
       "      <td>Charged Off</td>\n",
       "      <td>14.285714</td>\n",
       "    </tr>\n",
       "    <tr>\n",
       "      <th>1044</th>\n",
       "      <td>25.500000</td>\n",
       "      <td>Charged Off</td>\n",
       "      <td>10.000000</td>\n",
       "    </tr>\n",
       "  </tbody>\n",
       "</table>\n",
       "<p>5368 rows × 3 columns</p>\n",
       "</div>"
      ],
      "text/plain": [
       "       revol_bal_per_acc  loan_status  proportion(%)\n",
       "18083         507.250000  Charged Off     100.000000\n",
       "23242         715.818182  Charged Off     100.000000\n",
       "23271         717.090909  Charged Off     100.000000\n",
       "23269         716.954545  Charged Off     100.000000\n",
       "23267         716.866667  Charged Off     100.000000\n",
       "23262         716.666667  Charged Off     100.000000\n",
       "23254         716.441176  Charged Off     100.000000\n",
       "23253         716.440000  Charged Off     100.000000\n",
       "23249         716.125000  Charged Off     100.000000\n",
       "23236         715.484848  Charged Off     100.000000\n",
       "23279         717.320000  Charged Off     100.000000\n",
       "23207         714.200000  Charged Off     100.000000\n",
       "23193         713.666667  Charged Off     100.000000\n",
       "23185         713.307692  Charged Off     100.000000\n",
       "23184         713.272727  Charged Off     100.000000\n",
       "23181         713.181818  Charged Off     100.000000\n",
       "23179         713.148148  Charged Off     100.000000\n",
       "23178         713.133333  Charged Off     100.000000\n",
       "23272         717.103448  Charged Off     100.000000\n",
       "23288         717.913043  Charged Off     100.000000\n",
       "23175         713.050000  Charged Off     100.000000\n",
       "23383         722.125000  Charged Off     100.000000\n",
       "23420         723.846154  Charged Off     100.000000\n",
       "23419         723.840909  Charged Off     100.000000\n",
       "23417         723.810811  Charged Off     100.000000\n",
       "23404         723.133333  Charged Off     100.000000\n",
       "23395         722.565217  Charged Off     100.000000\n",
       "23393         722.478261  Charged Off     100.000000\n",
       "23391         722.407407  Charged Off     100.000000\n",
       "23366         721.562500  Charged Off     100.000000\n",
       "...                  ...          ...            ...\n",
       "7536          199.500000  Charged Off      25.000000\n",
       "13181         352.000000  Charged Off      25.000000\n",
       "17908         501.000000  Charged Off      20.000000\n",
       "23377         722.000000  Charged Off      20.000000\n",
       "19690         565.000000  Charged Off      20.000000\n",
       "8083          214.000000  Charged Off      20.000000\n",
       "6406          169.000000  Charged Off      20.000000\n",
       "11405         303.000000  Charged Off      20.000000\n",
       "7303          193.000000  Charged Off      20.000000\n",
       "17265         480.000000  Charged Off      20.000000\n",
       "1972           51.500000  Charged Off      20.000000\n",
       "18769         532.000000  Charged Off      20.000000\n",
       "500            11.000000  Charged Off      20.000000\n",
       "458            10.000000  Charged Off      20.000000\n",
       "8736          231.000000  Charged Off      20.000000\n",
       "4312          115.000000  Charged Off      20.000000\n",
       "14002         377.000000  Charged Off      20.000000\n",
       "1712           44.000000  Charged Off      20.000000\n",
       "1687           43.000000  Charged Off      20.000000\n",
       "4615          123.000000  Charged Off      20.000000\n",
       "16329         447.500000  Charged Off      20.000000\n",
       "4737          126.000000  Charged Off      16.666667\n",
       "18896         536.000000  Charged Off      16.666667\n",
       "9499          251.000000  Charged Off      16.666667\n",
       "19888         572.000000  Charged Off      16.666667\n",
       "11439         304.000000  Charged Off      16.666667\n",
       "0               0.000000  Charged Off      16.255144\n",
       "2915           77.000000  Charged Off      14.285714\n",
       "5596          148.000000  Charged Off      14.285714\n",
       "1044           25.500000  Charged Off      10.000000\n",
       "\n",
       "[5368 rows x 3 columns]"
      ]
     },
     "execution_count": 117,
     "metadata": {},
     "output_type": "execute_result"
    }
   ],
   "source": [
    "find_grouped_proportion('revol_bal_per_acc')"
   ]
  },
  {
   "cell_type": "code",
   "execution_count": 118,
   "metadata": {
    "collapsed": false
   },
   "outputs": [
    {
     "name": "stdout",
     "output_type": "stream",
     "text": [
      "0.0\n",
      "16350.8\n"
     ]
    }
   ],
   "source": [
    "print(loan_master['revol_bal_per_acc'].min())\n",
    "print(loan_master['revol_bal_per_acc'].max())"
   ]
  },
  {
   "cell_type": "code",
   "execution_count": 119,
   "metadata": {
    "collapsed": false
   },
   "outputs": [
    {
     "data": {
      "image/png": "[encoded data removed]",
      "text/plain": [
       "<matplotlib.figure.Figure at 0xb07c908>"
      ]
     },
     "metadata": {},
     "output_type": "display_data"
    }
   ],
   "source": [
    "sns.distplot(loan_master.revol_bal_per_acc)\n",
    "plt.show()"
   ]
  },
  {
   "cell_type": "code",
   "execution_count": 120,
   "metadata": {
    "collapsed": false
   },
   "outputs": [
    {
     "data": {
      "image/png": "[encoded data removed]",
      "text/plain": [
       "<matplotlib.figure.Figure at 0xb02b1d0>"
      ]
     },
     "metadata": {},
     "output_type": "display_data"
    }
   ],
   "source": [
    "sns.distplot(loan_master.revol_bal_per_acc[loan_master.revol_bal_per_acc < 500])\n",
    "plt.show()"
   ]
  },
  {
   "cell_type": "code",
   "execution_count": 121,
   "metadata": {
    "collapsed": true
   },
   "outputs": [],
   "source": [
    "# create a function to divide revol_bal_per_acc into buckets\n",
    "def Find_revol_bal_per_acc_range(x):\n",
    "    if x >=0 and x <25:\n",
    "        return '0-25'\n",
    "    if x>=25 and x < 50:\n",
    "        return '25-50'\n",
    "    elif x>=50 and x < 100:\n",
    "        return '50-100'\n",
    "    elif x>=100 and x < 200:\n",
    "        return '100-200'\n",
    "    elif x>=200 and x < 300:\n",
    "        return '200-300'\n",
    "    elif x>=300 and x < 400:\n",
    "        return '300-400'\n",
    "    elif x>=400 and x < 500:\n",
    "        return '400-500'\n",
    "    elif x>=500 and x < 1000:\n",
    "        return '500-1000'\n",
    "    elif x>=1000 and x < 1500:\n",
    "        return '1000-1500'\n",
    "    elif x>=1500 and x < 2000:\n",
    "        return '1500-2000'\n",
    "    else:\n",
    "        return 'above 2000'"
   ]
  },
  {
   "cell_type": "code",
   "execution_count": 122,
   "metadata": {
    "collapsed": true
   },
   "outputs": [],
   "source": [
    "loan_master['revol_bal_per_acc_range']= loan_master.revol_bal_per_acc.apply(Find_revol_bal_per_acc_range)"
   ]
  },
  {
   "cell_type": "code",
   "execution_count": 123,
   "metadata": {
    "collapsed": false
   },
   "outputs": [
    {
     "data": {
      "text/html": [
       "<div>\n",
       "<style>\n",
       "    .dataframe thead tr:only-child th {\n",
       "        text-align: right;\n",
       "    }\n",
       "\n",
       "    .dataframe thead th {\n",
       "        text-align: left;\n",
       "    }\n",
       "\n",
       "    .dataframe tbody tr th {\n",
       "        vertical-align: top;\n",
       "    }\n",
       "</style>\n",
       "<table border=\"1\" class=\"dataframe\">\n",
       "  <thead>\n",
       "    <tr style=\"text-align: right;\">\n",
       "      <th></th>\n",
       "      <th>revol_bal_per_acc_range</th>\n",
       "      <th>loan_status</th>\n",
       "      <th>proportion(%)</th>\n",
       "    </tr>\n",
       "  </thead>\n",
       "  <tbody>\n",
       "    <tr>\n",
       "      <th>6</th>\n",
       "      <td>1500-2000</td>\n",
       "      <td>Charged Off</td>\n",
       "      <td>16.524029</td>\n",
       "    </tr>\n",
       "    <tr>\n",
       "      <th>18</th>\n",
       "      <td>500-1000</td>\n",
       "      <td>Charged Off</td>\n",
       "      <td>15.682936</td>\n",
       "    </tr>\n",
       "    <tr>\n",
       "      <th>4</th>\n",
       "      <td>1000-1500</td>\n",
       "      <td>Charged Off</td>\n",
       "      <td>15.616300</td>\n",
       "    </tr>\n",
       "    <tr>\n",
       "      <th>14</th>\n",
       "      <td>400-500</td>\n",
       "      <td>Charged Off</td>\n",
       "      <td>14.953828</td>\n",
       "    </tr>\n",
       "    <tr>\n",
       "      <th>12</th>\n",
       "      <td>300-400</td>\n",
       "      <td>Charged Off</td>\n",
       "      <td>14.506173</td>\n",
       "    </tr>\n",
       "    <tr>\n",
       "      <th>8</th>\n",
       "      <td>200-300</td>\n",
       "      <td>Charged Off</td>\n",
       "      <td>14.219961</td>\n",
       "    </tr>\n",
       "    <tr>\n",
       "      <th>20</th>\n",
       "      <td>above 2000</td>\n",
       "      <td>Charged Off</td>\n",
       "      <td>14.008240</td>\n",
       "    </tr>\n",
       "    <tr>\n",
       "      <th>0</th>\n",
       "      <td>0-25</td>\n",
       "      <td>Charged Off</td>\n",
       "      <td>13.682746</td>\n",
       "    </tr>\n",
       "    <tr>\n",
       "      <th>2</th>\n",
       "      <td>100-200</td>\n",
       "      <td>Charged Off</td>\n",
       "      <td>12.861889</td>\n",
       "    </tr>\n",
       "    <tr>\n",
       "      <th>10</th>\n",
       "      <td>25-50</td>\n",
       "      <td>Charged Off</td>\n",
       "      <td>12.765957</td>\n",
       "    </tr>\n",
       "    <tr>\n",
       "      <th>16</th>\n",
       "      <td>50-100</td>\n",
       "      <td>Charged Off</td>\n",
       "      <td>11.704711</td>\n",
       "    </tr>\n",
       "  </tbody>\n",
       "</table>\n",
       "</div>"
      ],
      "text/plain": [
       "   revol_bal_per_acc_range  loan_status  proportion(%)\n",
       "6                1500-2000  Charged Off      16.524029\n",
       "18                500-1000  Charged Off      15.682936\n",
       "4                1000-1500  Charged Off      15.616300\n",
       "14                 400-500  Charged Off      14.953828\n",
       "12                 300-400  Charged Off      14.506173\n",
       "8                  200-300  Charged Off      14.219961\n",
       "20              above 2000  Charged Off      14.008240\n",
       "0                     0-25  Charged Off      13.682746\n",
       "2                  100-200  Charged Off      12.861889\n",
       "10                   25-50  Charged Off      12.765957\n",
       "16                  50-100  Charged Off      11.704711"
      ]
     },
     "execution_count": 123,
     "metadata": {},
     "output_type": "execute_result"
    }
   ],
   "source": [
    "find_grouped_proportion('revol_bal_per_acc_range')"
   ]
  },
  {
   "cell_type": "code",
   "execution_count": 124,
   "metadata": {
    "collapsed": false
   },
   "outputs": [
    {
     "data": {
      "image/png": "[encoded data removed]",
      "text/plain": [
       "<matplotlib.figure.Figure at 0xb7c8358>"
      ]
     },
     "metadata": {},
     "output_type": "display_data"
    }
   ],
   "source": [
    "plt.figure(figsize=(10, 8))\n",
    "sns.barplot(y=loan_master.revol_bal_per_acc_range,x=loan_master.loan_default,data=loan_master,estimator=np.mean)\n",
    "plt.axvline(x= 0.15)\n",
    "plt.show()"
   ]
  },
  {
   "cell_type": "markdown",
   "metadata": {},
   "source": [
    "Thus we do not find any substantial evidence for tendency to default based on revolving balance of total open credit lines."
   ]
  },
  {
   "cell_type": "markdown",
   "metadata": {},
   "source": [
    "### open_acc: * variable indicating the number of open credit lines in the borrower's credit file.*"
   ]
  },
  {
   "cell_type": "code",
   "execution_count": 125,
   "metadata": {
    "collapsed": false
   },
   "outputs": [
    {
     "data": {
      "image/png": "[encoded data removed]",
      "text/plain": [
       "<matplotlib.figure.Figure at 0xb7c83c8>"
      ]
     },
     "metadata": {},
     "output_type": "display_data"
    }
   ],
   "source": [
    "# check distribution of open_acc\n",
    "sns.distplot(loan_master.open_acc)\n",
    "plt.show()"
   ]
  },
  {
   "cell_type": "code",
   "execution_count": 126,
   "metadata": {
    "collapsed": true
   },
   "outputs": [],
   "source": [
    "# create a function to divide open acc into buckets\n",
    "def Find_open_acc_range(x):\n",
    "    if x >=0 and x <5:\n",
    "        return '0-5'\n",
    "    if x>=5 and x < 10:\n",
    "        return '5-10'\n",
    "    elif x>=10 and x < 15:\n",
    "        return '10-15'\n",
    "    elif x>=15 and x < 20:\n",
    "        return '15-20'\n",
    "    elif x>=20 and x < 25:\n",
    "        return '20-25'\n",
    "    else:\n",
    "        return 'above 25'"
   ]
  },
  {
   "cell_type": "code",
   "execution_count": 127,
   "metadata": {
    "collapsed": false
   },
   "outputs": [],
   "source": [
    "loan_master['open_acc_range'] = loan_master.open_acc.apply(Find_open_acc_range)"
   ]
  },
  {
   "cell_type": "code",
   "execution_count": 128,
   "metadata": {
    "collapsed": false
   },
   "outputs": [
    {
     "data": {
      "text/html": [
       "<div>\n",
       "<style>\n",
       "    .dataframe thead tr:only-child th {\n",
       "        text-align: right;\n",
       "    }\n",
       "\n",
       "    .dataframe thead th {\n",
       "        text-align: left;\n",
       "    }\n",
       "\n",
       "    .dataframe tbody tr th {\n",
       "        vertical-align: top;\n",
       "    }\n",
       "</style>\n",
       "<table border=\"1\" class=\"dataframe\">\n",
       "  <thead>\n",
       "    <tr style=\"text-align: right;\">\n",
       "      <th></th>\n",
       "      <th>open_acc_range</th>\n",
       "      <th>loan_status</th>\n",
       "      <th>proportion(%)</th>\n",
       "    </tr>\n",
       "  </thead>\n",
       "  <tbody>\n",
       "    <tr>\n",
       "      <th>10</th>\n",
       "      <td>above 25</td>\n",
       "      <td>Charged Off</td>\n",
       "      <td>21.578947</td>\n",
       "    </tr>\n",
       "    <tr>\n",
       "      <th>0</th>\n",
       "      <td>0-5</td>\n",
       "      <td>Charged Off</td>\n",
       "      <td>17.155291</td>\n",
       "    </tr>\n",
       "    <tr>\n",
       "      <th>2</th>\n",
       "      <td>10-15</td>\n",
       "      <td>Charged Off</td>\n",
       "      <td>14.480121</td>\n",
       "    </tr>\n",
       "    <tr>\n",
       "      <th>6</th>\n",
       "      <td>20-25</td>\n",
       "      <td>Charged Off</td>\n",
       "      <td>14.372716</td>\n",
       "    </tr>\n",
       "    <tr>\n",
       "      <th>8</th>\n",
       "      <td>5-10</td>\n",
       "      <td>Charged Off</td>\n",
       "      <td>14.157598</td>\n",
       "    </tr>\n",
       "    <tr>\n",
       "      <th>4</th>\n",
       "      <td>15-20</td>\n",
       "      <td>Charged Off</td>\n",
       "      <td>13.678474</td>\n",
       "    </tr>\n",
       "  </tbody>\n",
       "</table>\n",
       "</div>"
      ],
      "text/plain": [
       "   open_acc_range  loan_status  proportion(%)\n",
       "10       above 25  Charged Off      21.578947\n",
       "0             0-5  Charged Off      17.155291\n",
       "2           10-15  Charged Off      14.480121\n",
       "6           20-25  Charged Off      14.372716\n",
       "8            5-10  Charged Off      14.157598\n",
       "4           15-20  Charged Off      13.678474"
      ]
     },
     "execution_count": 128,
     "metadata": {},
     "output_type": "execute_result"
    }
   ],
   "source": [
    "find_grouped_proportion('open_acc_range')"
   ]
  },
  {
   "cell_type": "code",
   "execution_count": 129,
   "metadata": {
    "collapsed": false
   },
   "outputs": [
    {
     "data": {
      "image/png": "[encoded data removed]",
      "text/plain": [
       "<matplotlib.figure.Figure at 0xaf82550>"
      ]
     },
     "metadata": {},
     "output_type": "display_data"
    }
   ],
   "source": [
    "sns.barplot(y=loan_master.open_acc_range,x=loan_master.loan_default,data=loan_master,estimator=np.mean)\n",
    "plt.show()"
   ]
  },
  {
   "cell_type": "markdown",
   "metadata": {},
   "source": [
    "The above result does not give us any evidence that tendency to default increases with increase in open_acc values as number of records are quite less."
   ]
  },
  {
   "cell_type": "markdown",
   "metadata": {},
   "source": [
    "### mths_since_last_delinq: *variable indicating the number of months since the borrower's last delinquency.*"
   ]
  },
  {
   "cell_type": "code",
   "execution_count": 130,
   "metadata": {
    "collapsed": false
   },
   "outputs": [
    {
     "data": {
      "text/plain": [
       "0.64559193301708273"
      ]
     },
     "execution_count": 130,
     "metadata": {},
     "output_type": "execute_result"
    }
   ],
   "source": [
    "# lets check how many values are missing.\n",
    "loan_master.mths_since_last_delinq.isnull().sum()/len(loan_master)"
   ]
  },
  {
   "cell_type": "markdown",
   "metadata": {},
   "source": [
    "We see tha 65% of values are missing for mths_since_last_delinq variable"
   ]
  },
  {
   "cell_type": "code",
   "execution_count": 131,
   "metadata": {
    "collapsed": false
   },
   "outputs": [
    {
     "data": {
      "text/html": [
       "<div>\n",
       "<style>\n",
       "    .dataframe thead tr:only-child th {\n",
       "        text-align: right;\n",
       "    }\n",
       "\n",
       "    .dataframe thead th {\n",
       "        text-align: left;\n",
       "    }\n",
       "\n",
       "    .dataframe tbody tr th {\n",
       "        vertical-align: top;\n",
       "    }\n",
       "</style>\n",
       "<table border=\"1\" class=\"dataframe\">\n",
       "  <thead>\n",
       "    <tr style=\"text-align: right;\">\n",
       "      <th></th>\n",
       "      <th>mths_since_last_delinq</th>\n",
       "      <th>loan_status</th>\n",
       "      <th>proportion(%)</th>\n",
       "    </tr>\n",
       "  </thead>\n",
       "  <tbody>\n",
       "    <tr>\n",
       "      <th>176</th>\n",
       "      <td>107.0</td>\n",
       "      <td>Charged Off</td>\n",
       "      <td>100.000000</td>\n",
       "    </tr>\n",
       "    <tr>\n",
       "      <th>173</th>\n",
       "      <td>97.0</td>\n",
       "      <td>Charged Off</td>\n",
       "      <td>100.000000</td>\n",
       "    </tr>\n",
       "    <tr>\n",
       "      <th>166</th>\n",
       "      <td>83.0</td>\n",
       "      <td>Charged Off</td>\n",
       "      <td>40.000000</td>\n",
       "    </tr>\n",
       "    <tr>\n",
       "      <th>164</th>\n",
       "      <td>82.0</td>\n",
       "      <td>Charged Off</td>\n",
       "      <td>24.074074</td>\n",
       "    </tr>\n",
       "    <tr>\n",
       "      <th>38</th>\n",
       "      <td>19.0</td>\n",
       "      <td>Charged Off</td>\n",
       "      <td>22.413793</td>\n",
       "    </tr>\n",
       "    <tr>\n",
       "      <th>154</th>\n",
       "      <td>77.0</td>\n",
       "      <td>Charged Off</td>\n",
       "      <td>20.930233</td>\n",
       "    </tr>\n",
       "    <tr>\n",
       "      <th>112</th>\n",
       "      <td>56.0</td>\n",
       "      <td>Charged Off</td>\n",
       "      <td>20.930233</td>\n",
       "    </tr>\n",
       "    <tr>\n",
       "      <th>160</th>\n",
       "      <td>80.0</td>\n",
       "      <td>Charged Off</td>\n",
       "      <td>20.879121</td>\n",
       "    </tr>\n",
       "    <tr>\n",
       "      <th>2</th>\n",
       "      <td>1.0</td>\n",
       "      <td>Charged Off</td>\n",
       "      <td>20.689655</td>\n",
       "    </tr>\n",
       "    <tr>\n",
       "      <th>14</th>\n",
       "      <td>7.0</td>\n",
       "      <td>Charged Off</td>\n",
       "      <td>20.348837</td>\n",
       "    </tr>\n",
       "    <tr>\n",
       "      <th>26</th>\n",
       "      <td>13.0</td>\n",
       "      <td>Charged Off</td>\n",
       "      <td>20.000000</td>\n",
       "    </tr>\n",
       "    <tr>\n",
       "      <th>104</th>\n",
       "      <td>52.0</td>\n",
       "      <td>Charged Off</td>\n",
       "      <td>19.402985</td>\n",
       "    </tr>\n",
       "    <tr>\n",
       "      <th>100</th>\n",
       "      <td>50.0</td>\n",
       "      <td>Charged Off</td>\n",
       "      <td>19.379845</td>\n",
       "    </tr>\n",
       "    <tr>\n",
       "      <th>42</th>\n",
       "      <td>21.0</td>\n",
       "      <td>Charged Off</td>\n",
       "      <td>19.230769</td>\n",
       "    </tr>\n",
       "    <tr>\n",
       "      <th>28</th>\n",
       "      <td>14.0</td>\n",
       "      <td>Charged Off</td>\n",
       "      <td>19.148936</td>\n",
       "    </tr>\n",
       "    <tr>\n",
       "      <th>146</th>\n",
       "      <td>73.0</td>\n",
       "      <td>Charged Off</td>\n",
       "      <td>18.897638</td>\n",
       "    </tr>\n",
       "    <tr>\n",
       "      <th>30</th>\n",
       "      <td>15.0</td>\n",
       "      <td>Charged Off</td>\n",
       "      <td>18.852459</td>\n",
       "    </tr>\n",
       "    <tr>\n",
       "      <th>18</th>\n",
       "      <td>9.0</td>\n",
       "      <td>Charged Off</td>\n",
       "      <td>18.713450</td>\n",
       "    </tr>\n",
       "    <tr>\n",
       "      <th>156</th>\n",
       "      <td>78.0</td>\n",
       "      <td>Charged Off</td>\n",
       "      <td>18.681319</td>\n",
       "    </tr>\n",
       "    <tr>\n",
       "      <th>132</th>\n",
       "      <td>66.0</td>\n",
       "      <td>Charged Off</td>\n",
       "      <td>18.556701</td>\n",
       "    </tr>\n",
       "    <tr>\n",
       "      <th>106</th>\n",
       "      <td>53.0</td>\n",
       "      <td>Charged Off</td>\n",
       "      <td>18.309859</td>\n",
       "    </tr>\n",
       "    <tr>\n",
       "      <th>126</th>\n",
       "      <td>63.0</td>\n",
       "      <td>Charged Off</td>\n",
       "      <td>18.253968</td>\n",
       "    </tr>\n",
       "    <tr>\n",
       "      <th>82</th>\n",
       "      <td>41.0</td>\n",
       "      <td>Charged Off</td>\n",
       "      <td>18.229167</td>\n",
       "    </tr>\n",
       "    <tr>\n",
       "      <th>130</th>\n",
       "      <td>65.0</td>\n",
       "      <td>Charged Off</td>\n",
       "      <td>17.977528</td>\n",
       "    </tr>\n",
       "    <tr>\n",
       "      <th>102</th>\n",
       "      <td>51.0</td>\n",
       "      <td>Charged Off</td>\n",
       "      <td>17.924528</td>\n",
       "    </tr>\n",
       "    <tr>\n",
       "      <th>92</th>\n",
       "      <td>46.0</td>\n",
       "      <td>Charged Off</td>\n",
       "      <td>17.894737</td>\n",
       "    </tr>\n",
       "    <tr>\n",
       "      <th>32</th>\n",
       "      <td>16.0</td>\n",
       "      <td>Charged Off</td>\n",
       "      <td>17.874396</td>\n",
       "    </tr>\n",
       "    <tr>\n",
       "      <th>162</th>\n",
       "      <td>81.0</td>\n",
       "      <td>Charged Off</td>\n",
       "      <td>17.777778</td>\n",
       "    </tr>\n",
       "    <tr>\n",
       "      <th>148</th>\n",
       "      <td>74.0</td>\n",
       "      <td>Charged Off</td>\n",
       "      <td>17.699115</td>\n",
       "    </tr>\n",
       "    <tr>\n",
       "      <th>134</th>\n",
       "      <td>67.0</td>\n",
       "      <td>Charged Off</td>\n",
       "      <td>17.592593</td>\n",
       "    </tr>\n",
       "    <tr>\n",
       "      <th>...</th>\n",
       "      <td>...</td>\n",
       "      <td>...</td>\n",
       "      <td>...</td>\n",
       "    </tr>\n",
       "    <tr>\n",
       "      <th>44</th>\n",
       "      <td>22.0</td>\n",
       "      <td>Charged Off</td>\n",
       "      <td>14.912281</td>\n",
       "    </tr>\n",
       "    <tr>\n",
       "      <th>74</th>\n",
       "      <td>37.0</td>\n",
       "      <td>Charged Off</td>\n",
       "      <td>14.814815</td>\n",
       "    </tr>\n",
       "    <tr>\n",
       "      <th>80</th>\n",
       "      <td>40.0</td>\n",
       "      <td>Charged Off</td>\n",
       "      <td>14.583333</td>\n",
       "    </tr>\n",
       "    <tr>\n",
       "      <th>10</th>\n",
       "      <td>5.0</td>\n",
       "      <td>Charged Off</td>\n",
       "      <td>14.482759</td>\n",
       "    </tr>\n",
       "    <tr>\n",
       "      <th>22</th>\n",
       "      <td>11.0</td>\n",
       "      <td>Charged Off</td>\n",
       "      <td>14.465409</td>\n",
       "    </tr>\n",
       "    <tr>\n",
       "      <th>56</th>\n",
       "      <td>28.0</td>\n",
       "      <td>Charged Off</td>\n",
       "      <td>14.130435</td>\n",
       "    </tr>\n",
       "    <tr>\n",
       "      <th>122</th>\n",
       "      <td>61.0</td>\n",
       "      <td>Charged Off</td>\n",
       "      <td>14.018692</td>\n",
       "    </tr>\n",
       "    <tr>\n",
       "      <th>6</th>\n",
       "      <td>3.0</td>\n",
       "      <td>Charged Off</td>\n",
       "      <td>13.986014</td>\n",
       "    </tr>\n",
       "    <tr>\n",
       "      <th>66</th>\n",
       "      <td>33.0</td>\n",
       "      <td>Charged Off</td>\n",
       "      <td>13.812155</td>\n",
       "    </tr>\n",
       "    <tr>\n",
       "      <th>98</th>\n",
       "      <td>49.0</td>\n",
       "      <td>Charged Off</td>\n",
       "      <td>13.422819</td>\n",
       "    </tr>\n",
       "    <tr>\n",
       "      <th>152</th>\n",
       "      <td>76.0</td>\n",
       "      <td>Charged Off</td>\n",
       "      <td>13.084112</td>\n",
       "    </tr>\n",
       "    <tr>\n",
       "      <th>158</th>\n",
       "      <td>79.0</td>\n",
       "      <td>Charged Off</td>\n",
       "      <td>12.871287</td>\n",
       "    </tr>\n",
       "    <tr>\n",
       "      <th>52</th>\n",
       "      <td>26.0</td>\n",
       "      <td>Charged Off</td>\n",
       "      <td>12.857143</td>\n",
       "    </tr>\n",
       "    <tr>\n",
       "      <th>84</th>\n",
       "      <td>42.0</td>\n",
       "      <td>Charged Off</td>\n",
       "      <td>12.745098</td>\n",
       "    </tr>\n",
       "    <tr>\n",
       "      <th>16</th>\n",
       "      <td>8.0</td>\n",
       "      <td>Charged Off</td>\n",
       "      <td>12.727273</td>\n",
       "    </tr>\n",
       "    <tr>\n",
       "      <th>62</th>\n",
       "      <td>31.0</td>\n",
       "      <td>Charged Off</td>\n",
       "      <td>12.727273</td>\n",
       "    </tr>\n",
       "    <tr>\n",
       "      <th>34</th>\n",
       "      <td>17.0</td>\n",
       "      <td>Charged Off</td>\n",
       "      <td>12.621359</td>\n",
       "    </tr>\n",
       "    <tr>\n",
       "      <th>114</th>\n",
       "      <td>57.0</td>\n",
       "      <td>Charged Off</td>\n",
       "      <td>12.500000</td>\n",
       "    </tr>\n",
       "    <tr>\n",
       "      <th>76</th>\n",
       "      <td>38.0</td>\n",
       "      <td>Charged Off</td>\n",
       "      <td>12.446352</td>\n",
       "    </tr>\n",
       "    <tr>\n",
       "      <th>138</th>\n",
       "      <td>69.0</td>\n",
       "      <td>Charged Off</td>\n",
       "      <td>12.380952</td>\n",
       "    </tr>\n",
       "    <tr>\n",
       "      <th>70</th>\n",
       "      <td>35.0</td>\n",
       "      <td>Charged Off</td>\n",
       "      <td>12.107623</td>\n",
       "    </tr>\n",
       "    <tr>\n",
       "      <th>72</th>\n",
       "      <td>36.0</td>\n",
       "      <td>Charged Off</td>\n",
       "      <td>11.881188</td>\n",
       "    </tr>\n",
       "    <tr>\n",
       "      <th>110</th>\n",
       "      <td>55.0</td>\n",
       "      <td>Charged Off</td>\n",
       "      <td>11.811024</td>\n",
       "    </tr>\n",
       "    <tr>\n",
       "      <th>64</th>\n",
       "      <td>32.0</td>\n",
       "      <td>Charged Off</td>\n",
       "      <td>11.764706</td>\n",
       "    </tr>\n",
       "    <tr>\n",
       "      <th>128</th>\n",
       "      <td>64.0</td>\n",
       "      <td>Charged Off</td>\n",
       "      <td>11.702128</td>\n",
       "    </tr>\n",
       "    <tr>\n",
       "      <th>108</th>\n",
       "      <td>54.0</td>\n",
       "      <td>Charged Off</td>\n",
       "      <td>11.403509</td>\n",
       "    </tr>\n",
       "    <tr>\n",
       "      <th>68</th>\n",
       "      <td>34.0</td>\n",
       "      <td>Charged Off</td>\n",
       "      <td>10.994764</td>\n",
       "    </tr>\n",
       "    <tr>\n",
       "      <th>58</th>\n",
       "      <td>29.0</td>\n",
       "      <td>Charged Off</td>\n",
       "      <td>10.784314</td>\n",
       "    </tr>\n",
       "    <tr>\n",
       "      <th>118</th>\n",
       "      <td>59.0</td>\n",
       "      <td>Charged Off</td>\n",
       "      <td>9.929078</td>\n",
       "    </tr>\n",
       "    <tr>\n",
       "      <th>40</th>\n",
       "      <td>20.0</td>\n",
       "      <td>Charged Off</td>\n",
       "      <td>8.407080</td>\n",
       "    </tr>\n",
       "  </tbody>\n",
       "</table>\n",
       "<p>86 rows × 3 columns</p>\n",
       "</div>"
      ],
      "text/plain": [
       "     mths_since_last_delinq  loan_status  proportion(%)\n",
       "176                   107.0  Charged Off     100.000000\n",
       "173                    97.0  Charged Off     100.000000\n",
       "166                    83.0  Charged Off      40.000000\n",
       "164                    82.0  Charged Off      24.074074\n",
       "38                     19.0  Charged Off      22.413793\n",
       "154                    77.0  Charged Off      20.930233\n",
       "112                    56.0  Charged Off      20.930233\n",
       "160                    80.0  Charged Off      20.879121\n",
       "2                       1.0  Charged Off      20.689655\n",
       "14                      7.0  Charged Off      20.348837\n",
       "26                     13.0  Charged Off      20.000000\n",
       "104                    52.0  Charged Off      19.402985\n",
       "100                    50.0  Charged Off      19.379845\n",
       "42                     21.0  Charged Off      19.230769\n",
       "28                     14.0  Charged Off      19.148936\n",
       "146                    73.0  Charged Off      18.897638\n",
       "30                     15.0  Charged Off      18.852459\n",
       "18                      9.0  Charged Off      18.713450\n",
       "156                    78.0  Charged Off      18.681319\n",
       "132                    66.0  Charged Off      18.556701\n",
       "106                    53.0  Charged Off      18.309859\n",
       "126                    63.0  Charged Off      18.253968\n",
       "82                     41.0  Charged Off      18.229167\n",
       "130                    65.0  Charged Off      17.977528\n",
       "102                    51.0  Charged Off      17.924528\n",
       "92                     46.0  Charged Off      17.894737\n",
       "32                     16.0  Charged Off      17.874396\n",
       "162                    81.0  Charged Off      17.777778\n",
       "148                    74.0  Charged Off      17.699115\n",
       "134                    67.0  Charged Off      17.592593\n",
       "..                      ...          ...            ...\n",
       "44                     22.0  Charged Off      14.912281\n",
       "74                     37.0  Charged Off      14.814815\n",
       "80                     40.0  Charged Off      14.583333\n",
       "10                      5.0  Charged Off      14.482759\n",
       "22                     11.0  Charged Off      14.465409\n",
       "56                     28.0  Charged Off      14.130435\n",
       "122                    61.0  Charged Off      14.018692\n",
       "6                       3.0  Charged Off      13.986014\n",
       "66                     33.0  Charged Off      13.812155\n",
       "98                     49.0  Charged Off      13.422819\n",
       "152                    76.0  Charged Off      13.084112\n",
       "158                    79.0  Charged Off      12.871287\n",
       "52                     26.0  Charged Off      12.857143\n",
       "84                     42.0  Charged Off      12.745098\n",
       "16                      8.0  Charged Off      12.727273\n",
       "62                     31.0  Charged Off      12.727273\n",
       "34                     17.0  Charged Off      12.621359\n",
       "114                    57.0  Charged Off      12.500000\n",
       "76                     38.0  Charged Off      12.446352\n",
       "138                    69.0  Charged Off      12.380952\n",
       "70                     35.0  Charged Off      12.107623\n",
       "72                     36.0  Charged Off      11.881188\n",
       "110                    55.0  Charged Off      11.811024\n",
       "64                     32.0  Charged Off      11.764706\n",
       "128                    64.0  Charged Off      11.702128\n",
       "108                    54.0  Charged Off      11.403509\n",
       "68                     34.0  Charged Off      10.994764\n",
       "58                     29.0  Charged Off      10.784314\n",
       "118                    59.0  Charged Off       9.929078\n",
       "40                     20.0  Charged Off       8.407080\n",
       "\n",
       "[86 rows x 3 columns]"
      ]
     },
     "execution_count": 131,
     "metadata": {},
     "output_type": "execute_result"
    }
   ],
   "source": [
    "find_grouped_proportion('mths_since_last_delinq')\n"
   ]
  },
  {
   "cell_type": "markdown",
   "metadata": {},
   "source": [
    "We do not observe any substantial pattern which might indicate mths_since_last_delinq is a driver variable, moreover since 65% values are missing and we cannot know if in these cases there was no delinquency or data was not available, we will not include this as one of the driver variables."
   ]
  },
  {
   "cell_type": "markdown",
   "metadata": {},
   "source": [
    "### earliest_cr_line: * variable indicating the month the borrower's earliest reported credit line was opened.*"
   ]
  },
  {
   "cell_type": "code",
   "execution_count": 132,
   "metadata": {
    "collapsed": false
   },
   "outputs": [],
   "source": [
    "# convert earliest_cr_line to date time format\n",
    "loan_master.earliest_cr_line = pd.to_datetime(loan_master.earliest_cr_line,format='%b-%y')"
   ]
  },
  {
   "cell_type": "code",
   "execution_count": 133,
   "metadata": {
    "collapsed": true
   },
   "outputs": [],
   "source": [
    "# create a new derived metric by Type to represent month\n",
    "loan_master['earliest_cr_line_month']= loan_master.earliest_cr_line.dt.month"
   ]
  },
  {
   "cell_type": "code",
   "execution_count": 134,
   "metadata": {
    "collapsed": false
   },
   "outputs": [
    {
     "data": {
      "image/png": "[encoded data removed]",
      "text/plain": [
       "<matplotlib.figure.Figure at 0xb7a1208>"
      ]
     },
     "metadata": {},
     "output_type": "display_data"
    }
   ],
   "source": [
    "plt.figure(figsize=(10,8))\n",
    "sns.barplot(x='earliest_cr_line_month',y='loan_default',data=loan_master, estimator=np.mean,ci=None)\n",
    "plt.axhline(y=0.15)\n",
    "plt.show()"
   ]
  },
  {
   "cell_type": "markdown",
   "metadata": {
    "collapsed": true
   },
   "source": [
    "From above we cannot conclude that earliest_cr_line has any impact on tendency to default."
   ]
  },
  {
   "cell_type": "markdown",
   "metadata": {},
   "source": [
    "Let’s check correlations between some of the driver variables we have identified also including leverage variables like interest rate and term."
   ]
  },
  {
   "cell_type": "code",
   "execution_count": 135,
   "metadata": {
    "collapsed": false
   },
   "outputs": [],
   "source": [
    "ls_quant = ['loan_inc_ratio','revol_util','dti','loan_amnt'\n",
    "            ,'int_rate','annual_inc','revol_bal','term']"
   ]
  },
  {
   "cell_type": "code",
   "execution_count": 136,
   "metadata": {
    "collapsed": false
   },
   "outputs": [
    {
     "data": {
      "text/html": [
       "<div>\n",
       "<style>\n",
       "    .dataframe thead tr:only-child th {\n",
       "        text-align: right;\n",
       "    }\n",
       "\n",
       "    .dataframe thead th {\n",
       "        text-align: left;\n",
       "    }\n",
       "\n",
       "    .dataframe tbody tr th {\n",
       "        vertical-align: top;\n",
       "    }\n",
       "</style>\n",
       "<table border=\"1\" class=\"dataframe\">\n",
       "  <thead>\n",
       "    <tr style=\"text-align: right;\">\n",
       "      <th></th>\n",
       "      <th>loan_inc_ratio</th>\n",
       "      <th>revol_util</th>\n",
       "      <th>dti</th>\n",
       "      <th>loan_amnt</th>\n",
       "      <th>int_rate</th>\n",
       "      <th>annual_inc</th>\n",
       "      <th>revol_bal</th>\n",
       "      <th>term</th>\n",
       "    </tr>\n",
       "  </thead>\n",
       "  <tbody>\n",
       "    <tr>\n",
       "      <th>0</th>\n",
       "      <td>0.208333</td>\n",
       "      <td>83.7</td>\n",
       "      <td>27.65</td>\n",
       "      <td>5000</td>\n",
       "      <td>10.65</td>\n",
       "      <td>24000.0</td>\n",
       "      <td>13648</td>\n",
       "      <td>36</td>\n",
       "    </tr>\n",
       "    <tr>\n",
       "      <th>1</th>\n",
       "      <td>0.083333</td>\n",
       "      <td>9.4</td>\n",
       "      <td>1.00</td>\n",
       "      <td>2500</td>\n",
       "      <td>15.27</td>\n",
       "      <td>30000.0</td>\n",
       "      <td>1687</td>\n",
       "      <td>60</td>\n",
       "    </tr>\n",
       "    <tr>\n",
       "      <th>2</th>\n",
       "      <td>0.195886</td>\n",
       "      <td>98.5</td>\n",
       "      <td>8.72</td>\n",
       "      <td>2400</td>\n",
       "      <td>15.96</td>\n",
       "      <td>12252.0</td>\n",
       "      <td>2956</td>\n",
       "      <td>36</td>\n",
       "    </tr>\n",
       "    <tr>\n",
       "      <th>3</th>\n",
       "      <td>0.203252</td>\n",
       "      <td>21.0</td>\n",
       "      <td>20.00</td>\n",
       "      <td>10000</td>\n",
       "      <td>13.49</td>\n",
       "      <td>49200.0</td>\n",
       "      <td>5598</td>\n",
       "      <td>36</td>\n",
       "    </tr>\n",
       "    <tr>\n",
       "      <th>5</th>\n",
       "      <td>0.138889</td>\n",
       "      <td>28.3</td>\n",
       "      <td>11.20</td>\n",
       "      <td>5000</td>\n",
       "      <td>7.90</td>\n",
       "      <td>36000.0</td>\n",
       "      <td>7963</td>\n",
       "      <td>36</td>\n",
       "    </tr>\n",
       "  </tbody>\n",
       "</table>\n",
       "</div>"
      ],
      "text/plain": [
       "   loan_inc_ratio  revol_util    dti  loan_amnt  int_rate  annual_inc  \\\n",
       "0        0.208333        83.7  27.65       5000     10.65     24000.0   \n",
       "1        0.083333         9.4   1.00       2500     15.27     30000.0   \n",
       "2        0.195886        98.5   8.72       2400     15.96     12252.0   \n",
       "3        0.203252        21.0  20.00      10000     13.49     49200.0   \n",
       "5        0.138889        28.3  11.20       5000      7.90     36000.0   \n",
       "\n",
       "   revol_bal  term  \n",
       "0      13648    36  \n",
       "1       1687    60  \n",
       "2       2956    36  \n",
       "3       5598    36  \n",
       "5       7963    36  "
      ]
     },
     "execution_count": 136,
     "metadata": {},
     "output_type": "execute_result"
    }
   ],
   "source": [
    "loan_master[ls_quant].head()"
   ]
  },
  {
   "cell_type": "code",
   "execution_count": 137,
   "metadata": {
    "collapsed": false
   },
   "outputs": [
    {
     "data": {
      "image/png": "[encoded data removed]",
      "text/plain": [
       "<matplotlib.figure.Figure at 0xb09fe80>"
      ]
     },
     "metadata": {},
     "output_type": "display_data"
    }
   ],
   "source": [
    "plt.figure(figsize=(10, 6))\n",
    "sns.heatmap(loan_master[ls_quant].corr(), cmap=\"YlGnBu\")\n",
    "plt.show()"
   ]
  },
  {
   "cell_type": "markdown",
   "metadata": {},
   "source": [
    "We observe as expected loan_inc_ratio has strong correlation with loan amount, while interest has a strong correlation with term.\n",
    "Loan amount also has slight correlation with interest rate and term and also revolving balance.\n",
    "Revolving utilization also has slight correlation with revolving balance. These two also have slight correlation with dti.\n",
    "\n",
    "In summary we have not included any two variables having very strong correlation as our driver variables show below.\n"
   ]
  },
  {
   "cell_type": "code",
   "execution_count": 138,
   "metadata": {
    "collapsed": false
   },
   "outputs": [
    {
     "name": "stdout",
     "output_type": "stream",
     "text": [
      "['purpose', 'inq_last_6mths', 'pub_rec', 'delinq_2yrs', 'loan_inc_ratio', 'dti', 'revol_util']\n"
     ]
    }
   ],
   "source": [
    "# list of driver variables which influence the tendency to default.\n",
    "print(ls_driver_var)"
   ]
  },
  {
   "cell_type": "markdown",
   "metadata": {},
   "source": [
    "## Conclusion\n",
    "\n",
    "Following is the summary variables we found as useful indicators for tendency to default and our recommendations for the same:\n",
    "\n",
    "* **purpose**: purpose of loan: we found that some purposes for loan have a higher tendency for default like small business, renewable energy, education and others. Some of this might be due to risk associated with these ventures. Our recommendation would be to increase interest rate or term (where interest rate is already high) for such loans.\n",
    "\n",
    "* **inq_last_6mths**:The number of inquiries in past 6 months: we found that tendency to default increases as number of inquiries in past 6 months increases beyond 2, this suggests an evidence of 'credit seeking behaviour' on part of loan applicant. In such cases we suggest increasing interest rate or lowering the funded amount in cases where interest rate is already high to minimize the potential loss due to default.\n",
    "\n",
    "* **pub_rec**: Number of derogatory public records: we found that if there is a record of derogatory public records present for a loan applicant that substantially increases the tendency for default. In such case we would suggest to increase the interest rate or lower the funded amount.\n",
    "\n",
    "* **delinq_2yrs**: number of 30+ days delinquencies for applicant in past 2 years: we do observe that there is a slight increase in tendency to default if higher number of delinquencies are reported. We would suggest a marginal increase in interest rate in such cases.\n",
    "\n",
    "* **loan_inc_ratio**: loan to income ratio: We found this derived metric to be a strong indicator of tendency to default, particularly if loan to income ratio goes beyond 40%. We recommend that while term could be increased for loan income ration beyond 40%, loan should be declined in cases the loan income ratio is beyond 60%.\n",
    "\n",
    "* **revol_util**:Revolving line utilization rate, or the amount of credit the borrower is using relative to all available revolving credit: We found that there is an increase in tendency to default in case the revol_util increase beyond 60% and indicates an over dependency on credit on part of loan applicant. We would recommend marginally increasing the interest rate and lowering the funded amount in such cases.\n",
    "\n",
    "* **dti**: Debt to Income Ratio: We observe that increase in dti has an impact of tendency to default which also indicates that a high portion of loan applicant's income is going towards debt repayment and hence reducing his ability to repay additional borrowings. In such case we would recommend to increase the term to lower monthly payment for cases where dti is greater than 18% and declining the loan application if dti exceeds 30%.\n",
    "\n",
    "We also observe from the data set that while there are multiple slabs for interest rates which server as a good leverage to LC to minimize risk, we feel that we could also have additional slabs in term as well instead of the 36/60 term values that we have currently have to give more leverage to adjust for risky loan applicant profiles.\n"
   ]
  }
 ],
 "metadata": {
  "kernelspec": {
   "display_name": "Python 3",
   "language": "python",
   "name": "python3"
  },
  "language_info": {
   "codemirror_mode": {
    "name": "ipython",
    "version": 3
   },
   "file_extension": ".py",
   "mimetype": "text/x-python",
   "name": "python",
   "nbconvert_exporter": "python",
   "pygments_lexer": "ipython3",
   "version": "3.6.0"
  }
 },
 "nbformat": 4,
 "nbformat_minor": 2
}
